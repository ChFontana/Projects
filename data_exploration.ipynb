{
 "cells": [
  {
   "attachments": {},
   "cell_type": "markdown",
   "metadata": {},
   "source": [
    "# Libraries"
   ]
  },
  {
   "cell_type": "code",
   "execution_count": 1,
   "metadata": {},
   "outputs": [],
   "source": [
    "# Import libraries.\n",
    "import numpy as np\n",
    "import pandas as pd\n",
    "import matplotlib.pyplot as plt\n",
    "import seaborn as sns\n"
   ]
  },
  {
   "cell_type": "code",
   "execution_count": 19,
   "metadata": {},
   "outputs": [
    {
     "data": {
      "text/plain": [
       "Index(['COMPANY_ID', 'TS', 'TARGETING_TYPE', 'OBJECTIVE', 'SPEND',\n",
       "       'IMPRESSIONS', 'LINK_CLICKS', 'REVENUE', 'PURCHASE_COUNT',\n",
       "       'VIDEO_VIEWS'],\n",
       "      dtype='object')"
      ]
     },
     "execution_count": 19,
     "metadata": {},
     "output_type": "execute_result"
    }
   ],
   "source": [
    "df.columns"
   ]
  },
  {
   "attachments": {},
   "cell_type": "markdown",
   "metadata": {},
   "source": [
    "# Data"
   ]
  },
  {
   "cell_type": "code",
   "execution_count": 3,
   "metadata": {},
   "outputs": [
    {
     "data": {
      "text/html": [
       "<div>\n",
       "<style scoped>\n",
       "    .dataframe tbody tr th:only-of-type {\n",
       "        vertical-align: middle;\n",
       "    }\n",
       "\n",
       "    .dataframe tbody tr th {\n",
       "        vertical-align: top;\n",
       "    }\n",
       "\n",
       "    .dataframe thead th {\n",
       "        text-align: right;\n",
       "    }\n",
       "</style>\n",
       "<table border=\"1\" class=\"dataframe\">\n",
       "  <thead>\n",
       "    <tr style=\"text-align: right;\">\n",
       "      <th></th>\n",
       "      <th>COMPANY_ID</th>\n",
       "      <th>TS</th>\n",
       "      <th>TARGETING_TYPE</th>\n",
       "      <th>OBJECTIVE</th>\n",
       "      <th>SPEND</th>\n",
       "      <th>IMPRESSIONS</th>\n",
       "      <th>LINK_CLICKS</th>\n",
       "      <th>REVENUE</th>\n",
       "      <th>PURCHASE_COUNT</th>\n",
       "      <th>VIDEO_VIEWS</th>\n",
       "    </tr>\n",
       "  </thead>\n",
       "  <tbody>\n",
       "    <tr>\n",
       "      <th>0</th>\n",
       "      <td>a54505e6a589aa3b38674ef107da13c1</td>\n",
       "      <td>2023-04-16</td>\n",
       "      <td>prospecting</td>\n",
       "      <td>OUTCOME_LEADS</td>\n",
       "      <td>268.630000</td>\n",
       "      <td>6245.0</td>\n",
       "      <td>36.0</td>\n",
       "      <td>NaN</td>\n",
       "      <td>NaN</td>\n",
       "      <td>506.0</td>\n",
       "    </tr>\n",
       "    <tr>\n",
       "      <th>1</th>\n",
       "      <td>c05c0c0aa89b97effea59096cad7bd60</td>\n",
       "      <td>2023-04-20</td>\n",
       "      <td>prospecting</td>\n",
       "      <td>OUTCOME_SALES</td>\n",
       "      <td>580.910000</td>\n",
       "      <td>486131.0</td>\n",
       "      <td>1841.0</td>\n",
       "      <td>NaN</td>\n",
       "      <td>NaN</td>\n",
       "      <td>75936.0</td>\n",
       "    </tr>\n",
       "    <tr>\n",
       "      <th>2</th>\n",
       "      <td>fbfe5ba2ce3309f522c335e949435612</td>\n",
       "      <td>2023-03-21</td>\n",
       "      <td>lookalike</td>\n",
       "      <td>CONVERSIONS</td>\n",
       "      <td>175.124778</td>\n",
       "      <td>52388.0</td>\n",
       "      <td>455.0</td>\n",
       "      <td>946.157880</td>\n",
       "      <td>18.0</td>\n",
       "      <td>379.0</td>\n",
       "    </tr>\n",
       "    <tr>\n",
       "      <th>3</th>\n",
       "      <td>fbfe5ba2ce3309f522c335e949435612</td>\n",
       "      <td>2023-03-21</td>\n",
       "      <td>prospecting</td>\n",
       "      <td>OUTCOME_SALES</td>\n",
       "      <td>378.670964</td>\n",
       "      <td>62842.0</td>\n",
       "      <td>1266.0</td>\n",
       "      <td>2872.701574</td>\n",
       "      <td>46.0</td>\n",
       "      <td>NaN</td>\n",
       "    </tr>\n",
       "    <tr>\n",
       "      <th>4</th>\n",
       "      <td>b7046757c3682a28c5bf2024e57678a0</td>\n",
       "      <td>2023-04-16</td>\n",
       "      <td>prospecting</td>\n",
       "      <td>OUTCOME_SALES</td>\n",
       "      <td>NaN</td>\n",
       "      <td>NaN</td>\n",
       "      <td>NaN</td>\n",
       "      <td>NaN</td>\n",
       "      <td>NaN</td>\n",
       "      <td>NaN</td>\n",
       "    </tr>\n",
       "    <tr>\n",
       "      <th>...</th>\n",
       "      <td>...</td>\n",
       "      <td>...</td>\n",
       "      <td>...</td>\n",
       "      <td>...</td>\n",
       "      <td>...</td>\n",
       "      <td>...</td>\n",
       "      <td>...</td>\n",
       "      <td>...</td>\n",
       "      <td>...</td>\n",
       "      <td>...</td>\n",
       "    </tr>\n",
       "    <tr>\n",
       "      <th>136319</th>\n",
       "      <td>fc2022c89b61c76bbef978f1370660bf</td>\n",
       "      <td>2023-04-20</td>\n",
       "      <td>lookalike</td>\n",
       "      <td>LEAD_GENERATION</td>\n",
       "      <td>16.726627</td>\n",
       "      <td>2110.0</td>\n",
       "      <td>52.0</td>\n",
       "      <td>NaN</td>\n",
       "      <td>NaN</td>\n",
       "      <td>NaN</td>\n",
       "    </tr>\n",
       "    <tr>\n",
       "      <th>136320</th>\n",
       "      <td>3695d85c350d924e662ea2cd3b760d40</td>\n",
       "      <td>2023-03-06</td>\n",
       "      <td>prospecting</td>\n",
       "      <td>LEAD_GENERATION</td>\n",
       "      <td>51.620000</td>\n",
       "      <td>11148.0</td>\n",
       "      <td>235.0</td>\n",
       "      <td>NaN</td>\n",
       "      <td>NaN</td>\n",
       "      <td>2149.0</td>\n",
       "    </tr>\n",
       "    <tr>\n",
       "      <th>136321</th>\n",
       "      <td>2ac82abfbbba61cc903d25f55ed38aa8</td>\n",
       "      <td>2023-05-10</td>\n",
       "      <td>prospecting</td>\n",
       "      <td>LINK_CLICKS</td>\n",
       "      <td>4.370000</td>\n",
       "      <td>763.0</td>\n",
       "      <td>14.0</td>\n",
       "      <td>NaN</td>\n",
       "      <td>NaN</td>\n",
       "      <td>NaN</td>\n",
       "    </tr>\n",
       "    <tr>\n",
       "      <th>136322</th>\n",
       "      <td>56503192b14190d3826780d47c0d3bf3</td>\n",
       "      <td>2023-03-08</td>\n",
       "      <td>lookalike</td>\n",
       "      <td>CONVERSIONS</td>\n",
       "      <td>1877.370000</td>\n",
       "      <td>59987.0</td>\n",
       "      <td>721.0</td>\n",
       "      <td>4131.850000</td>\n",
       "      <td>22.0</td>\n",
       "      <td>247.0</td>\n",
       "    </tr>\n",
       "    <tr>\n",
       "      <th>136323</th>\n",
       "      <td>fc1c379653b4feca4252b4d078352c4d</td>\n",
       "      <td>2023-05-13</td>\n",
       "      <td>prospecting</td>\n",
       "      <td>VIDEO_VIEWS</td>\n",
       "      <td>19.598780</td>\n",
       "      <td>6157.0</td>\n",
       "      <td>4.0</td>\n",
       "      <td>NaN</td>\n",
       "      <td>NaN</td>\n",
       "      <td>3506.0</td>\n",
       "    </tr>\n",
       "  </tbody>\n",
       "</table>\n",
       "<p>136324 rows × 10 columns</p>\n",
       "</div>"
      ],
      "text/plain": [
       "                              COMPANY_ID          TS TARGETING_TYPE  \\\n",
       "0       a54505e6a589aa3b38674ef107da13c1  2023-04-16    prospecting   \n",
       "1       c05c0c0aa89b97effea59096cad7bd60  2023-04-20    prospecting   \n",
       "2       fbfe5ba2ce3309f522c335e949435612  2023-03-21      lookalike   \n",
       "3       fbfe5ba2ce3309f522c335e949435612  2023-03-21    prospecting   \n",
       "4       b7046757c3682a28c5bf2024e57678a0  2023-04-16    prospecting   \n",
       "...                                  ...         ...            ...   \n",
       "136319  fc2022c89b61c76bbef978f1370660bf  2023-04-20      lookalike   \n",
       "136320  3695d85c350d924e662ea2cd3b760d40  2023-03-06    prospecting   \n",
       "136321  2ac82abfbbba61cc903d25f55ed38aa8  2023-05-10    prospecting   \n",
       "136322  56503192b14190d3826780d47c0d3bf3  2023-03-08      lookalike   \n",
       "136323  fc1c379653b4feca4252b4d078352c4d  2023-05-13    prospecting   \n",
       "\n",
       "              OBJECTIVE        SPEND  IMPRESSIONS  LINK_CLICKS      REVENUE  \\\n",
       "0         OUTCOME_LEADS   268.630000       6245.0         36.0          NaN   \n",
       "1         OUTCOME_SALES   580.910000     486131.0       1841.0          NaN   \n",
       "2           CONVERSIONS   175.124778      52388.0        455.0   946.157880   \n",
       "3         OUTCOME_SALES   378.670964      62842.0       1266.0  2872.701574   \n",
       "4         OUTCOME_SALES          NaN          NaN          NaN          NaN   \n",
       "...                 ...          ...          ...          ...          ...   \n",
       "136319  LEAD_GENERATION    16.726627       2110.0         52.0          NaN   \n",
       "136320  LEAD_GENERATION    51.620000      11148.0        235.0          NaN   \n",
       "136321      LINK_CLICKS     4.370000        763.0         14.0          NaN   \n",
       "136322      CONVERSIONS  1877.370000      59987.0        721.0  4131.850000   \n",
       "136323      VIDEO_VIEWS    19.598780       6157.0          4.0          NaN   \n",
       "\n",
       "        PURCHASE_COUNT  VIDEO_VIEWS  \n",
       "0                  NaN        506.0  \n",
       "1                  NaN      75936.0  \n",
       "2                 18.0        379.0  \n",
       "3                 46.0          NaN  \n",
       "4                  NaN          NaN  \n",
       "...                ...          ...  \n",
       "136319             NaN          NaN  \n",
       "136320             NaN       2149.0  \n",
       "136321             NaN          NaN  \n",
       "136322            22.0        247.0  \n",
       "136323             NaN       3506.0  \n",
       "\n",
       "[136324 rows x 10 columns]"
      ]
     },
     "execution_count": 3,
     "metadata": {},
     "output_type": "execute_result"
    }
   ],
   "source": [
    "# Load the data from downloaded csv file.\n",
    "df = pd.read_csv(\"C:/Users/cfont/Downloads/data_varos.csv\")\n",
    "df"
   ]
  },
  {
   "attachments": {},
   "cell_type": "markdown",
   "metadata": {},
   "source": [
    "# Inspect the data."
   ]
  },
  {
   "cell_type": "code",
   "execution_count": 4,
   "metadata": {},
   "outputs": [
    {
     "data": {
      "text/plain": [
       "COMPANY_ID            0\n",
       "TS                    0\n",
       "TARGETING_TYPE        0\n",
       "OBJECTIVE             0\n",
       "SPEND              4065\n",
       "IMPRESSIONS        3968\n",
       "LINK_CLICKS        6823\n",
       "REVENUE           47755\n",
       "PURCHASE_COUNT    45230\n",
       "VIDEO_VIEWS       37346\n",
       "dtype: int64"
      ]
     },
     "execution_count": 4,
     "metadata": {},
     "output_type": "execute_result"
    }
   ],
   "source": [
    "# Check for nulls.\n",
    "df.isnull().sum()"
   ]
  },
  {
   "cell_type": "code",
   "execution_count": 9,
   "metadata": {},
   "outputs": [
    {
     "data": {
      "text/html": [
       "<div>\n",
       "<style scoped>\n",
       "    .dataframe tbody tr th:only-of-type {\n",
       "        vertical-align: middle;\n",
       "    }\n",
       "\n",
       "    .dataframe tbody tr th {\n",
       "        vertical-align: top;\n",
       "    }\n",
       "\n",
       "    .dataframe thead th {\n",
       "        text-align: right;\n",
       "    }\n",
       "</style>\n",
       "<table border=\"1\" class=\"dataframe\">\n",
       "  <thead>\n",
       "    <tr style=\"text-align: right;\">\n",
       "      <th></th>\n",
       "      <th>count</th>\n",
       "      <th>mean</th>\n",
       "      <th>std</th>\n",
       "      <th>min</th>\n",
       "      <th>25%</th>\n",
       "      <th>50%</th>\n",
       "      <th>75%</th>\n",
       "      <th>max</th>\n",
       "    </tr>\n",
       "  </thead>\n",
       "  <tbody>\n",
       "    <tr>\n",
       "      <th>SPEND</th>\n",
       "      <td>132259.0</td>\n",
       "      <td>1212.761573</td>\n",
       "      <td>3699.753576</td>\n",
       "      <td>0.000243</td>\n",
       "      <td>64.03872</td>\n",
       "      <td>240.966297</td>\n",
       "      <td>856.04</td>\n",
       "      <td>2.690958e+05</td>\n",
       "    </tr>\n",
       "    <tr>\n",
       "      <th>IMPRESSIONS</th>\n",
       "      <td>132356.0</td>\n",
       "      <td>141421.239543</td>\n",
       "      <td>524443.276798</td>\n",
       "      <td>1.000000</td>\n",
       "      <td>6546.00000</td>\n",
       "      <td>23862.000000</td>\n",
       "      <td>88210.50</td>\n",
       "      <td>1.564574e+07</td>\n",
       "    </tr>\n",
       "    <tr>\n",
       "      <th>LINK_CLICKS</th>\n",
       "      <td>129501.0</td>\n",
       "      <td>1160.817106</td>\n",
       "      <td>4469.780020</td>\n",
       "      <td>1.000000</td>\n",
       "      <td>49.00000</td>\n",
       "      <td>198.000000</td>\n",
       "      <td>725.00</td>\n",
       "      <td>1.124890e+05</td>\n",
       "    </tr>\n",
       "    <tr>\n",
       "      <th>REVENUE</th>\n",
       "      <td>88569.0</td>\n",
       "      <td>5974.900202</td>\n",
       "      <td>55335.982728</td>\n",
       "      <td>0.003682</td>\n",
       "      <td>280.98000</td>\n",
       "      <td>894.783931</td>\n",
       "      <td>3018.34</td>\n",
       "      <td>5.563833e+06</td>\n",
       "    </tr>\n",
       "    <tr>\n",
       "      <th>PURCHASE_COUNT</th>\n",
       "      <td>91094.0</td>\n",
       "      <td>345.275605</td>\n",
       "      <td>27191.686989</td>\n",
       "      <td>1.000000</td>\n",
       "      <td>3.00000</td>\n",
       "      <td>9.000000</td>\n",
       "      <td>30.00</td>\n",
       "      <td>3.431625e+06</td>\n",
       "    </tr>\n",
       "    <tr>\n",
       "      <th>VIDEO_VIEWS</th>\n",
       "      <td>98978.0</td>\n",
       "      <td>17618.510992</td>\n",
       "      <td>55310.014873</td>\n",
       "      <td>1.000000</td>\n",
       "      <td>481.00000</td>\n",
       "      <td>2589.000000</td>\n",
       "      <td>11765.75</td>\n",
       "      <td>2.722641e+06</td>\n",
       "    </tr>\n",
       "  </tbody>\n",
       "</table>\n",
       "</div>"
      ],
      "text/plain": [
       "                   count           mean            std       min         25%  \\\n",
       "SPEND           132259.0    1212.761573    3699.753576  0.000243    64.03872   \n",
       "IMPRESSIONS     132356.0  141421.239543  524443.276798  1.000000  6546.00000   \n",
       "LINK_CLICKS     129501.0    1160.817106    4469.780020  1.000000    49.00000   \n",
       "REVENUE          88569.0    5974.900202   55335.982728  0.003682   280.98000   \n",
       "PURCHASE_COUNT   91094.0     345.275605   27191.686989  1.000000     3.00000   \n",
       "VIDEO_VIEWS      98978.0   17618.510992   55310.014873  1.000000   481.00000   \n",
       "\n",
       "                         50%       75%           max  \n",
       "SPEND             240.966297    856.04  2.690958e+05  \n",
       "IMPRESSIONS     23862.000000  88210.50  1.564574e+07  \n",
       "LINK_CLICKS       198.000000    725.00  1.124890e+05  \n",
       "REVENUE           894.783931   3018.34  5.563833e+06  \n",
       "PURCHASE_COUNT      9.000000     30.00  3.431625e+06  \n",
       "VIDEO_VIEWS      2589.000000  11765.75  2.722641e+06  "
      ]
     },
     "execution_count": 9,
     "metadata": {},
     "output_type": "execute_result"
    }
   ],
   "source": [
    "# Check the statistics of the data.\n",
    "df.describe().transpose()"
   ]
  },
  {
   "cell_type": "code",
   "execution_count": 11,
   "metadata": {},
   "outputs": [
    {
     "data": {
      "image/png": "[encoded data removed]",
      "text/plain": [
       "<Figure size 500x500 with 1 Axes>"
      ]
     },
     "metadata": {},
     "output_type": "display_data"
    }
   ],
   "source": [
    "# Make univariate plots.\n",
    "sns.displot(df['SPEND'])\n",
    "plt.show()"
   ]
  },
  {
   "cell_type": "code",
   "execution_count": 14,
   "metadata": {},
   "outputs": [
    {
     "data": {
      "text/plain": [
       "<Axes: ylabel='Count'>"
      ]
     },
     "execution_count": 14,
     "metadata": {},
     "output_type": "execute_result"
    },
    {
     "data": {
      "image/png": "[encoded data removed]",
      "text/plain": [
       "<Figure size 640x480 with 1 Axes>"
      ]
     },
     "metadata": {},
     "output_type": "display_data"
    }
   ],
   "source": [
    "# Make histogram of the column 'SPEND', limit it to 20.000.\n",
    "sns.histplot(df['SPEND'], bins=20)"
   ]
  },
  {
   "cell_type": "code",
   "execution_count": 18,
   "metadata": {},
   "outputs": [
    {
     "data": {
      "text/plain": [
       "<Axes: >"
      ]
     },
     "execution_count": 18,
     "metadata": {},
     "output_type": "execute_result"
    },
    {
     "data": {
      "image/png": "[encoded data removed]",
      "text/plain": [
       "<Figure size 640x480 with 1 Axes>"
      ]
     },
     "metadata": {},
     "output_type": "display_data"
    }
   ],
   "source": [
    "df[df['SPEND'] < 100]['SPEND'].hist(bins=20)"
   ]
  },
  {
   "cell_type": "code",
   "execution_count": 20,
   "metadata": {},
   "outputs": [
    {
     "ename": "ValueError",
     "evalue": "could not convert string to float: 'a54505e6a589aa3b38674ef107da13c1'",
     "output_type": "error",
     "traceback": [
      "\u001b[1;31m---------------------------------------------------------------------------\u001b[0m",
      "\u001b[1;31mValueError\u001b[0m                                Traceback (most recent call last)",
      "Cell \u001b[1;32mIn[20], line 1\u001b[0m\n\u001b[1;32m----> 1\u001b[0m df\u001b[39m.\u001b[39;49mcorr()\n",
      "File \u001b[1;32m~\\AppData\\Local\\Packages\\PythonSoftwareFoundation.Python.3.11_qbz5n2kfra8p0\\LocalCache\\local-packages\\Python311\\site-packages\\pandas\\core\\frame.py:10054\u001b[0m, in \u001b[0;36mDataFrame.corr\u001b[1;34m(self, method, min_periods, numeric_only)\u001b[0m\n\u001b[0;32m  10052\u001b[0m cols \u001b[39m=\u001b[39m data\u001b[39m.\u001b[39mcolumns\n\u001b[0;32m  10053\u001b[0m idx \u001b[39m=\u001b[39m cols\u001b[39m.\u001b[39mcopy()\n\u001b[1;32m> 10054\u001b[0m mat \u001b[39m=\u001b[39m data\u001b[39m.\u001b[39;49mto_numpy(dtype\u001b[39m=\u001b[39;49m\u001b[39mfloat\u001b[39;49m, na_value\u001b[39m=\u001b[39;49mnp\u001b[39m.\u001b[39;49mnan, copy\u001b[39m=\u001b[39;49m\u001b[39mFalse\u001b[39;49;00m)\n\u001b[0;32m  10056\u001b[0m \u001b[39mif\u001b[39;00m method \u001b[39m==\u001b[39m \u001b[39m\"\u001b[39m\u001b[39mpearson\u001b[39m\u001b[39m\"\u001b[39m:\n\u001b[0;32m  10057\u001b[0m     correl \u001b[39m=\u001b[39m libalgos\u001b[39m.\u001b[39mnancorr(mat, minp\u001b[39m=\u001b[39mmin_periods)\n",
      "File \u001b[1;32m~\\AppData\\Local\\Packages\\PythonSoftwareFoundation.Python.3.11_qbz5n2kfra8p0\\LocalCache\\local-packages\\Python311\\site-packages\\pandas\\core\\frame.py:1838\u001b[0m, in \u001b[0;36mDataFrame.to_numpy\u001b[1;34m(self, dtype, copy, na_value)\u001b[0m\n\u001b[0;32m   1836\u001b[0m \u001b[39mif\u001b[39;00m dtype \u001b[39mis\u001b[39;00m \u001b[39mnot\u001b[39;00m \u001b[39mNone\u001b[39;00m:\n\u001b[0;32m   1837\u001b[0m     dtype \u001b[39m=\u001b[39m np\u001b[39m.\u001b[39mdtype(dtype)\n\u001b[1;32m-> 1838\u001b[0m result \u001b[39m=\u001b[39m \u001b[39mself\u001b[39;49m\u001b[39m.\u001b[39;49m_mgr\u001b[39m.\u001b[39;49mas_array(dtype\u001b[39m=\u001b[39;49mdtype, copy\u001b[39m=\u001b[39;49mcopy, na_value\u001b[39m=\u001b[39;49mna_value)\n\u001b[0;32m   1839\u001b[0m \u001b[39mif\u001b[39;00m result\u001b[39m.\u001b[39mdtype \u001b[39mis\u001b[39;00m \u001b[39mnot\u001b[39;00m dtype:\n\u001b[0;32m   1840\u001b[0m     result \u001b[39m=\u001b[39m np\u001b[39m.\u001b[39marray(result, dtype\u001b[39m=\u001b[39mdtype, copy\u001b[39m=\u001b[39m\u001b[39mFalse\u001b[39;00m)\n",
      "File \u001b[1;32m~\\AppData\\Local\\Packages\\PythonSoftwareFoundation.Python.3.11_qbz5n2kfra8p0\\LocalCache\\local-packages\\Python311\\site-packages\\pandas\\core\\internals\\managers.py:1732\u001b[0m, in \u001b[0;36mBlockManager.as_array\u001b[1;34m(self, dtype, copy, na_value)\u001b[0m\n\u001b[0;32m   1730\u001b[0m         arr\u001b[39m.\u001b[39mflags\u001b[39m.\u001b[39mwriteable \u001b[39m=\u001b[39m \u001b[39mFalse\u001b[39;00m\n\u001b[0;32m   1731\u001b[0m \u001b[39melse\u001b[39;00m:\n\u001b[1;32m-> 1732\u001b[0m     arr \u001b[39m=\u001b[39m \u001b[39mself\u001b[39;49m\u001b[39m.\u001b[39;49m_interleave(dtype\u001b[39m=\u001b[39;49mdtype, na_value\u001b[39m=\u001b[39;49mna_value)\n\u001b[0;32m   1733\u001b[0m     \u001b[39m# The underlying data was copied within _interleave, so no need\u001b[39;00m\n\u001b[0;32m   1734\u001b[0m     \u001b[39m# to further copy if copy=True or setting na_value\u001b[39;00m\n\u001b[0;32m   1736\u001b[0m \u001b[39mif\u001b[39;00m na_value \u001b[39mis\u001b[39;00m \u001b[39mnot\u001b[39;00m lib\u001b[39m.\u001b[39mno_default:\n",
      "File \u001b[1;32m~\\AppData\\Local\\Packages\\PythonSoftwareFoundation.Python.3.11_qbz5n2kfra8p0\\LocalCache\\local-packages\\Python311\\site-packages\\pandas\\core\\internals\\managers.py:1794\u001b[0m, in \u001b[0;36mBlockManager._interleave\u001b[1;34m(self, dtype, na_value)\u001b[0m\n\u001b[0;32m   1792\u001b[0m     \u001b[39melse\u001b[39;00m:\n\u001b[0;32m   1793\u001b[0m         arr \u001b[39m=\u001b[39m blk\u001b[39m.\u001b[39mget_values(dtype)\n\u001b[1;32m-> 1794\u001b[0m     result[rl\u001b[39m.\u001b[39;49mindexer] \u001b[39m=\u001b[39m arr\n\u001b[0;32m   1795\u001b[0m     itemmask[rl\u001b[39m.\u001b[39mindexer] \u001b[39m=\u001b[39m \u001b[39m1\u001b[39m\n\u001b[0;32m   1797\u001b[0m \u001b[39mif\u001b[39;00m \u001b[39mnot\u001b[39;00m itemmask\u001b[39m.\u001b[39mall():\n",
      "\u001b[1;31mValueError\u001b[0m: could not convert string to float: 'a54505e6a589aa3b38674ef107da13c1'"
     ]
    }
   ],
   "source": [
    "df.corr()"
   ]
  },
  {
   "cell_type": "code",
   "execution_count": null,
   "metadata": {},
   "outputs": [],
   "source": []
  }
 ],
 "metadata": {
  "kernelspec": {
   "display_name": "Python 3",
   "language": "python",
   "name": "python3"
  },
  "language_info": {
   "codemirror_mode": {
    "name": "ipython",
    "version": 3
   },
   "file_extension": ".py",
   "mimetype": "text/x-python",
   "name": "python",
   "nbconvert_exporter": "python",
   "pygments_lexer": "ipython3",
   "version": "3.11.3"
  },
  "orig_nbformat": 4
 },
 "nbformat": 4,
 "nbformat_minor": 2
}

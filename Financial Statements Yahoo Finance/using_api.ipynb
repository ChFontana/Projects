{
 "cells": [
  {
   "attachments": {},
   "cell_type": "markdown",
   "metadata": {},
   "source": [
    "# Libraries"
   ]
  },
  {
   "cell_type": "code",
   "execution_count": 12,
   "metadata": {},
   "outputs": [],
   "source": [
    "from yahooquery import Ticker\n",
    "import requests\n",
    "import json\n",
    "import yfinance as yf\n",
    "import pandas as pd\n",
    "import numpy as np\n",
    "\n",
    "# Guide to do it with webscraping.\n",
    "# https://www.scrapehero.com/how-to-scrape-yahoo-finance-data-using-python/\n",
    "# https://towardsdatascience.com/web-scraping-yahoo-finance-477fe3daa852"
   ]
  },
  {
   "attachments": {},
   "cell_type": "markdown",
   "metadata": {},
   "source": [
    "# API"
   ]
  },
  {
   "cell_type": "code",
   "execution_count": 13,
   "metadata": {},
   "outputs": [
    {
     "name": "stdout",
     "output_type": "stream",
     "text": [
      "KO\n"
     ]
    }
   ],
   "source": [
    "# Find ticker symbol by company name.\n",
    "def ticker(company_name):\n",
    "    yfinance = \"https://query2.finance.yahoo.com/v1/finance/search\"\n",
    "    user_agent = 'Mozilla/5.0 (Windows NT 10.0; Win64; x64) AppleWebKit/537.36 (KHTML, like Gecko) Chrome/108.0.0.0 Safari/537.36'\n",
    "    params = {\"q\": company_name, \"quotes_count\": 1, \"country\": \"United States\"}\n",
    "\n",
    "    res = requests.get(url=yfinance, params=params, headers={'User-Agent': user_agent})\n",
    "    data = res.json()\n",
    "\n",
    "    company_code = data['quotes'][0]['symbol']\n",
    "    return company_code\n",
    "\n",
    "partial_name = input(\"Enter partial company name: \")\n",
    "stock_info = ticker(partial_name)\n",
    "print(stock_info)"
   ]
  },
  {
   "cell_type": "code",
   "execution_count": 14,
   "metadata": {},
   "outputs": [
    {
     "name": "stdout",
     "output_type": "stream",
     "text": [
      "Company Sector :  Consumer Defensive\n",
      "Price Earnings Ratio :  26.546255\n",
      " Company Beta :  0.546798\n"
     ]
    }
   ],
   "source": [
    "GetFacebookInformation = yf.Ticker(\"KO\")\n",
    "\n",
    "# display Company Sector\n",
    "print(\"Company Sector : \", GetFacebookInformation.info['sector'])\n",
    "\n",
    "# display Price Earnings Ratio\n",
    "print(\"Price Earnings Ratio : \", GetFacebookInformation.info['trailingPE'])\n",
    "\n",
    "# display Company Beta\n",
    "print(\" Company Beta : \", GetFacebookInformation.info['beta'])\n"
   ]
  },
  {
   "attachments": {},
   "cell_type": "markdown",
   "metadata": {},
   "source": [
    "# Get the Data"
   ]
  },
  {
   "cell_type": "code",
   "execution_count": 22,
   "metadata": {},
   "outputs": [],
   "source": [
    "# Get yearly income statemente data for our ticker.\n",
    "yearly_income_statement = Ticker(stock_info).income_statement(frequency='a')\n",
    "\n",
    "# Get balance sheet data for our ticker.\n",
    "yearly_balance_sheet = Ticker(stock_info).balance_sheet(frequency='a')\n",
    "\n",
    "# Get Cash Flow data for our ticker.\n",
    "yearly_cash_flow = Ticker(stock_info).cash_flow(frequency='a')"
   ]
  },
  {
   "attachments": {},
   "cell_type": "markdown",
   "metadata": {},
   "source": [
    "## Clean the dataframes and merge them"
   ]
  },
  {
   "cell_type": "code",
   "execution_count": 23,
   "metadata": {},
   "outputs": [
    {
     "name": "stdout",
     "output_type": "stream",
     "text": [
      "{'currencyCode', 'asOfDate', 'periodType'}\n"
     ]
    }
   ],
   "source": [
    "# Check which columns have in common income statement and balance sheet.\n",
    "print(set(yearly_income_statement.columns).intersection(yearly_balance_sheet.columns))"
   ]
  },
  {
   "cell_type": "code",
   "execution_count": 24,
   "metadata": {},
   "outputs": [
    {
     "name": "stdout",
     "output_type": "stream",
     "text": [
      "{'currencyCode', 'NetIncome', 'asOfDate', 'periodType'}\n"
     ]
    }
   ],
   "source": [
    "# Check which columns have in common income statement and balance sheet.\n",
    "print(set(yearly_income_statement.columns).intersection(yearly_cash_flow.columns))"
   ]
  },
  {
   "cell_type": "code",
   "execution_count": 25,
   "metadata": {},
   "outputs": [
    {
     "name": "stdout",
     "output_type": "stream",
     "text": [
      "{'currencyCode', 'asOfDate', 'periodType'}\n"
     ]
    }
   ],
   "source": [
    "# Check which columns have in common income statement and balance sheet.\n",
    "print(set(yearly_balance_sheet.columns).intersection(yearly_cash_flow.columns))"
   ]
  },
  {
   "cell_type": "code",
   "execution_count": 26,
   "metadata": {},
   "outputs": [],
   "source": [
    "# Drop periodType, NetIncome and currency code from cash flow.\n",
    "yearly_cash_flow.drop(['periodType', 'NetIncome', 'currencyCode'], axis=1, inplace=True)"
   ]
  },
  {
   "cell_type": "code",
   "execution_count": 27,
   "metadata": {},
   "outputs": [],
   "source": [
    "# Drop periodType and Currency code from balance sheet.\n",
    "yearly_balance_sheet.drop(['periodType', 'currencyCode'], axis=1, inplace=True)"
   ]
  },
  {
   "cell_type": "code",
   "execution_count": 28,
   "metadata": {},
   "outputs": [],
   "source": [
    "# Join the 3 dataframes into one.\n",
    "# Using 'asOfDate' as key to join the dataframes.\n",
    "# When you have two equals columns, use suffixes to differentiate them.\n",
    "merged_dataframe = pd.merge(yearly_income_statement, yearly_balance_sheet, on='asOfDate')"
   ]
  },
  {
   "attachments": {},
   "cell_type": "markdown",
   "metadata": {},
   "source": [
    "# Create the dataframe that we will work on."
   ]
  },
  {
   "cell_type": "code",
   "execution_count": 29,
   "metadata": {},
   "outputs": [
    {
     "data": {
      "text/html": [
       "<div>\n",
       "<style scoped>\n",
       "    .dataframe tbody tr th:only-of-type {\n",
       "        vertical-align: middle;\n",
       "    }\n",
       "\n",
       "    .dataframe tbody tr th {\n",
       "        vertical-align: top;\n",
       "    }\n",
       "\n",
       "    .dataframe thead th {\n",
       "        text-align: right;\n",
       "    }\n",
       "</style>\n",
       "<table border=\"1\" class=\"dataframe\">\n",
       "  <thead>\n",
       "    <tr style=\"text-align: right;\">\n",
       "      <th></th>\n",
       "      <th>2019-12-31</th>\n",
       "      <th>2020-12-31</th>\n",
       "      <th>2021-12-31</th>\n",
       "      <th>2022-12-31</th>\n",
       "    </tr>\n",
       "  </thead>\n",
       "  <tbody>\n",
       "    <tr>\n",
       "      <th>asOfDate</th>\n",
       "      <td>NaN</td>\n",
       "      <td>NaN</td>\n",
       "      <td>NaN</td>\n",
       "      <td>NaN</td>\n",
       "    </tr>\n",
       "    <tr>\n",
       "      <th>periodType</th>\n",
       "      <td>NaN</td>\n",
       "      <td>NaN</td>\n",
       "      <td>NaN</td>\n",
       "      <td>NaN</td>\n",
       "    </tr>\n",
       "    <tr>\n",
       "      <th>currencyCode</th>\n",
       "      <td>NaN</td>\n",
       "      <td>NaN</td>\n",
       "      <td>NaN</td>\n",
       "      <td>NaN</td>\n",
       "    </tr>\n",
       "    <tr>\n",
       "      <th>BasicAverageShares</th>\n",
       "      <td>NaN</td>\n",
       "      <td>NaN</td>\n",
       "      <td>NaN</td>\n",
       "      <td>NaN</td>\n",
       "    </tr>\n",
       "    <tr>\n",
       "      <th>BasicEPS</th>\n",
       "      <td>NaN</td>\n",
       "      <td>NaN</td>\n",
       "      <td>NaN</td>\n",
       "      <td>NaN</td>\n",
       "    </tr>\n",
       "    <tr>\n",
       "      <th>...</th>\n",
       "      <td>...</td>\n",
       "      <td>...</td>\n",
       "      <td>...</td>\n",
       "      <td>...</td>\n",
       "    </tr>\n",
       "    <tr>\n",
       "      <th>TotalNonCurrentLiabilitiesNetMinorityInterest</th>\n",
       "      <td>NaN</td>\n",
       "      <td>NaN</td>\n",
       "      <td>NaN</td>\n",
       "      <td>NaN</td>\n",
       "    </tr>\n",
       "    <tr>\n",
       "      <th>TotalTaxPayable</th>\n",
       "      <td>NaN</td>\n",
       "      <td>NaN</td>\n",
       "      <td>NaN</td>\n",
       "      <td>NaN</td>\n",
       "    </tr>\n",
       "    <tr>\n",
       "      <th>TreasurySharesNumber</th>\n",
       "      <td>NaN</td>\n",
       "      <td>NaN</td>\n",
       "      <td>NaN</td>\n",
       "      <td>NaN</td>\n",
       "    </tr>\n",
       "    <tr>\n",
       "      <th>TreasuryStock</th>\n",
       "      <td>NaN</td>\n",
       "      <td>NaN</td>\n",
       "      <td>NaN</td>\n",
       "      <td>NaN</td>\n",
       "    </tr>\n",
       "    <tr>\n",
       "      <th>WorkingCapital</th>\n",
       "      <td>NaN</td>\n",
       "      <td>NaN</td>\n",
       "      <td>NaN</td>\n",
       "      <td>NaN</td>\n",
       "    </tr>\n",
       "  </tbody>\n",
       "</table>\n",
       "<p>129 rows × 4 columns</p>\n",
       "</div>"
      ],
      "text/plain": [
       "                                              2019-12-31 2020-12-31  \\\n",
       "asOfDate                                             NaN        NaN   \n",
       "periodType                                           NaN        NaN   \n",
       "currencyCode                                         NaN        NaN   \n",
       "BasicAverageShares                                   NaN        NaN   \n",
       "BasicEPS                                             NaN        NaN   \n",
       "...                                                  ...        ...   \n",
       "TotalNonCurrentLiabilitiesNetMinorityInterest        NaN        NaN   \n",
       "TotalTaxPayable                                      NaN        NaN   \n",
       "TreasurySharesNumber                                 NaN        NaN   \n",
       "TreasuryStock                                        NaN        NaN   \n",
       "WorkingCapital                                       NaN        NaN   \n",
       "\n",
       "                                              2021-12-31 2022-12-31  \n",
       "asOfDate                                             NaN        NaN  \n",
       "periodType                                           NaN        NaN  \n",
       "currencyCode                                         NaN        NaN  \n",
       "BasicAverageShares                                   NaN        NaN  \n",
       "BasicEPS                                             NaN        NaN  \n",
       "...                                                  ...        ...  \n",
       "TotalNonCurrentLiabilitiesNetMinorityInterest        NaN        NaN  \n",
       "TotalTaxPayable                                      NaN        NaN  \n",
       "TreasurySharesNumber                                 NaN        NaN  \n",
       "TreasuryStock                                        NaN        NaN  \n",
       "WorkingCapital                                       NaN        NaN  \n",
       "\n",
       "[129 rows x 4 columns]"
      ]
     },
     "execution_count": 29,
     "metadata": {},
     "output_type": "execute_result"
    }
   ],
   "source": [
    "# # Create a dataframe with 6 columns: TTM, 2019-12-31, 2020-12-31, 2021-12-31, 2022-12-31, 2023-12-31\n",
    "# # and 1 row for each column of the income statement.\n",
    "# df = pd.DataFrame(columns=['2019-12-31', '2020-12-31', '2021-12-31', '2022-12-31'],\n",
    "#                     index=merged_dataframe.columns)\n",
    "# df"
   ]
  },
  {
   "cell_type": "code",
   "execution_count": 87,
   "metadata": {},
   "outputs": [],
   "source": [
    "df = merged_dataframe.copy()"
   ]
  },
  {
   "cell_type": "code",
   "execution_count": 88,
   "metadata": {},
   "outputs": [],
   "source": [
    "df = df[['asOfDate', 'BasicEPS', 'EBIT', 'GrossProfit', 'NetIncome', 'OperatingIncome', 'TotalRevenue', 'SalariesAndWages', 'TotalExpenses', 'TotalAssets', 'TotalDebt', 'StockholdersEquity']]"
   ]
  },
  {
   "cell_type": "code",
   "execution_count": 89,
   "metadata": {},
   "outputs": [],
   "source": [
    "# Drop last row of the dataframe.\n",
    "df.drop(df.tail(1).index, inplace=True)"
   ]
  },
  {
   "cell_type": "code",
   "execution_count": 90,
   "metadata": {},
   "outputs": [],
   "source": [
    "df.set_index('asOfDate', inplace=True)"
   ]
  },
  {
   "cell_type": "code",
   "execution_count": 91,
   "metadata": {},
   "outputs": [],
   "source": [
    "df = df.transpose()"
   ]
  },
  {
   "cell_type": "code",
   "execution_count": 92,
   "metadata": {},
   "outputs": [
    {
     "data": {
      "text/html": [
       "<div>\n",
       "<style scoped>\n",
       "    .dataframe tbody tr th:only-of-type {\n",
       "        vertical-align: middle;\n",
       "    }\n",
       "\n",
       "    .dataframe tbody tr th {\n",
       "        vertical-align: top;\n",
       "    }\n",
       "\n",
       "    .dataframe thead th {\n",
       "        text-align: right;\n",
       "    }\n",
       "</style>\n",
       "<table border=\"1\" class=\"dataframe\">\n",
       "  <thead>\n",
       "    <tr style=\"text-align: right;\">\n",
       "      <th>asOfDate</th>\n",
       "      <th>2019-12-31</th>\n",
       "      <th>2020-12-31</th>\n",
       "      <th>2021-12-31</th>\n",
       "      <th>2022-12-31</th>\n",
       "    </tr>\n",
       "  </thead>\n",
       "  <tbody>\n",
       "    <tr>\n",
       "      <th>BasicEPS</th>\n",
       "      <td>2.090000e+00</td>\n",
       "      <td>1.800000e+00</td>\n",
       "      <td>2.260000e+00</td>\n",
       "      <td>2.200000e+00</td>\n",
       "    </tr>\n",
       "    <tr>\n",
       "      <th>EBIT</th>\n",
       "      <td>1.173200e+10</td>\n",
       "      <td>1.118600e+10</td>\n",
       "      <td>1.402200e+10</td>\n",
       "      <td>1.256800e+10</td>\n",
       "    </tr>\n",
       "    <tr>\n",
       "      <th>GrossProfit</th>\n",
       "      <td>2.264700e+10</td>\n",
       "      <td>1.958100e+10</td>\n",
       "      <td>2.329800e+10</td>\n",
       "      <td>2.500400e+10</td>\n",
       "    </tr>\n",
       "    <tr>\n",
       "      <th>NetIncome</th>\n",
       "      <td>8.920000e+09</td>\n",
       "      <td>7.747000e+09</td>\n",
       "      <td>9.771000e+09</td>\n",
       "      <td>9.542000e+09</td>\n",
       "    </tr>\n",
       "    <tr>\n",
       "      <th>OperatingIncome</th>\n",
       "      <td>1.008600e+10</td>\n",
       "      <td>8.997000e+09</td>\n",
       "      <td>1.030800e+10</td>\n",
       "      <td>1.090900e+10</td>\n",
       "    </tr>\n",
       "    <tr>\n",
       "      <th>TotalRevenue</th>\n",
       "      <td>3.726600e+10</td>\n",
       "      <td>3.301400e+10</td>\n",
       "      <td>3.865500e+10</td>\n",
       "      <td>4.300400e+10</td>\n",
       "    </tr>\n",
       "    <tr>\n",
       "      <th>SalariesAndWages</th>\n",
       "      <td>2.010000e+08</td>\n",
       "      <td>1.260000e+08</td>\n",
       "      <td>3.370000e+08</td>\n",
       "      <td>3.560000e+08</td>\n",
       "    </tr>\n",
       "    <tr>\n",
       "      <th>TotalExpenses</th>\n",
       "      <td>2.718000e+10</td>\n",
       "      <td>2.401700e+10</td>\n",
       "      <td>2.834700e+10</td>\n",
       "      <td>3.209500e+10</td>\n",
       "    </tr>\n",
       "    <tr>\n",
       "      <th>TotalAssets</th>\n",
       "      <td>8.638100e+10</td>\n",
       "      <td>8.729600e+10</td>\n",
       "      <td>9.435400e+10</td>\n",
       "      <td>9.276300e+10</td>\n",
       "    </tr>\n",
       "    <tr>\n",
       "      <th>TotalDebt</th>\n",
       "      <td>4.276300e+10</td>\n",
       "      <td>4.279300e+10</td>\n",
       "      <td>4.276100e+10</td>\n",
       "      <td>3.914900e+10</td>\n",
       "    </tr>\n",
       "    <tr>\n",
       "      <th>StockholdersEquity</th>\n",
       "      <td>1.898100e+10</td>\n",
       "      <td>1.929900e+10</td>\n",
       "      <td>2.299900e+10</td>\n",
       "      <td>2.410500e+10</td>\n",
       "    </tr>\n",
       "  </tbody>\n",
       "</table>\n",
       "</div>"
      ],
      "text/plain": [
       "asOfDate              2019-12-31    2020-12-31    2021-12-31    2022-12-31\n",
       "BasicEPS            2.090000e+00  1.800000e+00  2.260000e+00  2.200000e+00\n",
       "EBIT                1.173200e+10  1.118600e+10  1.402200e+10  1.256800e+10\n",
       "GrossProfit         2.264700e+10  1.958100e+10  2.329800e+10  2.500400e+10\n",
       "NetIncome           8.920000e+09  7.747000e+09  9.771000e+09  9.542000e+09\n",
       "OperatingIncome     1.008600e+10  8.997000e+09  1.030800e+10  1.090900e+10\n",
       "TotalRevenue        3.726600e+10  3.301400e+10  3.865500e+10  4.300400e+10\n",
       "SalariesAndWages    2.010000e+08  1.260000e+08  3.370000e+08  3.560000e+08\n",
       "TotalExpenses       2.718000e+10  2.401700e+10  2.834700e+10  3.209500e+10\n",
       "TotalAssets         8.638100e+10  8.729600e+10  9.435400e+10  9.276300e+10\n",
       "TotalDebt           4.276300e+10  4.279300e+10  4.276100e+10  3.914900e+10\n",
       "StockholdersEquity  1.898100e+10  1.929900e+10  2.299900e+10  2.410500e+10"
      ]
     },
     "execution_count": 92,
     "metadata": {},
     "output_type": "execute_result"
    }
   ],
   "source": [
    "df"
   ]
  },
  {
   "cell_type": "code",
   "execution_count": null,
   "metadata": {},
   "outputs": [],
   "source": []
  },
  {
   "cell_type": "code",
   "execution_count": 33,
   "metadata": {},
   "outputs": [],
   "source": [
    "# Let's fill the dataframe with the data from merged_dataframe.\n",
    "# We will iterate over each value using the column for df and the index, and the value will come from merged_dataframe using "
   ]
  },
  {
   "cell_type": "code",
   "execution_count": 34,
   "metadata": {},
   "outputs": [
    {
     "ename": "SyntaxError",
     "evalue": "invalid decimal literal (3524191168.py, line 46)",
     "output_type": "error",
     "traceback": [
      "\u001b[0;36m  Cell \u001b[0;32mIn[34], line 46\u001b[0;36m\u001b[0m\n\u001b[0;31m    5Y Avg. % Change\u001b[0m\n\u001b[0m    ^\u001b[0m\n\u001b[0;31mSyntaxError\u001b[0m\u001b[0;31m:\u001b[0m invalid decimal literal\n"
     ]
    }
   ],
   "source": [
    "P/E\n",
    "P/B\n",
    "Debt-to-equity\n",
    "Free Cash Flow\n",
    "Dividend Yield\n",
    "PEG ration\n",
    "ROE\n",
    "ROA\n",
    "ROI\n",
    "EPS\n",
    "Beta\n",
    "Market Cap\n",
    "Enterprise Value\n",
    "EV/EBITDA\n",
    "EV/EBIT\n",
    "EV/FCF\n",
    "EV/Sales\n",
    "EBITDA\n",
    "EBIT\n",
    "Liquidity\n",
    "Current Ratio\n",
    "Quick Ratio\n",
    "Interest Coverage\n",
    "Debt-to-equity\n",
    "Debt-to-asset\n",
    "Debt-to-capital\n",
    "Debt-to-EBITDA\n",
    "Debt-to-EBIT\n",
    "Debt-to-FCF\n",
    "Debt-to-sales\n",
    "Debt-to-equity\n",
    "Debt-to-asset\n",
    "Debt-to-capital\n",
    "\n",
    "Current Debt\n",
    "Long-term Debt\n",
    "Short-term Debt\n",
    "Total Debt\n",
    "\n",
    "Equity\n",
    "Total Assets\n",
    "Current Assets\n",
    "Cash\n",
    "\n",
    "Y/Y % Change\n",
    "5Y Avg. % Change\n",
    "10Y Avg. % Change\n",
    "\n",
    "5 Years CAGR\n",
    "10 Years CAGR\n",
    "Lifetime CAGR\n",
    "\n",
    "Earnings Date\n",
    "\n",
    "PEG Ratio (5 yr expected)\t\n",
    "\n",
    "\n"
   ]
  },
  {
   "cell_type": "code",
   "execution_count": null,
   "metadata": {},
   "outputs": [
    {
     "ename": "",
     "evalue": "",
     "output_type": "error",
     "traceback": [
      "\u001b[1;31mRunning cells with '/bin/python3' requires the ipykernel package.\n",
      "\u001b[1;31mRun the following command to install 'ipykernel' into the Python environment. \n",
      "\u001b[1;31mCommand: '/bin/python3 -m pip install ipykernel -U --user --force-reinstall'"
     ]
    }
   ],
   "source": []
  }
 ],
 "metadata": {
  "kernelspec": {
   "display_name": "base",
   "language": "python",
   "name": "python3"
  },
  "language_info": {
   "codemirror_mode": {
    "name": "ipython",
    "version": 3
   },
   "file_extension": ".py",
   "mimetype": "text/x-python",
   "name": "python",
   "nbconvert_exporter": "python",
   "pygments_lexer": "ipython3",
   "version": "3.10.6"
  },
  "orig_nbformat": 4
 },
 "nbformat": 4,
 "nbformat_minor": 2
}

{
 "cells": [
  {
   "cell_type": "markdown",
   "metadata": {},
   "source": [
    "# Main Objective\n",
    "\n",
    "The governator of Zootopia, brother country of Dystopia and another bad place to live in, wants to maximize their population score in the Happiness Score of Dystopia. He claims that he has the secret formula of how the scoring is calculated and he wants to compare politics that he can carry on to complish his goal. He wants to see with different combinations of the variables, which score his country will get.\n",
    "\n",
    "Here the main objective is to predict the happiness scoring that a country will get, with different combinations of the inputs, basically develop a predictor for the target variable Happiness Scoring. There will be a issue in this models, because the variable Dystopia Residual is explained for how the others countries performs that year, and the model will not have any capabilities to predict that."
   ]
  },
  {
   "cell_type": "markdown",
   "metadata": {},
   "source": [
    "# Environment"
   ]
  },
  {
   "cell_type": "code",
   "execution_count": 1,
   "metadata": {},
   "outputs": [],
   "source": [
    "# It would be important to create an environment, and install the specific libraries for avoiding possible issues having different version of the libraries. \n",
    "# As I was not sure if this would be possible with the DevSkill git repo, and I couldn't find the answer on the internet I leave this part just as commented.\n",
    "# pip install -r requirements.txt"
   ]
  },
  {
   "cell_type": "markdown",
   "metadata": {},
   "source": [
    "# Libraries"
   ]
  },
  {
   "cell_type": "code",
   "execution_count": 2,
   "metadata": {},
   "outputs": [],
   "source": [
    "# for handling data:\n",
    "import numpy as np\n",
    "import pandas as pd\n",
    "\n",
    "# for plotting:\n",
    "import plotly.express as px\n",
    "import matplotlib.pyplot as plt\n",
    "\n",
    "# for machine learning:\n",
    "import sklearn\n",
    "from sklearn.linear_model import LinearRegression\n",
    "from sklearn.model_selection import train_test_split\n",
    "from sklearn.ensemble import RandomForestRegressor"
   ]
  },
  {
   "cell_type": "markdown",
   "metadata": {},
   "source": [
    "# Setting everything Up"
   ]
  },
  {
   "cell_type": "code",
   "execution_count": 3,
   "metadata": {},
   "outputs": [],
   "source": [
    "# Function to load CSV, from min_year to max_year.\n",
    "def load_world_happinnes_reports(min_year, max_year):\n",
    "    \"\"\"DOCSTRING\"\"\"\n",
    "\n",
    "    # Let's iterate to load all the csv.\n",
    "    for i in range(min_year,max_year+1):\n",
    "\n",
    "        # Create DataFrames based on the csv name.\n",
    "        globals()[f\"data_{i}\"] = pd.read_csv(f'https://raw.githubusercontent.com/ChFontana/Datasets/main/World%20Happiness%20Report/{i}.csv')\n",
    "        \n",
    "        # Create column year, equals the year of the csv.\n",
    "        globals()[f\"data_{i}\"]['Year'] = i\n",
    "\n",
    "        # Create column Region if not exist.\n",
    "        globals()[f\"data_{i}\"]['Region'] = globals()[f\"data_{i}\"].get('Region', np.nan)\n",
    "\n",
    "        # Create column Dystopia Residual if not exist.\n",
    "        # globals()[f\"data_{i}\"]['Dystopia Residual'] = globals()[f\"data_{i}\"].get('Dystopia Residual', np.nan)  "
   ]
  },
  {
   "cell_type": "code",
   "execution_count": 4,
   "metadata": {},
   "outputs": [],
   "source": [
    "# Load all the CSV that we have, from 2015 to 2019.\n",
    "load_world_happinnes_reports(2015,2019)"
   ]
  },
  {
   "cell_type": "code",
   "execution_count": 5,
   "metadata": {},
   "outputs": [],
   "source": [
    "# The columns from the datasets have different names, we have to correct this.\n",
    "data_2017.rename(columns = {\n",
    "'Happiness.Score': 'Happiness Score', 'Dystopia.Residual':'Dystopia Residual',\n",
    "'Happiness.Rank':'Happiness Rank', 'Economy..GDP.per.Capita.':'Economy (GDP per Capita)',\n",
    "'Health..Life.Expectancy.':'Health (Life Expectancy)','Trust..Government.Corruption.':'Trust (Government Corruption)'\n",
    "}, inplace=True)\n",
    "\n",
    "data_2018.rename(columns = {\n",
    "'Country or region':'Country', 'Overall rank':'Happiness Rank', 'GDP per capita':'Economy (GDP per Capita)',\n",
    "'Social support':'Family', 'Healthy life expectancy':'Health (Life Expectancy)', 'Freedom to make life choices':'Freedom',\n",
    "'Perceptions of corruption':'Trust (Government Corruption)', 'Score':'Happiness Score'\n",
    "}, inplace=True)\n",
    "\n",
    "data_2019.rename(columns = {\n",
    "'Country or region':'Country', 'Overall rank':'Happiness Rank', 'GDP per capita':'Economy (GDP per Capita)',\n",
    "'Social support':'Family', 'Healthy life expectancy':'Health (Life Expectancy)', 'Freedom to make life choices':'Freedom',\n",
    "'Perceptions of corruption':'Trust (Government Corruption)', 'Score':'Happiness Score'\n",
    "}, inplace=True)\n",
    "\n",
    "# Select the columns that we will use.\n",
    "columns = [ 'Country', 'Region', 'Happiness Rank', 'Happiness Score', 'Economy (GDP per Capita)', \n",
    "            'Family', 'Health (Life Expectancy)', 'Freedom', 'Trust (Government Corruption)',\n",
    "            'Generosity', 'Year', 'Dystopia Residual']"
   ]
  },
  {
   "cell_type": "code",
   "execution_count": 6,
   "metadata": {},
   "outputs": [],
   "source": [
    "# Let's define a function to select the years that we want to find insights from.\n",
    "\n",
    "def years_to_use(*year, mode='period'):\n",
    "    \"\"\"DOCSTRING\"\"\"\n",
    "    \n",
    "    # Create the variables that we will use in the function.\n",
    "    global tables\n",
    "    modes = ['period', 'individual']\n",
    "    years = []\n",
    "    tables = []\n",
    "    \n",
    "    # Check if mode is one of the two options.\n",
    "    if mode not in modes:\n",
    "        raise ValueError(\"Invalid mode. Expected one of: %s\" % mode)\n",
    "\n",
    "    # Check if the years are between the expected range.\n",
    "    for individual_year in year:\n",
    "        if individual_year not in range(2015,2020):\n",
    "            raise ValueError(\"Invalid year. Expected values between the range: %s\" % list(range(2015,2020))) \n",
    "            # Current min and max year in the dataset.\n",
    "\n",
    "    # The function that will work for period mode.\n",
    "    if mode == 'period':\n",
    "        for i in range(min(year),max(year)+1):\n",
    "            years.append(globals()[f\"data_{i}\"])\n",
    "\n",
    "    # The function that will work for individual mode.\n",
    "    elif mode == 'individual':\n",
    "        for y in year:\n",
    "            years.append(y)\n",
    "\n",
    "    # Merge everything in one table.\n",
    "    for x in years:\n",
    "        tables = pd.concat(years)\n",
    "\n",
    "    # Keep only the columns that we are interested on.\n",
    "    tables = tables[columns]\n",
    "\n",
    "    # Sort by country to fillna on Region after that.\n",
    "    tables = tables.sort_values(by=['Country', 'Year'])\n",
    "\n",
    "    # There are some countries with some upper isues, lets apply strip and upper for Country and Regions.\n",
    "    tables[['Country', 'Region']] = tables[['Country', 'Region']].apply(lambda x: x.str.strip().str.upper())"
   ]
  },
  {
   "cell_type": "code",
   "execution_count": 7,
   "metadata": {},
   "outputs": [],
   "source": [
    "# Initially I'll use all the information available, from 2015 to 2019. \n",
    "# You can choose the period changing the input variables, even choose individual years chaning the mode to individual and passing the years.\n",
    "years_to_use(2015,2019, mode='period')"
   ]
  },
  {
   "cell_type": "code",
   "execution_count": 8,
   "metadata": {},
   "outputs": [
    {
     "data": {
      "text/plain": [
       "Country                            0\n",
       "Region                           467\n",
       "Happiness Rank                     0\n",
       "Happiness Score                    0\n",
       "Economy (GDP per Capita)           0\n",
       "Family                             0\n",
       "Health (Life Expectancy)           0\n",
       "Freedom                            0\n",
       "Trust (Government Corruption)      1\n",
       "Generosity                         0\n",
       "Year                               0\n",
       "Dystopia Residual                312\n",
       "dtype: int64"
      ]
     },
     "execution_count": 8,
     "metadata": {},
     "output_type": "execute_result"
    }
   ],
   "source": [
    "# Check our nulls in the DataFrame, basically in Region and 1 in Goverment Corruption. \n",
    "tables.isna().sum()"
   ]
  },
  {
   "cell_type": "code",
   "execution_count": 9,
   "metadata": {},
   "outputs": [],
   "source": [
    "# We sorted by country and year, we will fill fordward, it would be great to do further investigation on the null value in Goverment Corruption.\n",
    "# For the null value in Goverment Corruption, we can evaluate more sophisticated ways or filling it, \n",
    "# following the trend of other countries change on this one, following the own countrie trend, try to look for information about it online, between other methods.\n",
    "tables[['Region', 'Trust (Government Corruption)']] = tables.loc[:,['Region', 'Trust (Government Corruption)']].fillna(method='ffill')\n",
    "\n",
    "# Now let's get Dystopia Residual = Hapinness Score - SUM(rest of variables)\n",
    "rest_of_variables = [   'Economy (GDP per Capita)', 'Family', 'Health (Life Expectancy)',\n",
    "                        'Freedom', 'Trust (Government Corruption)', 'Generosity']\n",
    "tables['Dystopia Residual'] = tables.loc[:,'Happiness Score'] - tables.loc[:,rest_of_variables].sum(axis=1)"
   ]
  },
  {
   "cell_type": "code",
   "execution_count": 10,
   "metadata": {},
   "outputs": [
    {
     "data": {
      "text/plain": [
       "Country                          0\n",
       "Region                           0\n",
       "Happiness Rank                   0\n",
       "Happiness Score                  0\n",
       "Economy (GDP per Capita)         0\n",
       "Family                           0\n",
       "Health (Life Expectancy)         0\n",
       "Freedom                          0\n",
       "Trust (Government Corruption)    0\n",
       "Generosity                       0\n",
       "Year                             0\n",
       "Dystopia Residual                0\n",
       "dtype: int64"
      ]
     },
     "execution_count": 10,
     "metadata": {},
     "output_type": "execute_result"
    }
   ],
   "source": [
    "# Check that we don't have null left.\n",
    "tables.isna().sum()"
   ]
  },
  {
   "cell_type": "code",
   "execution_count": 11,
   "metadata": {},
   "outputs": [
    {
     "data": {
      "text/html": [
       "<div>\n",
       "<style scoped>\n",
       "    .dataframe tbody tr th:only-of-type {\n",
       "        vertical-align: middle;\n",
       "    }\n",
       "\n",
       "    .dataframe tbody tr th {\n",
       "        vertical-align: top;\n",
       "    }\n",
       "\n",
       "    .dataframe thead th {\n",
       "        text-align: right;\n",
       "    }\n",
       "</style>\n",
       "<table border=\"1\" class=\"dataframe\">\n",
       "  <thead>\n",
       "    <tr style=\"text-align: right;\">\n",
       "      <th></th>\n",
       "      <th>Country</th>\n",
       "      <th>Region</th>\n",
       "      <th>Happiness Rank</th>\n",
       "      <th>Happiness Score</th>\n",
       "      <th>Economy (GDP per Capita)</th>\n",
       "      <th>Family</th>\n",
       "      <th>Health (Life Expectancy)</th>\n",
       "      <th>Freedom</th>\n",
       "      <th>Trust (Government Corruption)</th>\n",
       "      <th>Generosity</th>\n",
       "      <th>Year</th>\n",
       "      <th>Dystopia Residual</th>\n",
       "    </tr>\n",
       "  </thead>\n",
       "  <tbody>\n",
       "    <tr>\n",
       "      <th>152</th>\n",
       "      <td>AFGHANISTAN</td>\n",
       "      <td>SOUTHERN ASIA</td>\n",
       "      <td>153</td>\n",
       "      <td>3.575</td>\n",
       "      <td>0.319820</td>\n",
       "      <td>0.302850</td>\n",
       "      <td>0.303350</td>\n",
       "      <td>0.234140</td>\n",
       "      <td>0.097190</td>\n",
       "      <td>0.365100</td>\n",
       "      <td>2015</td>\n",
       "      <td>1.952550</td>\n",
       "    </tr>\n",
       "    <tr>\n",
       "      <th>153</th>\n",
       "      <td>AFGHANISTAN</td>\n",
       "      <td>SOUTHERN ASIA</td>\n",
       "      <td>154</td>\n",
       "      <td>3.360</td>\n",
       "      <td>0.382270</td>\n",
       "      <td>0.110370</td>\n",
       "      <td>0.173440</td>\n",
       "      <td>0.164300</td>\n",
       "      <td>0.071120</td>\n",
       "      <td>0.312680</td>\n",
       "      <td>2016</td>\n",
       "      <td>2.145820</td>\n",
       "    </tr>\n",
       "    <tr>\n",
       "      <th>140</th>\n",
       "      <td>AFGHANISTAN</td>\n",
       "      <td>SOUTHERN ASIA</td>\n",
       "      <td>141</td>\n",
       "      <td>3.794</td>\n",
       "      <td>0.401477</td>\n",
       "      <td>0.581543</td>\n",
       "      <td>0.180747</td>\n",
       "      <td>0.106180</td>\n",
       "      <td>0.061158</td>\n",
       "      <td>0.311871</td>\n",
       "      <td>2017</td>\n",
       "      <td>2.151024</td>\n",
       "    </tr>\n",
       "    <tr>\n",
       "      <th>144</th>\n",
       "      <td>AFGHANISTAN</td>\n",
       "      <td>SOUTHERN ASIA</td>\n",
       "      <td>145</td>\n",
       "      <td>3.632</td>\n",
       "      <td>0.332000</td>\n",
       "      <td>0.537000</td>\n",
       "      <td>0.255000</td>\n",
       "      <td>0.085000</td>\n",
       "      <td>0.036000</td>\n",
       "      <td>0.191000</td>\n",
       "      <td>2018</td>\n",
       "      <td>2.196000</td>\n",
       "    </tr>\n",
       "    <tr>\n",
       "      <th>153</th>\n",
       "      <td>AFGHANISTAN</td>\n",
       "      <td>SOUTHERN ASIA</td>\n",
       "      <td>154</td>\n",
       "      <td>3.203</td>\n",
       "      <td>0.350000</td>\n",
       "      <td>0.517000</td>\n",
       "      <td>0.361000</td>\n",
       "      <td>0.000000</td>\n",
       "      <td>0.025000</td>\n",
       "      <td>0.158000</td>\n",
       "      <td>2019</td>\n",
       "      <td>1.792000</td>\n",
       "    </tr>\n",
       "    <tr>\n",
       "      <th>94</th>\n",
       "      <td>ALBANIA</td>\n",
       "      <td>CENTRAL AND EASTERN EUROPE</td>\n",
       "      <td>95</td>\n",
       "      <td>4.959</td>\n",
       "      <td>0.878670</td>\n",
       "      <td>0.804340</td>\n",
       "      <td>0.813250</td>\n",
       "      <td>0.357330</td>\n",
       "      <td>0.064130</td>\n",
       "      <td>0.142720</td>\n",
       "      <td>2015</td>\n",
       "      <td>1.898560</td>\n",
       "    </tr>\n",
       "    <tr>\n",
       "      <th>108</th>\n",
       "      <td>ALBANIA</td>\n",
       "      <td>CENTRAL AND EASTERN EUROPE</td>\n",
       "      <td>109</td>\n",
       "      <td>4.655</td>\n",
       "      <td>0.955300</td>\n",
       "      <td>0.501630</td>\n",
       "      <td>0.730070</td>\n",
       "      <td>0.318660</td>\n",
       "      <td>0.053010</td>\n",
       "      <td>0.168400</td>\n",
       "      <td>2016</td>\n",
       "      <td>1.927930</td>\n",
       "    </tr>\n",
       "    <tr>\n",
       "      <th>108</th>\n",
       "      <td>ALBANIA</td>\n",
       "      <td>CENTRAL AND EASTERN EUROPE</td>\n",
       "      <td>109</td>\n",
       "      <td>4.644</td>\n",
       "      <td>0.996193</td>\n",
       "      <td>0.803685</td>\n",
       "      <td>0.731160</td>\n",
       "      <td>0.381499</td>\n",
       "      <td>0.039864</td>\n",
       "      <td>0.201313</td>\n",
       "      <td>2017</td>\n",
       "      <td>1.490287</td>\n",
       "    </tr>\n",
       "    <tr>\n",
       "      <th>111</th>\n",
       "      <td>ALBANIA</td>\n",
       "      <td>CENTRAL AND EASTERN EUROPE</td>\n",
       "      <td>112</td>\n",
       "      <td>4.586</td>\n",
       "      <td>0.916000</td>\n",
       "      <td>0.817000</td>\n",
       "      <td>0.790000</td>\n",
       "      <td>0.419000</td>\n",
       "      <td>0.032000</td>\n",
       "      <td>0.149000</td>\n",
       "      <td>2018</td>\n",
       "      <td>1.463000</td>\n",
       "    </tr>\n",
       "    <tr>\n",
       "      <th>106</th>\n",
       "      <td>ALBANIA</td>\n",
       "      <td>CENTRAL AND EASTERN EUROPE</td>\n",
       "      <td>107</td>\n",
       "      <td>4.719</td>\n",
       "      <td>0.947000</td>\n",
       "      <td>0.848000</td>\n",
       "      <td>0.874000</td>\n",
       "      <td>0.383000</td>\n",
       "      <td>0.027000</td>\n",
       "      <td>0.178000</td>\n",
       "      <td>2019</td>\n",
       "      <td>1.462000</td>\n",
       "    </tr>\n",
       "    <tr>\n",
       "      <th>67</th>\n",
       "      <td>ALGERIA</td>\n",
       "      <td>MIDDLE EAST AND NORTHERN AFRICA</td>\n",
       "      <td>68</td>\n",
       "      <td>5.605</td>\n",
       "      <td>0.939290</td>\n",
       "      <td>1.077720</td>\n",
       "      <td>0.617660</td>\n",
       "      <td>0.285790</td>\n",
       "      <td>0.173830</td>\n",
       "      <td>0.078220</td>\n",
       "      <td>2015</td>\n",
       "      <td>2.432490</td>\n",
       "    </tr>\n",
       "    <tr>\n",
       "      <th>37</th>\n",
       "      <td>ALGERIA</td>\n",
       "      <td>MIDDLE EAST AND NORTHERN AFRICA</td>\n",
       "      <td>38</td>\n",
       "      <td>6.355</td>\n",
       "      <td>1.052660</td>\n",
       "      <td>0.833090</td>\n",
       "      <td>0.618040</td>\n",
       "      <td>0.210060</td>\n",
       "      <td>0.161570</td>\n",
       "      <td>0.070440</td>\n",
       "      <td>2016</td>\n",
       "      <td>3.409140</td>\n",
       "    </tr>\n",
       "    <tr>\n",
       "      <th>52</th>\n",
       "      <td>ALGERIA</td>\n",
       "      <td>MIDDLE EAST AND NORTHERN AFRICA</td>\n",
       "      <td>53</td>\n",
       "      <td>5.872</td>\n",
       "      <td>1.091864</td>\n",
       "      <td>1.146217</td>\n",
       "      <td>0.617585</td>\n",
       "      <td>0.233336</td>\n",
       "      <td>0.146096</td>\n",
       "      <td>0.069437</td>\n",
       "      <td>2017</td>\n",
       "      <td>2.567465</td>\n",
       "    </tr>\n",
       "    <tr>\n",
       "      <th>83</th>\n",
       "      <td>ALGERIA</td>\n",
       "      <td>MIDDLE EAST AND NORTHERN AFRICA</td>\n",
       "      <td>84</td>\n",
       "      <td>5.295</td>\n",
       "      <td>0.979000</td>\n",
       "      <td>1.154000</td>\n",
       "      <td>0.687000</td>\n",
       "      <td>0.077000</td>\n",
       "      <td>0.135000</td>\n",
       "      <td>0.055000</td>\n",
       "      <td>2018</td>\n",
       "      <td>2.208000</td>\n",
       "    </tr>\n",
       "    <tr>\n",
       "      <th>87</th>\n",
       "      <td>ALGERIA</td>\n",
       "      <td>MIDDLE EAST AND NORTHERN AFRICA</td>\n",
       "      <td>88</td>\n",
       "      <td>5.211</td>\n",
       "      <td>1.002000</td>\n",
       "      <td>1.160000</td>\n",
       "      <td>0.785000</td>\n",
       "      <td>0.086000</td>\n",
       "      <td>0.114000</td>\n",
       "      <td>0.073000</td>\n",
       "      <td>2019</td>\n",
       "      <td>1.991000</td>\n",
       "    </tr>\n",
       "    <tr>\n",
       "      <th>136</th>\n",
       "      <td>ANGOLA</td>\n",
       "      <td>SUB-SAHARAN AFRICA</td>\n",
       "      <td>137</td>\n",
       "      <td>4.033</td>\n",
       "      <td>0.757780</td>\n",
       "      <td>0.860400</td>\n",
       "      <td>0.166830</td>\n",
       "      <td>0.103840</td>\n",
       "      <td>0.071220</td>\n",
       "      <td>0.123440</td>\n",
       "      <td>2015</td>\n",
       "      <td>1.949490</td>\n",
       "    </tr>\n",
       "    <tr>\n",
       "      <th>140</th>\n",
       "      <td>ANGOLA</td>\n",
       "      <td>SUB-SAHARAN AFRICA</td>\n",
       "      <td>141</td>\n",
       "      <td>3.866</td>\n",
       "      <td>0.847310</td>\n",
       "      <td>0.663660</td>\n",
       "      <td>0.049910</td>\n",
       "      <td>0.005890</td>\n",
       "      <td>0.084340</td>\n",
       "      <td>0.120710</td>\n",
       "      <td>2016</td>\n",
       "      <td>2.094180</td>\n",
       "    </tr>\n",
       "    <tr>\n",
       "      <th>139</th>\n",
       "      <td>ANGOLA</td>\n",
       "      <td>SUB-SAHARAN AFRICA</td>\n",
       "      <td>140</td>\n",
       "      <td>3.795</td>\n",
       "      <td>0.858428</td>\n",
       "      <td>1.104412</td>\n",
       "      <td>0.049869</td>\n",
       "      <td>0.000000</td>\n",
       "      <td>0.069720</td>\n",
       "      <td>0.097926</td>\n",
       "      <td>2017</td>\n",
       "      <td>1.614644</td>\n",
       "    </tr>\n",
       "    <tr>\n",
       "      <th>141</th>\n",
       "      <td>ANGOLA</td>\n",
       "      <td>SUB-SAHARAN AFRICA</td>\n",
       "      <td>142</td>\n",
       "      <td>3.795</td>\n",
       "      <td>0.730000</td>\n",
       "      <td>1.125000</td>\n",
       "      <td>0.269000</td>\n",
       "      <td>0.000000</td>\n",
       "      <td>0.061000</td>\n",
       "      <td>0.079000</td>\n",
       "      <td>2018</td>\n",
       "      <td>1.531000</td>\n",
       "    </tr>\n",
       "    <tr>\n",
       "      <th>29</th>\n",
       "      <td>ARGENTINA</td>\n",
       "      <td>LATIN AMERICA AND CARIBBEAN</td>\n",
       "      <td>30</td>\n",
       "      <td>6.574</td>\n",
       "      <td>1.053510</td>\n",
       "      <td>1.248230</td>\n",
       "      <td>0.787230</td>\n",
       "      <td>0.449740</td>\n",
       "      <td>0.084840</td>\n",
       "      <td>0.114510</td>\n",
       "      <td>2015</td>\n",
       "      <td>2.835940</td>\n",
       "    </tr>\n",
       "  </tbody>\n",
       "</table>\n",
       "</div>"
      ],
      "text/plain": [
       "         Country                           Region  Happiness Rank  \\\n",
       "152  AFGHANISTAN                    SOUTHERN ASIA             153   \n",
       "153  AFGHANISTAN                    SOUTHERN ASIA             154   \n",
       "140  AFGHANISTAN                    SOUTHERN ASIA             141   \n",
       "144  AFGHANISTAN                    SOUTHERN ASIA             145   \n",
       "153  AFGHANISTAN                    SOUTHERN ASIA             154   \n",
       "94       ALBANIA       CENTRAL AND EASTERN EUROPE              95   \n",
       "108      ALBANIA       CENTRAL AND EASTERN EUROPE             109   \n",
       "108      ALBANIA       CENTRAL AND EASTERN EUROPE             109   \n",
       "111      ALBANIA       CENTRAL AND EASTERN EUROPE             112   \n",
       "106      ALBANIA       CENTRAL AND EASTERN EUROPE             107   \n",
       "67       ALGERIA  MIDDLE EAST AND NORTHERN AFRICA              68   \n",
       "37       ALGERIA  MIDDLE EAST AND NORTHERN AFRICA              38   \n",
       "52       ALGERIA  MIDDLE EAST AND NORTHERN AFRICA              53   \n",
       "83       ALGERIA  MIDDLE EAST AND NORTHERN AFRICA              84   \n",
       "87       ALGERIA  MIDDLE EAST AND NORTHERN AFRICA              88   \n",
       "136       ANGOLA               SUB-SAHARAN AFRICA             137   \n",
       "140       ANGOLA               SUB-SAHARAN AFRICA             141   \n",
       "139       ANGOLA               SUB-SAHARAN AFRICA             140   \n",
       "141       ANGOLA               SUB-SAHARAN AFRICA             142   \n",
       "29     ARGENTINA      LATIN AMERICA AND CARIBBEAN              30   \n",
       "\n",
       "     Happiness Score  Economy (GDP per Capita)    Family  \\\n",
       "152            3.575                  0.319820  0.302850   \n",
       "153            3.360                  0.382270  0.110370   \n",
       "140            3.794                  0.401477  0.581543   \n",
       "144            3.632                  0.332000  0.537000   \n",
       "153            3.203                  0.350000  0.517000   \n",
       "94             4.959                  0.878670  0.804340   \n",
       "108            4.655                  0.955300  0.501630   \n",
       "108            4.644                  0.996193  0.803685   \n",
       "111            4.586                  0.916000  0.817000   \n",
       "106            4.719                  0.947000  0.848000   \n",
       "67             5.605                  0.939290  1.077720   \n",
       "37             6.355                  1.052660  0.833090   \n",
       "52             5.872                  1.091864  1.146217   \n",
       "83             5.295                  0.979000  1.154000   \n",
       "87             5.211                  1.002000  1.160000   \n",
       "136            4.033                  0.757780  0.860400   \n",
       "140            3.866                  0.847310  0.663660   \n",
       "139            3.795                  0.858428  1.104412   \n",
       "141            3.795                  0.730000  1.125000   \n",
       "29             6.574                  1.053510  1.248230   \n",
       "\n",
       "     Health (Life Expectancy)   Freedom  Trust (Government Corruption)  \\\n",
       "152                  0.303350  0.234140                       0.097190   \n",
       "153                  0.173440  0.164300                       0.071120   \n",
       "140                  0.180747  0.106180                       0.061158   \n",
       "144                  0.255000  0.085000                       0.036000   \n",
       "153                  0.361000  0.000000                       0.025000   \n",
       "94                   0.813250  0.357330                       0.064130   \n",
       "108                  0.730070  0.318660                       0.053010   \n",
       "108                  0.731160  0.381499                       0.039864   \n",
       "111                  0.790000  0.419000                       0.032000   \n",
       "106                  0.874000  0.383000                       0.027000   \n",
       "67                   0.617660  0.285790                       0.173830   \n",
       "37                   0.618040  0.210060                       0.161570   \n",
       "52                   0.617585  0.233336                       0.146096   \n",
       "83                   0.687000  0.077000                       0.135000   \n",
       "87                   0.785000  0.086000                       0.114000   \n",
       "136                  0.166830  0.103840                       0.071220   \n",
       "140                  0.049910  0.005890                       0.084340   \n",
       "139                  0.049869  0.000000                       0.069720   \n",
       "141                  0.269000  0.000000                       0.061000   \n",
       "29                   0.787230  0.449740                       0.084840   \n",
       "\n",
       "     Generosity  Year  Dystopia Residual  \n",
       "152    0.365100  2015           1.952550  \n",
       "153    0.312680  2016           2.145820  \n",
       "140    0.311871  2017           2.151024  \n",
       "144    0.191000  2018           2.196000  \n",
       "153    0.158000  2019           1.792000  \n",
       "94     0.142720  2015           1.898560  \n",
       "108    0.168400  2016           1.927930  \n",
       "108    0.201313  2017           1.490287  \n",
       "111    0.149000  2018           1.463000  \n",
       "106    0.178000  2019           1.462000  \n",
       "67     0.078220  2015           2.432490  \n",
       "37     0.070440  2016           3.409140  \n",
       "52     0.069437  2017           2.567465  \n",
       "83     0.055000  2018           2.208000  \n",
       "87     0.073000  2019           1.991000  \n",
       "136    0.123440  2015           1.949490  \n",
       "140    0.120710  2016           2.094180  \n",
       "139    0.097926  2017           1.614644  \n",
       "141    0.079000  2018           1.531000  \n",
       "29     0.114510  2015           2.835940  "
      ]
     },
     "execution_count": 11,
     "metadata": {},
     "output_type": "execute_result"
    }
   ],
   "source": [
    "# Let's see our final DataFrame.\n",
    "tables.head(20)"
   ]
  },
  {
   "cell_type": "code",
   "execution_count": 12,
   "metadata": {},
   "outputs": [
    {
     "data": {
      "text/plain": [
       "AFGHANISTAN                 1\n",
       "MOLDOVA                     1\n",
       "KOSOVO                      1\n",
       "MYANMAR                     1\n",
       "NEPAL                       1\n",
       "                           ..\n",
       "NORTH MACEDONIA             1\n",
       "DJIBOUTI                    1\n",
       "TAIWAN PROVINCE OF CHINA    1\n",
       "SOMALILAND REGION           1\n",
       "OMAN                        1\n",
       "Name: Country, Length: 169, dtype: int64"
      ]
     },
     "execution_count": 12,
     "metadata": {},
     "output_type": "execute_result"
    }
   ],
   "source": [
    "# Check that every Country have only 1 combination, of Country - Region pair. \n",
    "# If you want to understand more how it works in deep, delete since the first function and continue adding them step by step.\n",
    "tables[['Country', 'Region']].value_counts().to_frame().reset_index().Country.value_counts().sort_values()"
   ]
  },
  {
   "cell_type": "markdown",
   "metadata": {},
   "source": [
    "# Data Exploratory Analysis\n",
    "\n",
    "Now that we have everything settled, we can start our analysis. Allways is very important to check carefully your data before starting your analysis."
   ]
  },
  {
   "cell_type": "code",
   "execution_count": 13,
   "metadata": {},
   "outputs": [
    {
     "data": {
      "text/html": [
       "<div>\n",
       "<style scoped>\n",
       "    .dataframe tbody tr th:only-of-type {\n",
       "        vertical-align: middle;\n",
       "    }\n",
       "\n",
       "    .dataframe tbody tr th {\n",
       "        vertical-align: top;\n",
       "    }\n",
       "\n",
       "    .dataframe thead th {\n",
       "        text-align: right;\n",
       "    }\n",
       "</style>\n",
       "<table border=\"1\" class=\"dataframe\">\n",
       "  <thead>\n",
       "    <tr style=\"text-align: right;\">\n",
       "      <th></th>\n",
       "      <th>Happiness Rank</th>\n",
       "      <th>Happiness Score</th>\n",
       "      <th>Economy (GDP per Capita)</th>\n",
       "      <th>Family</th>\n",
       "      <th>Health (Life Expectancy)</th>\n",
       "      <th>Freedom</th>\n",
       "      <th>Trust (Government Corruption)</th>\n",
       "      <th>Generosity</th>\n",
       "      <th>Year</th>\n",
       "      <th>Dystopia Residual</th>\n",
       "    </tr>\n",
       "  </thead>\n",
       "  <tbody>\n",
       "    <tr>\n",
       "      <th>count</th>\n",
       "      <td>782.000000</td>\n",
       "      <td>782.000000</td>\n",
       "      <td>782.000000</td>\n",
       "      <td>782.000000</td>\n",
       "      <td>782.000000</td>\n",
       "      <td>782.000000</td>\n",
       "      <td>782.000000</td>\n",
       "      <td>782.000000</td>\n",
       "      <td>782.000000</td>\n",
       "      <td>782.000000</td>\n",
       "    </tr>\n",
       "    <tr>\n",
       "      <th>mean</th>\n",
       "      <td>78.698210</td>\n",
       "      <td>5.379018</td>\n",
       "      <td>0.916047</td>\n",
       "      <td>1.078392</td>\n",
       "      <td>0.612416</td>\n",
       "      <td>0.411091</td>\n",
       "      <td>0.125690</td>\n",
       "      <td>0.218576</td>\n",
       "      <td>2016.993606</td>\n",
       "      <td>2.016806</td>\n",
       "    </tr>\n",
       "    <tr>\n",
       "      <th>std</th>\n",
       "      <td>45.182384</td>\n",
       "      <td>1.127456</td>\n",
       "      <td>0.407340</td>\n",
       "      <td>0.329548</td>\n",
       "      <td>0.248309</td>\n",
       "      <td>0.152880</td>\n",
       "      <td>0.105988</td>\n",
       "      <td>0.122321</td>\n",
       "      <td>1.417364</td>\n",
       "      <td>0.556426</td>\n",
       "    </tr>\n",
       "    <tr>\n",
       "      <th>min</th>\n",
       "      <td>1.000000</td>\n",
       "      <td>2.693000</td>\n",
       "      <td>0.000000</td>\n",
       "      <td>0.000000</td>\n",
       "      <td>0.000000</td>\n",
       "      <td>0.000000</td>\n",
       "      <td>0.000000</td>\n",
       "      <td>0.000000</td>\n",
       "      <td>2015.000000</td>\n",
       "      <td>0.184000</td>\n",
       "    </tr>\n",
       "    <tr>\n",
       "      <th>25%</th>\n",
       "      <td>40.000000</td>\n",
       "      <td>4.509750</td>\n",
       "      <td>0.606500</td>\n",
       "      <td>0.869363</td>\n",
       "      <td>0.440183</td>\n",
       "      <td>0.309768</td>\n",
       "      <td>0.054250</td>\n",
       "      <td>0.130000</td>\n",
       "      <td>2016.000000</td>\n",
       "      <td>1.678000</td>\n",
       "    </tr>\n",
       "    <tr>\n",
       "      <th>50%</th>\n",
       "      <td>79.000000</td>\n",
       "      <td>5.322000</td>\n",
       "      <td>0.982205</td>\n",
       "      <td>1.124735</td>\n",
       "      <td>0.647310</td>\n",
       "      <td>0.431000</td>\n",
       "      <td>0.091033</td>\n",
       "      <td>0.201982</td>\n",
       "      <td>2017.000000</td>\n",
       "      <td>2.022000</td>\n",
       "    </tr>\n",
       "    <tr>\n",
       "      <th>75%</th>\n",
       "      <td>118.000000</td>\n",
       "      <td>6.189500</td>\n",
       "      <td>1.236187</td>\n",
       "      <td>1.327250</td>\n",
       "      <td>0.808000</td>\n",
       "      <td>0.531000</td>\n",
       "      <td>0.156243</td>\n",
       "      <td>0.278832</td>\n",
       "      <td>2018.000000</td>\n",
       "      <td>2.371473</td>\n",
       "    </tr>\n",
       "    <tr>\n",
       "      <th>max</th>\n",
       "      <td>158.000000</td>\n",
       "      <td>7.769000</td>\n",
       "      <td>2.096000</td>\n",
       "      <td>1.644000</td>\n",
       "      <td>1.141000</td>\n",
       "      <td>0.724000</td>\n",
       "      <td>0.551910</td>\n",
       "      <td>0.838075</td>\n",
       "      <td>2019.000000</td>\n",
       "      <td>3.837380</td>\n",
       "    </tr>\n",
       "  </tbody>\n",
       "</table>\n",
       "</div>"
      ],
      "text/plain": [
       "       Happiness Rank  Happiness Score  Economy (GDP per Capita)      Family  \\\n",
       "count      782.000000       782.000000                782.000000  782.000000   \n",
       "mean        78.698210         5.379018                  0.916047    1.078392   \n",
       "std         45.182384         1.127456                  0.407340    0.329548   \n",
       "min          1.000000         2.693000                  0.000000    0.000000   \n",
       "25%         40.000000         4.509750                  0.606500    0.869363   \n",
       "50%         79.000000         5.322000                  0.982205    1.124735   \n",
       "75%        118.000000         6.189500                  1.236187    1.327250   \n",
       "max        158.000000         7.769000                  2.096000    1.644000   \n",
       "\n",
       "       Health (Life Expectancy)     Freedom  Trust (Government Corruption)  \\\n",
       "count                782.000000  782.000000                     782.000000   \n",
       "mean                   0.612416    0.411091                       0.125690   \n",
       "std                    0.248309    0.152880                       0.105988   \n",
       "min                    0.000000    0.000000                       0.000000   \n",
       "25%                    0.440183    0.309768                       0.054250   \n",
       "50%                    0.647310    0.431000                       0.091033   \n",
       "75%                    0.808000    0.531000                       0.156243   \n",
       "max                    1.141000    0.724000                       0.551910   \n",
       "\n",
       "       Generosity         Year  Dystopia Residual  \n",
       "count  782.000000   782.000000         782.000000  \n",
       "mean     0.218576  2016.993606           2.016806  \n",
       "std      0.122321     1.417364           0.556426  \n",
       "min      0.000000  2015.000000           0.184000  \n",
       "25%      0.130000  2016.000000           1.678000  \n",
       "50%      0.201982  2017.000000           2.022000  \n",
       "75%      0.278832  2018.000000           2.371473  \n",
       "max      0.838075  2019.000000           3.837380  "
      ]
     },
     "execution_count": 13,
     "metadata": {},
     "output_type": "execute_result"
    }
   ],
   "source": [
    "# Let's see the general descriptive statistics of the DataFrame.\n",
    "# We can't inference much about the variables, because they are just calculations or transformations from the real ones, and we don't know how they are calculated.\n",
    "# Anyways it's important this step to see if we can find something extrange or insightful.\n",
    "tables.describe()"
   ]
  },
  {
   "cell_type": "code",
   "execution_count": 14,
   "metadata": {},
   "outputs": [
    {
     "data": {
      "application/vnd.plotly.v1+json": {
       "config": {
        "plotlyServerURL": "https://plot.ly"
       },
       "data": [
        {
         "alignmentgroup": "True",
         "bingroup": "x",
         "histnorm": "probability",
         "hovertemplate": "Region=%{x}<br>probability=%{y}<extra></extra>",
         "legendgroup": "",
         "marker": {
          "color": "#636efa",
          "pattern": {
           "shape": ""
          }
         },
         "name": "",
         "offsetgroup": "",
         "orientation": "v",
         "showlegend": false,
         "type": "histogram",
         "x": [
          "SOUTHERN ASIA",
          "SOUTHERN ASIA",
          "SOUTHERN ASIA",
          "SOUTHERN ASIA",
          "SOUTHERN ASIA",
          "CENTRAL AND EASTERN EUROPE",
          "CENTRAL AND EASTERN EUROPE",
          "CENTRAL AND EASTERN EUROPE",
          "CENTRAL AND EASTERN EUROPE",
          "CENTRAL AND EASTERN EUROPE",
          "MIDDLE EAST AND NORTHERN AFRICA",
          "MIDDLE EAST AND NORTHERN AFRICA",
          "MIDDLE EAST AND NORTHERN AFRICA",
          "MIDDLE EAST AND NORTHERN AFRICA",
          "MIDDLE EAST AND NORTHERN AFRICA",
          "SUB-SAHARAN AFRICA",
          "SUB-SAHARAN AFRICA",
          "SUB-SAHARAN AFRICA",
          "SUB-SAHARAN AFRICA",
          "LATIN AMERICA AND CARIBBEAN",
          "LATIN AMERICA AND CARIBBEAN",
          "LATIN AMERICA AND CARIBBEAN",
          "LATIN AMERICA AND CARIBBEAN",
          "LATIN AMERICA AND CARIBBEAN",
          "CENTRAL AND EASTERN EUROPE",
          "CENTRAL AND EASTERN EUROPE",
          "CENTRAL AND EASTERN EUROPE",
          "CENTRAL AND EASTERN EUROPE",
          "CENTRAL AND EASTERN EUROPE",
          "AUSTRALIA AND NEW ZEALAND",
          "AUSTRALIA AND NEW ZEALAND",
          "AUSTRALIA AND NEW ZEALAND",
          "AUSTRALIA AND NEW ZEALAND",
          "AUSTRALIA AND NEW ZEALAND",
          "WESTERN EUROPE",
          "WESTERN EUROPE",
          "WESTERN EUROPE",
          "WESTERN EUROPE",
          "WESTERN EUROPE",
          "CENTRAL AND EASTERN EUROPE",
          "CENTRAL AND EASTERN EUROPE",
          "CENTRAL AND EASTERN EUROPE",
          "CENTRAL AND EASTERN EUROPE",
          "CENTRAL AND EASTERN EUROPE",
          "MIDDLE EAST AND NORTHERN AFRICA",
          "MIDDLE EAST AND NORTHERN AFRICA",
          "MIDDLE EAST AND NORTHERN AFRICA",
          "MIDDLE EAST AND NORTHERN AFRICA",
          "MIDDLE EAST AND NORTHERN AFRICA",
          "SOUTHERN ASIA",
          "SOUTHERN ASIA",
          "SOUTHERN ASIA",
          "SOUTHERN ASIA",
          "SOUTHERN ASIA",
          "CENTRAL AND EASTERN EUROPE",
          "CENTRAL AND EASTERN EUROPE",
          "CENTRAL AND EASTERN EUROPE",
          "CENTRAL AND EASTERN EUROPE",
          "CENTRAL AND EASTERN EUROPE",
          "WESTERN EUROPE",
          "WESTERN EUROPE",
          "WESTERN EUROPE",
          "WESTERN EUROPE",
          "WESTERN EUROPE",
          "LATIN AMERICA AND CARIBBEAN",
          "LATIN AMERICA AND CARIBBEAN",
          "LATIN AMERICA AND CARIBBEAN",
          "SUB-SAHARAN AFRICA",
          "SUB-SAHARAN AFRICA",
          "SUB-SAHARAN AFRICA",
          "SUB-SAHARAN AFRICA",
          "SUB-SAHARAN AFRICA",
          "SOUTHERN ASIA",
          "SOUTHERN ASIA",
          "SOUTHERN ASIA",
          "SOUTHERN ASIA",
          "SOUTHERN ASIA",
          "LATIN AMERICA AND CARIBBEAN",
          "LATIN AMERICA AND CARIBBEAN",
          "LATIN AMERICA AND CARIBBEAN",
          "LATIN AMERICA AND CARIBBEAN",
          "LATIN AMERICA AND CARIBBEAN",
          "CENTRAL AND EASTERN EUROPE",
          "CENTRAL AND EASTERN EUROPE",
          "CENTRAL AND EASTERN EUROPE",
          "CENTRAL AND EASTERN EUROPE",
          "CENTRAL AND EASTERN EUROPE",
          "SUB-SAHARAN AFRICA",
          "SUB-SAHARAN AFRICA",
          "SUB-SAHARAN AFRICA",
          "SUB-SAHARAN AFRICA",
          "SUB-SAHARAN AFRICA",
          "LATIN AMERICA AND CARIBBEAN",
          "LATIN AMERICA AND CARIBBEAN",
          "LATIN AMERICA AND CARIBBEAN",
          "LATIN AMERICA AND CARIBBEAN",
          "LATIN AMERICA AND CARIBBEAN",
          "CENTRAL AND EASTERN EUROPE",
          "CENTRAL AND EASTERN EUROPE",
          "CENTRAL AND EASTERN EUROPE",
          "CENTRAL AND EASTERN EUROPE",
          "CENTRAL AND EASTERN EUROPE",
          "SUB-SAHARAN AFRICA",
          "SUB-SAHARAN AFRICA",
          "SUB-SAHARAN AFRICA",
          "SUB-SAHARAN AFRICA",
          "SUB-SAHARAN AFRICA",
          "SUB-SAHARAN AFRICA",
          "SUB-SAHARAN AFRICA",
          "SUB-SAHARAN AFRICA",
          "SUB-SAHARAN AFRICA",
          "SUB-SAHARAN AFRICA",
          "SOUTHEASTERN ASIA",
          "SOUTHEASTERN ASIA",
          "SOUTHEASTERN ASIA",
          "SOUTHEASTERN ASIA",
          "SOUTHEASTERN ASIA",
          "SUB-SAHARAN AFRICA",
          "SUB-SAHARAN AFRICA",
          "SUB-SAHARAN AFRICA",
          "SUB-SAHARAN AFRICA",
          "SUB-SAHARAN AFRICA",
          "NORTH AMERICA",
          "NORTH AMERICA",
          "NORTH AMERICA",
          "NORTH AMERICA",
          "NORTH AMERICA",
          "SUB-SAHARAN AFRICA",
          "SUB-SAHARAN AFRICA",
          "SUB-SAHARAN AFRICA",
          "SUB-SAHARAN AFRICA",
          "SUB-SAHARAN AFRICA",
          "SUB-SAHARAN AFRICA",
          "SUB-SAHARAN AFRICA",
          "SUB-SAHARAN AFRICA",
          "SUB-SAHARAN AFRICA",
          "LATIN AMERICA AND CARIBBEAN",
          "LATIN AMERICA AND CARIBBEAN",
          "LATIN AMERICA AND CARIBBEAN",
          "LATIN AMERICA AND CARIBBEAN",
          "LATIN AMERICA AND CARIBBEAN",
          "EASTERN ASIA",
          "EASTERN ASIA",
          "EASTERN ASIA",
          "EASTERN ASIA",
          "EASTERN ASIA",
          "LATIN AMERICA AND CARIBBEAN",
          "LATIN AMERICA AND CARIBBEAN",
          "LATIN AMERICA AND CARIBBEAN",
          "LATIN AMERICA AND CARIBBEAN",
          "LATIN AMERICA AND CARIBBEAN",
          "SUB-SAHARAN AFRICA",
          "SUB-SAHARAN AFRICA",
          "SUB-SAHARAN AFRICA",
          "SUB-SAHARAN AFRICA",
          "SUB-SAHARAN AFRICA",
          "SUB-SAHARAN AFRICA",
          "SUB-SAHARAN AFRICA",
          "SUB-SAHARAN AFRICA",
          "SUB-SAHARAN AFRICA",
          "SUB-SAHARAN AFRICA",
          "SUB-SAHARAN AFRICA",
          "SUB-SAHARAN AFRICA",
          "SUB-SAHARAN AFRICA",
          "LATIN AMERICA AND CARIBBEAN",
          "LATIN AMERICA AND CARIBBEAN",
          "LATIN AMERICA AND CARIBBEAN",
          "LATIN AMERICA AND CARIBBEAN",
          "LATIN AMERICA AND CARIBBEAN",
          "CENTRAL AND EASTERN EUROPE",
          "CENTRAL AND EASTERN EUROPE",
          "CENTRAL AND EASTERN EUROPE",
          "CENTRAL AND EASTERN EUROPE",
          "CENTRAL AND EASTERN EUROPE",
          "WESTERN EUROPE",
          "WESTERN EUROPE",
          "WESTERN EUROPE",
          "WESTERN EUROPE",
          "WESTERN EUROPE",
          "CENTRAL AND EASTERN EUROPE",
          "CENTRAL AND EASTERN EUROPE",
          "CENTRAL AND EASTERN EUROPE",
          "CENTRAL AND EASTERN EUROPE",
          "CENTRAL AND EASTERN EUROPE",
          "WESTERN EUROPE",
          "WESTERN EUROPE",
          "WESTERN EUROPE",
          "WESTERN EUROPE",
          "WESTERN EUROPE",
          "SUB-SAHARAN AFRICA",
          "LATIN AMERICA AND CARIBBEAN",
          "LATIN AMERICA AND CARIBBEAN",
          "LATIN AMERICA AND CARIBBEAN",
          "LATIN AMERICA AND CARIBBEAN",
          "LATIN AMERICA AND CARIBBEAN",
          "LATIN AMERICA AND CARIBBEAN",
          "LATIN AMERICA AND CARIBBEAN",
          "LATIN AMERICA AND CARIBBEAN",
          "LATIN AMERICA AND CARIBBEAN",
          "LATIN AMERICA AND CARIBBEAN",
          "MIDDLE EAST AND NORTHERN AFRICA",
          "MIDDLE EAST AND NORTHERN AFRICA",
          "MIDDLE EAST AND NORTHERN AFRICA",
          "MIDDLE EAST AND NORTHERN AFRICA",
          "MIDDLE EAST AND NORTHERN AFRICA",
          "LATIN AMERICA AND CARIBBEAN",
          "LATIN AMERICA AND CARIBBEAN",
          "LATIN AMERICA AND CARIBBEAN",
          "LATIN AMERICA AND CARIBBEAN",
          "LATIN AMERICA AND CARIBBEAN",
          "CENTRAL AND EASTERN EUROPE",
          "CENTRAL AND EASTERN EUROPE",
          "CENTRAL AND EASTERN EUROPE",
          "CENTRAL AND EASTERN EUROPE",
          "CENTRAL AND EASTERN EUROPE",
          "SUB-SAHARAN AFRICA",
          "SUB-SAHARAN AFRICA",
          "SUB-SAHARAN AFRICA",
          "SUB-SAHARAN AFRICA",
          "SUB-SAHARAN AFRICA",
          "WESTERN EUROPE",
          "WESTERN EUROPE",
          "WESTERN EUROPE",
          "WESTERN EUROPE",
          "WESTERN EUROPE",
          "WESTERN EUROPE",
          "WESTERN EUROPE",
          "WESTERN EUROPE",
          "WESTERN EUROPE",
          "WESTERN EUROPE",
          "SUB-SAHARAN AFRICA",
          "SUB-SAHARAN AFRICA",
          "SUB-SAHARAN AFRICA",
          "SUB-SAHARAN AFRICA",
          "SUB-SAHARAN AFRICA",
          "SUB-SAHARAN AFRICA",
          "CENTRAL AND EASTERN EUROPE",
          "CENTRAL AND EASTERN EUROPE",
          "CENTRAL AND EASTERN EUROPE",
          "CENTRAL AND EASTERN EUROPE",
          "CENTRAL AND EASTERN EUROPE",
          "WESTERN EUROPE",
          "WESTERN EUROPE",
          "WESTERN EUROPE",
          "WESTERN EUROPE",
          "WESTERN EUROPE",
          "SUB-SAHARAN AFRICA",
          "SUB-SAHARAN AFRICA",
          "SUB-SAHARAN AFRICA",
          "SUB-SAHARAN AFRICA",
          "SUB-SAHARAN AFRICA",
          "WESTERN EUROPE",
          "WESTERN EUROPE",
          "WESTERN EUROPE",
          "WESTERN EUROPE",
          "WESTERN EUROPE",
          "LATIN AMERICA AND CARIBBEAN",
          "LATIN AMERICA AND CARIBBEAN",
          "LATIN AMERICA AND CARIBBEAN",
          "LATIN AMERICA AND CARIBBEAN",
          "LATIN AMERICA AND CARIBBEAN",
          "SUB-SAHARAN AFRICA",
          "SUB-SAHARAN AFRICA",
          "SUB-SAHARAN AFRICA",
          "SUB-SAHARAN AFRICA",
          "SUB-SAHARAN AFRICA",
          "LATIN AMERICA AND CARIBBEAN",
          "LATIN AMERICA AND CARIBBEAN",
          "LATIN AMERICA AND CARIBBEAN",
          "LATIN AMERICA AND CARIBBEAN",
          "LATIN AMERICA AND CARIBBEAN",
          "LATIN AMERICA AND CARIBBEAN",
          "LATIN AMERICA AND CARIBBEAN",
          "LATIN AMERICA AND CARIBBEAN",
          "LATIN AMERICA AND CARIBBEAN",
          "LATIN AMERICA AND CARIBBEAN",
          "EASTERN ASIA",
          "EASTERN ASIA",
          "EASTERN ASIA",
          "EASTERN ASIA",
          "EASTERN ASIA",
          "CENTRAL AND EASTERN EUROPE",
          "CENTRAL AND EASTERN EUROPE",
          "CENTRAL AND EASTERN EUROPE",
          "CENTRAL AND EASTERN EUROPE",
          "CENTRAL AND EASTERN EUROPE",
          "WESTERN EUROPE",
          "WESTERN EUROPE",
          "WESTERN EUROPE",
          "WESTERN EUROPE",
          "WESTERN EUROPE",
          "SOUTHERN ASIA",
          "SOUTHERN ASIA",
          "SOUTHERN ASIA",
          "SOUTHERN ASIA",
          "SOUTHERN ASIA",
          "SOUTHEASTERN ASIA",
          "SOUTHEASTERN ASIA",
          "SOUTHEASTERN ASIA",
          "SOUTHEASTERN ASIA",
          "SOUTHEASTERN ASIA",
          "MIDDLE EAST AND NORTHERN AFRICA",
          "MIDDLE EAST AND NORTHERN AFRICA",
          "MIDDLE EAST AND NORTHERN AFRICA",
          "MIDDLE EAST AND NORTHERN AFRICA",
          "MIDDLE EAST AND NORTHERN AFRICA",
          "MIDDLE EAST AND NORTHERN AFRICA",
          "MIDDLE EAST AND NORTHERN AFRICA",
          "MIDDLE EAST AND NORTHERN AFRICA",
          "MIDDLE EAST AND NORTHERN AFRICA",
          "MIDDLE EAST AND NORTHERN AFRICA",
          "WESTERN EUROPE",
          "WESTERN EUROPE",
          "WESTERN EUROPE",
          "WESTERN EUROPE",
          "WESTERN EUROPE",
          "MIDDLE EAST AND NORTHERN AFRICA",
          "MIDDLE EAST AND NORTHERN AFRICA",
          "MIDDLE EAST AND NORTHERN AFRICA",
          "MIDDLE EAST AND NORTHERN AFRICA",
          "MIDDLE EAST AND NORTHERN AFRICA",
          "WESTERN EUROPE",
          "WESTERN EUROPE",
          "WESTERN EUROPE",
          "WESTERN EUROPE",
          "WESTERN EUROPE",
          "SUB-SAHARAN AFRICA",
          "SUB-SAHARAN AFRICA",
          "SUB-SAHARAN AFRICA",
          "SUB-SAHARAN AFRICA",
          "SUB-SAHARAN AFRICA",
          "LATIN AMERICA AND CARIBBEAN",
          "LATIN AMERICA AND CARIBBEAN",
          "LATIN AMERICA AND CARIBBEAN",
          "LATIN AMERICA AND CARIBBEAN",
          "LATIN AMERICA AND CARIBBEAN",
          "EASTERN ASIA",
          "EASTERN ASIA",
          "EASTERN ASIA",
          "EASTERN ASIA",
          "EASTERN ASIA",
          "MIDDLE EAST AND NORTHERN AFRICA",
          "MIDDLE EAST AND NORTHERN AFRICA",
          "MIDDLE EAST AND NORTHERN AFRICA",
          "MIDDLE EAST AND NORTHERN AFRICA",
          "MIDDLE EAST AND NORTHERN AFRICA",
          "CENTRAL AND EASTERN EUROPE",
          "CENTRAL AND EASTERN EUROPE",
          "CENTRAL AND EASTERN EUROPE",
          "CENTRAL AND EASTERN EUROPE",
          "CENTRAL AND EASTERN EUROPE",
          "SUB-SAHARAN AFRICA",
          "SUB-SAHARAN AFRICA",
          "SUB-SAHARAN AFRICA",
          "SUB-SAHARAN AFRICA",
          "SUB-SAHARAN AFRICA",
          "CENTRAL AND EASTERN EUROPE",
          "CENTRAL AND EASTERN EUROPE",
          "CENTRAL AND EASTERN EUROPE",
          "CENTRAL AND EASTERN EUROPE",
          "CENTRAL AND EASTERN EUROPE",
          "MIDDLE EAST AND NORTHERN AFRICA",
          "MIDDLE EAST AND NORTHERN AFRICA",
          "MIDDLE EAST AND NORTHERN AFRICA",
          "MIDDLE EAST AND NORTHERN AFRICA",
          "MIDDLE EAST AND NORTHERN AFRICA",
          "CENTRAL AND EASTERN EUROPE",
          "CENTRAL AND EASTERN EUROPE",
          "CENTRAL AND EASTERN EUROPE",
          "CENTRAL AND EASTERN EUROPE",
          "CENTRAL AND EASTERN EUROPE",
          "SOUTHEASTERN ASIA",
          "SOUTHEASTERN ASIA",
          "SOUTHEASTERN ASIA",
          "SOUTHEASTERN ASIA",
          "CENTRAL AND EASTERN EUROPE",
          "CENTRAL AND EASTERN EUROPE",
          "CENTRAL AND EASTERN EUROPE",
          "CENTRAL AND EASTERN EUROPE",
          "CENTRAL AND EASTERN EUROPE",
          "MIDDLE EAST AND NORTHERN AFRICA",
          "MIDDLE EAST AND NORTHERN AFRICA",
          "MIDDLE EAST AND NORTHERN AFRICA",
          "MIDDLE EAST AND NORTHERN AFRICA",
          "MIDDLE EAST AND NORTHERN AFRICA",
          "SUB-SAHARAN AFRICA",
          "SUB-SAHARAN AFRICA",
          "SUB-SAHARAN AFRICA",
          "SUB-SAHARAN AFRICA",
          "SUB-SAHARAN AFRICA",
          "SUB-SAHARAN AFRICA",
          "SUB-SAHARAN AFRICA",
          "SUB-SAHARAN AFRICA",
          "SUB-SAHARAN AFRICA",
          "MIDDLE EAST AND NORTHERN AFRICA",
          "MIDDLE EAST AND NORTHERN AFRICA",
          "MIDDLE EAST AND NORTHERN AFRICA",
          "MIDDLE EAST AND NORTHERN AFRICA",
          "MIDDLE EAST AND NORTHERN AFRICA",
          "CENTRAL AND EASTERN EUROPE",
          "CENTRAL AND EASTERN EUROPE",
          "CENTRAL AND EASTERN EUROPE",
          "CENTRAL AND EASTERN EUROPE",
          "CENTRAL AND EASTERN EUROPE",
          "WESTERN EUROPE",
          "WESTERN EUROPE",
          "WESTERN EUROPE",
          "WESTERN EUROPE",
          "WESTERN EUROPE",
          "CENTRAL AND EASTERN EUROPE",
          "CENTRAL AND EASTERN EUROPE",
          "CENTRAL AND EASTERN EUROPE",
          "CENTRAL AND EASTERN EUROPE",
          "SUB-SAHARAN AFRICA",
          "SUB-SAHARAN AFRICA",
          "SUB-SAHARAN AFRICA",
          "SUB-SAHARAN AFRICA",
          "SUB-SAHARAN AFRICA",
          "SUB-SAHARAN AFRICA",
          "SUB-SAHARAN AFRICA",
          "SUB-SAHARAN AFRICA",
          "SUB-SAHARAN AFRICA",
          "SUB-SAHARAN AFRICA",
          "SOUTHEASTERN ASIA",
          "SOUTHEASTERN ASIA",
          "SOUTHEASTERN ASIA",
          "SOUTHEASTERN ASIA",
          "SOUTHEASTERN ASIA",
          "SUB-SAHARAN AFRICA",
          "SUB-SAHARAN AFRICA",
          "SUB-SAHARAN AFRICA",
          "SUB-SAHARAN AFRICA",
          "SUB-SAHARAN AFRICA",
          "WESTERN EUROPE",
          "WESTERN EUROPE",
          "WESTERN EUROPE",
          "WESTERN EUROPE",
          "WESTERN EUROPE",
          "SUB-SAHARAN AFRICA",
          "SUB-SAHARAN AFRICA",
          "SUB-SAHARAN AFRICA",
          "SUB-SAHARAN AFRICA",
          "SUB-SAHARAN AFRICA",
          "SUB-SAHARAN AFRICA",
          "SUB-SAHARAN AFRICA",
          "SUB-SAHARAN AFRICA",
          "SUB-SAHARAN AFRICA",
          "SUB-SAHARAN AFRICA",
          "LATIN AMERICA AND CARIBBEAN",
          "LATIN AMERICA AND CARIBBEAN",
          "LATIN AMERICA AND CARIBBEAN",
          "LATIN AMERICA AND CARIBBEAN",
          "LATIN AMERICA AND CARIBBEAN",
          "CENTRAL AND EASTERN EUROPE",
          "CENTRAL AND EASTERN EUROPE",
          "CENTRAL AND EASTERN EUROPE",
          "CENTRAL AND EASTERN EUROPE",
          "CENTRAL AND EASTERN EUROPE",
          "EASTERN ASIA",
          "EASTERN ASIA",
          "EASTERN ASIA",
          "EASTERN ASIA",
          "EASTERN ASIA",
          "CENTRAL AND EASTERN EUROPE",
          "CENTRAL AND EASTERN EUROPE",
          "CENTRAL AND EASTERN EUROPE",
          "CENTRAL AND EASTERN EUROPE",
          "CENTRAL AND EASTERN EUROPE",
          "MIDDLE EAST AND NORTHERN AFRICA",
          "MIDDLE EAST AND NORTHERN AFRICA",
          "MIDDLE EAST AND NORTHERN AFRICA",
          "MIDDLE EAST AND NORTHERN AFRICA",
          "MIDDLE EAST AND NORTHERN AFRICA",
          "SUB-SAHARAN AFRICA",
          "SUB-SAHARAN AFRICA",
          "SUB-SAHARAN AFRICA",
          "SUB-SAHARAN AFRICA",
          "SOUTHEASTERN ASIA",
          "SOUTHEASTERN ASIA",
          "SOUTHEASTERN ASIA",
          "SOUTHEASTERN ASIA",
          "SOUTHEASTERN ASIA",
          "SUB-SAHARAN AFRICA",
          "SUB-SAHARAN AFRICA",
          "SUB-SAHARAN AFRICA",
          "SUB-SAHARAN AFRICA",
          "SOUTHERN ASIA",
          "SOUTHERN ASIA",
          "SOUTHERN ASIA",
          "SOUTHERN ASIA",
          "SOUTHERN ASIA",
          "WESTERN EUROPE",
          "WESTERN EUROPE",
          "WESTERN EUROPE",
          "WESTERN EUROPE",
          "WESTERN EUROPE",
          "AUSTRALIA AND NEW ZEALAND",
          "AUSTRALIA AND NEW ZEALAND",
          "AUSTRALIA AND NEW ZEALAND",
          "AUSTRALIA AND NEW ZEALAND",
          "AUSTRALIA AND NEW ZEALAND",
          "LATIN AMERICA AND CARIBBEAN",
          "LATIN AMERICA AND CARIBBEAN",
          "LATIN AMERICA AND CARIBBEAN",
          "LATIN AMERICA AND CARIBBEAN",
          "LATIN AMERICA AND CARIBBEAN",
          "SUB-SAHARAN AFRICA",
          "SUB-SAHARAN AFRICA",
          "SUB-SAHARAN AFRICA",
          "SUB-SAHARAN AFRICA",
          "SUB-SAHARAN AFRICA",
          "SUB-SAHARAN AFRICA",
          "SUB-SAHARAN AFRICA",
          "SUB-SAHARAN AFRICA",
          "SUB-SAHARAN AFRICA",
          "SUB-SAHARAN AFRICA",
          "WESTERN EUROPE",
          "WESTERN EUROPE",
          "WESTERN EUROPE",
          "WESTERN EUROPE",
          "WESTERN EUROPE",
          "WESTERN EUROPE",
          "WESTERN EUROPE",
          "WESTERN EUROPE",
          "WESTERN EUROPE",
          "WESTERN EUROPE",
          "WESTERN EUROPE",
          "MIDDLE EAST AND NORTHERN AFRICA",
          "SOUTHERN ASIA",
          "SOUTHERN ASIA",
          "SOUTHERN ASIA",
          "SOUTHERN ASIA",
          "SOUTHERN ASIA",
          "MIDDLE EAST AND NORTHERN AFRICA",
          "MIDDLE EAST AND NORTHERN AFRICA",
          "MIDDLE EAST AND NORTHERN AFRICA",
          "MIDDLE EAST AND NORTHERN AFRICA",
          "MIDDLE EAST AND NORTHERN AFRICA",
          "LATIN AMERICA AND CARIBBEAN",
          "LATIN AMERICA AND CARIBBEAN",
          "LATIN AMERICA AND CARIBBEAN",
          "LATIN AMERICA AND CARIBBEAN",
          "LATIN AMERICA AND CARIBBEAN",
          "LATIN AMERICA AND CARIBBEAN",
          "LATIN AMERICA AND CARIBBEAN",
          "LATIN AMERICA AND CARIBBEAN",
          "LATIN AMERICA AND CARIBBEAN",
          "LATIN AMERICA AND CARIBBEAN",
          "LATIN AMERICA AND CARIBBEAN",
          "LATIN AMERICA AND CARIBBEAN",
          "LATIN AMERICA AND CARIBBEAN",
          "LATIN AMERICA AND CARIBBEAN",
          "LATIN AMERICA AND CARIBBEAN",
          "SOUTHEASTERN ASIA",
          "SOUTHEASTERN ASIA",
          "SOUTHEASTERN ASIA",
          "SOUTHEASTERN ASIA",
          "SOUTHEASTERN ASIA",
          "CENTRAL AND EASTERN EUROPE",
          "CENTRAL AND EASTERN EUROPE",
          "CENTRAL AND EASTERN EUROPE",
          "CENTRAL AND EASTERN EUROPE",
          "CENTRAL AND EASTERN EUROPE",
          "WESTERN EUROPE",
          "WESTERN EUROPE",
          "WESTERN EUROPE",
          "WESTERN EUROPE",
          "WESTERN EUROPE",
          "LATIN AMERICA AND CARIBBEAN",
          "MIDDLE EAST AND NORTHERN AFRICA",
          "MIDDLE EAST AND NORTHERN AFRICA",
          "MIDDLE EAST AND NORTHERN AFRICA",
          "MIDDLE EAST AND NORTHERN AFRICA",
          "MIDDLE EAST AND NORTHERN AFRICA",
          "CENTRAL AND EASTERN EUROPE",
          "CENTRAL AND EASTERN EUROPE",
          "CENTRAL AND EASTERN EUROPE",
          "CENTRAL AND EASTERN EUROPE",
          "CENTRAL AND EASTERN EUROPE",
          "CENTRAL AND EASTERN EUROPE",
          "CENTRAL AND EASTERN EUROPE",
          "CENTRAL AND EASTERN EUROPE",
          "CENTRAL AND EASTERN EUROPE",
          "CENTRAL AND EASTERN EUROPE",
          "SUB-SAHARAN AFRICA",
          "SUB-SAHARAN AFRICA",
          "SUB-SAHARAN AFRICA",
          "SUB-SAHARAN AFRICA",
          "SUB-SAHARAN AFRICA",
          "MIDDLE EAST AND NORTHERN AFRICA",
          "MIDDLE EAST AND NORTHERN AFRICA",
          "MIDDLE EAST AND NORTHERN AFRICA",
          "MIDDLE EAST AND NORTHERN AFRICA",
          "MIDDLE EAST AND NORTHERN AFRICA",
          "SUB-SAHARAN AFRICA",
          "SUB-SAHARAN AFRICA",
          "SUB-SAHARAN AFRICA",
          "SUB-SAHARAN AFRICA",
          "SUB-SAHARAN AFRICA",
          "CENTRAL AND EASTERN EUROPE",
          "CENTRAL AND EASTERN EUROPE",
          "CENTRAL AND EASTERN EUROPE",
          "CENTRAL AND EASTERN EUROPE",
          "CENTRAL AND EASTERN EUROPE",
          "SUB-SAHARAN AFRICA",
          "SUB-SAHARAN AFRICA",
          "SUB-SAHARAN AFRICA",
          "SUB-SAHARAN AFRICA",
          "SUB-SAHARAN AFRICA",
          "SOUTHEASTERN ASIA",
          "SOUTHEASTERN ASIA",
          "SOUTHEASTERN ASIA",
          "SOUTHEASTERN ASIA",
          "SOUTHEASTERN ASIA",
          "CENTRAL AND EASTERN EUROPE",
          "CENTRAL AND EASTERN EUROPE",
          "CENTRAL AND EASTERN EUROPE",
          "CENTRAL AND EASTERN EUROPE",
          "CENTRAL AND EASTERN EUROPE",
          "CENTRAL AND EASTERN EUROPE",
          "CENTRAL AND EASTERN EUROPE",
          "CENTRAL AND EASTERN EUROPE",
          "CENTRAL AND EASTERN EUROPE",
          "CENTRAL AND EASTERN EUROPE",
          "SUB-SAHARAN AFRICA",
          "SUB-SAHARAN AFRICA",
          "SUB-SAHARAN AFRICA",
          "SUB-SAHARAN AFRICA",
          "SUB-SAHARAN AFRICA",
          "SUB-SAHARAN AFRICA",
          "SUB-SAHARAN AFRICA",
          "SUB-SAHARAN AFRICA",
          "SUB-SAHARAN AFRICA",
          "SUB-SAHARAN AFRICA",
          "SUB-SAHARAN AFRICA",
          "EASTERN ASIA",
          "EASTERN ASIA",
          "EASTERN ASIA",
          "EASTERN ASIA",
          "EASTERN ASIA",
          "SUB-SAHARAN AFRICA",
          "SUB-SAHARAN AFRICA",
          "SUB-SAHARAN AFRICA",
          "SUB-SAHARAN AFRICA",
          "WESTERN EUROPE",
          "WESTERN EUROPE",
          "WESTERN EUROPE",
          "WESTERN EUROPE",
          "WESTERN EUROPE",
          "SOUTHERN ASIA",
          "SOUTHERN ASIA",
          "SOUTHERN ASIA",
          "SOUTHERN ASIA",
          "SOUTHERN ASIA",
          "SUB-SAHARAN AFRICA",
          "SUB-SAHARAN AFRICA",
          "SUB-SAHARAN AFRICA",
          "SUB-SAHARAN AFRICA",
          "LATIN AMERICA AND CARIBBEAN",
          "LATIN AMERICA AND CARIBBEAN",
          "SUB-SAHARAN AFRICA",
          "SUB-SAHARAN AFRICA",
          "WESTERN EUROPE",
          "WESTERN EUROPE",
          "WESTERN EUROPE",
          "WESTERN EUROPE",
          "WESTERN EUROPE",
          "WESTERN EUROPE",
          "WESTERN EUROPE",
          "WESTERN EUROPE",
          "WESTERN EUROPE",
          "WESTERN EUROPE",
          "MIDDLE EAST AND NORTHERN AFRICA",
          "MIDDLE EAST AND NORTHERN AFRICA",
          "MIDDLE EAST AND NORTHERN AFRICA",
          "MIDDLE EAST AND NORTHERN AFRICA",
          "MIDDLE EAST AND NORTHERN AFRICA",
          "EASTERN ASIA",
          "EASTERN ASIA",
          "EASTERN ASIA",
          "EASTERN ASIA",
          "EASTERN ASIA",
          "CENTRAL AND EASTERN EUROPE",
          "CENTRAL AND EASTERN EUROPE",
          "CENTRAL AND EASTERN EUROPE",
          "CENTRAL AND EASTERN EUROPE",
          "CENTRAL AND EASTERN EUROPE",
          "SUB-SAHARAN AFRICA",
          "SUB-SAHARAN AFRICA",
          "SUB-SAHARAN AFRICA",
          "SUB-SAHARAN AFRICA",
          "SUB-SAHARAN AFRICA",
          "SOUTHEASTERN ASIA",
          "SOUTHEASTERN ASIA",
          "SOUTHEASTERN ASIA",
          "SOUTHEASTERN ASIA",
          "SOUTHEASTERN ASIA",
          "SUB-SAHARAN AFRICA",
          "SUB-SAHARAN AFRICA",
          "SUB-SAHARAN AFRICA",
          "SUB-SAHARAN AFRICA",
          "SUB-SAHARAN AFRICA",
          "SUB-SAHARAN AFRICA",
          "SUB-SAHARAN AFRICA",
          "LATIN AMERICA AND CARIBBEAN",
          "LATIN AMERICA AND CARIBBEAN",
          "LATIN AMERICA AND CARIBBEAN",
          "MIDDLE EAST AND NORTHERN AFRICA",
          "MIDDLE EAST AND NORTHERN AFRICA",
          "MIDDLE EAST AND NORTHERN AFRICA",
          "MIDDLE EAST AND NORTHERN AFRICA",
          "MIDDLE EAST AND NORTHERN AFRICA",
          "MIDDLE EAST AND NORTHERN AFRICA",
          "MIDDLE EAST AND NORTHERN AFRICA",
          "MIDDLE EAST AND NORTHERN AFRICA",
          "MIDDLE EAST AND NORTHERN AFRICA",
          "MIDDLE EAST AND NORTHERN AFRICA",
          "CENTRAL AND EASTERN EUROPE",
          "CENTRAL AND EASTERN EUROPE",
          "CENTRAL AND EASTERN EUROPE",
          "CENTRAL AND EASTERN EUROPE",
          "CENTRAL AND EASTERN EUROPE",
          "SUB-SAHARAN AFRICA",
          "SUB-SAHARAN AFRICA",
          "SUB-SAHARAN AFRICA",
          "SUB-SAHARAN AFRICA",
          "SUB-SAHARAN AFRICA",
          "CENTRAL AND EASTERN EUROPE",
          "CENTRAL AND EASTERN EUROPE",
          "CENTRAL AND EASTERN EUROPE",
          "CENTRAL AND EASTERN EUROPE",
          "CENTRAL AND EASTERN EUROPE",
          "MIDDLE EAST AND NORTHERN AFRICA",
          "MIDDLE EAST AND NORTHERN AFRICA",
          "MIDDLE EAST AND NORTHERN AFRICA",
          "MIDDLE EAST AND NORTHERN AFRICA",
          "MIDDLE EAST AND NORTHERN AFRICA",
          "WESTERN EUROPE",
          "WESTERN EUROPE",
          "WESTERN EUROPE",
          "WESTERN EUROPE",
          "WESTERN EUROPE",
          "NORTH AMERICA",
          "NORTH AMERICA",
          "NORTH AMERICA",
          "NORTH AMERICA",
          "NORTH AMERICA",
          "LATIN AMERICA AND CARIBBEAN",
          "LATIN AMERICA AND CARIBBEAN",
          "LATIN AMERICA AND CARIBBEAN",
          "LATIN AMERICA AND CARIBBEAN",
          "LATIN AMERICA AND CARIBBEAN",
          "CENTRAL AND EASTERN EUROPE",
          "CENTRAL AND EASTERN EUROPE",
          "CENTRAL AND EASTERN EUROPE",
          "CENTRAL AND EASTERN EUROPE",
          "CENTRAL AND EASTERN EUROPE",
          "LATIN AMERICA AND CARIBBEAN",
          "LATIN AMERICA AND CARIBBEAN",
          "LATIN AMERICA AND CARIBBEAN",
          "LATIN AMERICA AND CARIBBEAN",
          "LATIN AMERICA AND CARIBBEAN",
          "SOUTHEASTERN ASIA",
          "SOUTHEASTERN ASIA",
          "SOUTHEASTERN ASIA",
          "SOUTHEASTERN ASIA",
          "SOUTHEASTERN ASIA",
          "MIDDLE EAST AND NORTHERN AFRICA",
          "MIDDLE EAST AND NORTHERN AFRICA",
          "MIDDLE EAST AND NORTHERN AFRICA",
          "MIDDLE EAST AND NORTHERN AFRICA",
          "MIDDLE EAST AND NORTHERN AFRICA",
          "SUB-SAHARAN AFRICA",
          "SUB-SAHARAN AFRICA",
          "SUB-SAHARAN AFRICA",
          "SUB-SAHARAN AFRICA",
          "SUB-SAHARAN AFRICA",
          "SUB-SAHARAN AFRICA",
          "SUB-SAHARAN AFRICA",
          "SUB-SAHARAN AFRICA",
          "SUB-SAHARAN AFRICA",
          "SUB-SAHARAN AFRICA"
         ],
         "xaxis": "x",
         "yaxis": "y"
        }
       ],
       "layout": {
        "barmode": "group",
        "legend": {
         "tracegroupgap": 0
        },
        "margin": {
         "t": 60
        },
        "template": {
         "data": {
          "bar": [
           {
            "error_x": {
             "color": "#2a3f5f"
            },
            "error_y": {
             "color": "#2a3f5f"
            },
            "marker": {
             "line": {
              "color": "#E5ECF6",
              "width": 0.5
             },
             "pattern": {
              "fillmode": "overlay",
              "size": 10,
              "solidity": 0.2
             }
            },
            "type": "bar"
           }
          ],
          "barpolar": [
           {
            "marker": {
             "line": {
              "color": "#E5ECF6",
              "width": 0.5
             },
             "pattern": {
              "fillmode": "overlay",
              "size": 10,
              "solidity": 0.2
             }
            },
            "type": "barpolar"
           }
          ],
          "carpet": [
           {
            "aaxis": {
             "endlinecolor": "#2a3f5f",
             "gridcolor": "white",
             "linecolor": "white",
             "minorgridcolor": "white",
             "startlinecolor": "#2a3f5f"
            },
            "baxis": {
             "endlinecolor": "#2a3f5f",
             "gridcolor": "white",
             "linecolor": "white",
             "minorgridcolor": "white",
             "startlinecolor": "#2a3f5f"
            },
            "type": "carpet"
           }
          ],
          "choropleth": [
           {
            "colorbar": {
             "outlinewidth": 0,
             "ticks": ""
            },
            "type": "choropleth"
           }
          ],
          "contour": [
           {
            "colorbar": {
             "outlinewidth": 0,
             "ticks": ""
            },
            "colorscale": [
             [
              0,
              "#0d0887"
             ],
             [
              0.1111111111111111,
              "#46039f"
             ],
             [
              0.2222222222222222,
              "#7201a8"
             ],
             [
              0.3333333333333333,
              "#9c179e"
             ],
             [
              0.4444444444444444,
              "#bd3786"
             ],
             [
              0.5555555555555556,
              "#d8576b"
             ],
             [
              0.6666666666666666,
              "#ed7953"
             ],
             [
              0.7777777777777778,
              "#fb9f3a"
             ],
             [
              0.8888888888888888,
              "#fdca26"
             ],
             [
              1,
              "#f0f921"
             ]
            ],
            "type": "contour"
           }
          ],
          "contourcarpet": [
           {
            "colorbar": {
             "outlinewidth": 0,
             "ticks": ""
            },
            "type": "contourcarpet"
           }
          ],
          "heatmap": [
           {
            "colorbar": {
             "outlinewidth": 0,
             "ticks": ""
            },
            "colorscale": [
             [
              0,
              "#0d0887"
             ],
             [
              0.1111111111111111,
              "#46039f"
             ],
             [
              0.2222222222222222,
              "#7201a8"
             ],
             [
              0.3333333333333333,
              "#9c179e"
             ],
             [
              0.4444444444444444,
              "#bd3786"
             ],
             [
              0.5555555555555556,
              "#d8576b"
             ],
             [
              0.6666666666666666,
              "#ed7953"
             ],
             [
              0.7777777777777778,
              "#fb9f3a"
             ],
             [
              0.8888888888888888,
              "#fdca26"
             ],
             [
              1,
              "#f0f921"
             ]
            ],
            "type": "heatmap"
           }
          ],
          "heatmapgl": [
           {
            "colorbar": {
             "outlinewidth": 0,
             "ticks": ""
            },
            "colorscale": [
             [
              0,
              "#0d0887"
             ],
             [
              0.1111111111111111,
              "#46039f"
             ],
             [
              0.2222222222222222,
              "#7201a8"
             ],
             [
              0.3333333333333333,
              "#9c179e"
             ],
             [
              0.4444444444444444,
              "#bd3786"
             ],
             [
              0.5555555555555556,
              "#d8576b"
             ],
             [
              0.6666666666666666,
              "#ed7953"
             ],
             [
              0.7777777777777778,
              "#fb9f3a"
             ],
             [
              0.8888888888888888,
              "#fdca26"
             ],
             [
              1,
              "#f0f921"
             ]
            ],
            "type": "heatmapgl"
           }
          ],
          "histogram": [
           {
            "marker": {
             "pattern": {
              "fillmode": "overlay",
              "size": 10,
              "solidity": 0.2
             }
            },
            "type": "histogram"
           }
          ],
          "histogram2d": [
           {
            "colorbar": {
             "outlinewidth": 0,
             "ticks": ""
            },
            "colorscale": [
             [
              0,
              "#0d0887"
             ],
             [
              0.1111111111111111,
              "#46039f"
             ],
             [
              0.2222222222222222,
              "#7201a8"
             ],
             [
              0.3333333333333333,
              "#9c179e"
             ],
             [
              0.4444444444444444,
              "#bd3786"
             ],
             [
              0.5555555555555556,
              "#d8576b"
             ],
             [
              0.6666666666666666,
              "#ed7953"
             ],
             [
              0.7777777777777778,
              "#fb9f3a"
             ],
             [
              0.8888888888888888,
              "#fdca26"
             ],
             [
              1,
              "#f0f921"
             ]
            ],
            "type": "histogram2d"
           }
          ],
          "histogram2dcontour": [
           {
            "colorbar": {
             "outlinewidth": 0,
             "ticks": ""
            },
            "colorscale": [
             [
              0,
              "#0d0887"
             ],
             [
              0.1111111111111111,
              "#46039f"
             ],
             [
              0.2222222222222222,
              "#7201a8"
             ],
             [
              0.3333333333333333,
              "#9c179e"
             ],
             [
              0.4444444444444444,
              "#bd3786"
             ],
             [
              0.5555555555555556,
              "#d8576b"
             ],
             [
              0.6666666666666666,
              "#ed7953"
             ],
             [
              0.7777777777777778,
              "#fb9f3a"
             ],
             [
              0.8888888888888888,
              "#fdca26"
             ],
             [
              1,
              "#f0f921"
             ]
            ],
            "type": "histogram2dcontour"
           }
          ],
          "mesh3d": [
           {
            "colorbar": {
             "outlinewidth": 0,
             "ticks": ""
            },
            "type": "mesh3d"
           }
          ],
          "parcoords": [
           {
            "line": {
             "colorbar": {
              "outlinewidth": 0,
              "ticks": ""
             }
            },
            "type": "parcoords"
           }
          ],
          "pie": [
           {
            "automargin": true,
            "type": "pie"
           }
          ],
          "scatter": [
           {
            "fillpattern": {
             "fillmode": "overlay",
             "size": 10,
             "solidity": 0.2
            },
            "type": "scatter"
           }
          ],
          "scatter3d": [
           {
            "line": {
             "colorbar": {
              "outlinewidth": 0,
              "ticks": ""
             }
            },
            "marker": {
             "colorbar": {
              "outlinewidth": 0,
              "ticks": ""
             }
            },
            "type": "scatter3d"
           }
          ],
          "scattercarpet": [
           {
            "marker": {
             "colorbar": {
              "outlinewidth": 0,
              "ticks": ""
             }
            },
            "type": "scattercarpet"
           }
          ],
          "scattergeo": [
           {
            "marker": {
             "colorbar": {
              "outlinewidth": 0,
              "ticks": ""
             }
            },
            "type": "scattergeo"
           }
          ],
          "scattergl": [
           {
            "marker": {
             "colorbar": {
              "outlinewidth": 0,
              "ticks": ""
             }
            },
            "type": "scattergl"
           }
          ],
          "scattermapbox": [
           {
            "marker": {
             "colorbar": {
              "outlinewidth": 0,
              "ticks": ""
             }
            },
            "type": "scattermapbox"
           }
          ],
          "scatterpolar": [
           {
            "marker": {
             "colorbar": {
              "outlinewidth": 0,
              "ticks": ""
             }
            },
            "type": "scatterpolar"
           }
          ],
          "scatterpolargl": [
           {
            "marker": {
             "colorbar": {
              "outlinewidth": 0,
              "ticks": ""
             }
            },
            "type": "scatterpolargl"
           }
          ],
          "scatterternary": [
           {
            "marker": {
             "colorbar": {
              "outlinewidth": 0,
              "ticks": ""
             }
            },
            "type": "scatterternary"
           }
          ],
          "surface": [
           {
            "colorbar": {
             "outlinewidth": 0,
             "ticks": ""
            },
            "colorscale": [
             [
              0,
              "#0d0887"
             ],
             [
              0.1111111111111111,
              "#46039f"
             ],
             [
              0.2222222222222222,
              "#7201a8"
             ],
             [
              0.3333333333333333,
              "#9c179e"
             ],
             [
              0.4444444444444444,
              "#bd3786"
             ],
             [
              0.5555555555555556,
              "#d8576b"
             ],
             [
              0.6666666666666666,
              "#ed7953"
             ],
             [
              0.7777777777777778,
              "#fb9f3a"
             ],
             [
              0.8888888888888888,
              "#fdca26"
             ],
             [
              1,
              "#f0f921"
             ]
            ],
            "type": "surface"
           }
          ],
          "table": [
           {
            "cells": {
             "fill": {
              "color": "#EBF0F8"
             },
             "line": {
              "color": "white"
             }
            },
            "header": {
             "fill": {
              "color": "#C8D4E3"
             },
             "line": {
              "color": "white"
             }
            },
            "type": "table"
           }
          ]
         },
         "layout": {
          "annotationdefaults": {
           "arrowcolor": "#2a3f5f",
           "arrowhead": 0,
           "arrowwidth": 1
          },
          "autotypenumbers": "strict",
          "coloraxis": {
           "colorbar": {
            "outlinewidth": 0,
            "ticks": ""
           }
          },
          "colorscale": {
           "diverging": [
            [
             0,
             "#8e0152"
            ],
            [
             0.1,
             "#c51b7d"
            ],
            [
             0.2,
             "#de77ae"
            ],
            [
             0.3,
             "#f1b6da"
            ],
            [
             0.4,
             "#fde0ef"
            ],
            [
             0.5,
             "#f7f7f7"
            ],
            [
             0.6,
             "#e6f5d0"
            ],
            [
             0.7,
             "#b8e186"
            ],
            [
             0.8,
             "#7fbc41"
            ],
            [
             0.9,
             "#4d9221"
            ],
            [
             1,
             "#276419"
            ]
           ],
           "sequential": [
            [
             0,
             "#0d0887"
            ],
            [
             0.1111111111111111,
             "#46039f"
            ],
            [
             0.2222222222222222,
             "#7201a8"
            ],
            [
             0.3333333333333333,
             "#9c179e"
            ],
            [
             0.4444444444444444,
             "#bd3786"
            ],
            [
             0.5555555555555556,
             "#d8576b"
            ],
            [
             0.6666666666666666,
             "#ed7953"
            ],
            [
             0.7777777777777778,
             "#fb9f3a"
            ],
            [
             0.8888888888888888,
             "#fdca26"
            ],
            [
             1,
             "#f0f921"
            ]
           ],
           "sequentialminus": [
            [
             0,
             "#0d0887"
            ],
            [
             0.1111111111111111,
             "#46039f"
            ],
            [
             0.2222222222222222,
             "#7201a8"
            ],
            [
             0.3333333333333333,
             "#9c179e"
            ],
            [
             0.4444444444444444,
             "#bd3786"
            ],
            [
             0.5555555555555556,
             "#d8576b"
            ],
            [
             0.6666666666666666,
             "#ed7953"
            ],
            [
             0.7777777777777778,
             "#fb9f3a"
            ],
            [
             0.8888888888888888,
             "#fdca26"
            ],
            [
             1,
             "#f0f921"
            ]
           ]
          },
          "colorway": [
           "#636efa",
           "#EF553B",
           "#00cc96",
           "#ab63fa",
           "#FFA15A",
           "#19d3f3",
           "#FF6692",
           "#B6E880",
           "#FF97FF",
           "#FECB52"
          ],
          "font": {
           "color": "#2a3f5f"
          },
          "geo": {
           "bgcolor": "white",
           "lakecolor": "white",
           "landcolor": "#E5ECF6",
           "showlakes": true,
           "showland": true,
           "subunitcolor": "white"
          },
          "hoverlabel": {
           "align": "left"
          },
          "hovermode": "closest",
          "mapbox": {
           "style": "light"
          },
          "paper_bgcolor": "white",
          "plot_bgcolor": "#E5ECF6",
          "polar": {
           "angularaxis": {
            "gridcolor": "white",
            "linecolor": "white",
            "ticks": ""
           },
           "bgcolor": "#E5ECF6",
           "radialaxis": {
            "gridcolor": "white",
            "linecolor": "white",
            "ticks": ""
           }
          },
          "scene": {
           "xaxis": {
            "backgroundcolor": "#E5ECF6",
            "gridcolor": "white",
            "gridwidth": 2,
            "linecolor": "white",
            "showbackground": true,
            "ticks": "",
            "zerolinecolor": "white"
           },
           "yaxis": {
            "backgroundcolor": "#E5ECF6",
            "gridcolor": "white",
            "gridwidth": 2,
            "linecolor": "white",
            "showbackground": true,
            "ticks": "",
            "zerolinecolor": "white"
           },
           "zaxis": {
            "backgroundcolor": "#E5ECF6",
            "gridcolor": "white",
            "gridwidth": 2,
            "linecolor": "white",
            "showbackground": true,
            "ticks": "",
            "zerolinecolor": "white"
           }
          },
          "shapedefaults": {
           "line": {
            "color": "#2a3f5f"
           }
          },
          "ternary": {
           "aaxis": {
            "gridcolor": "white",
            "linecolor": "white",
            "ticks": ""
           },
           "baxis": {
            "gridcolor": "white",
            "linecolor": "white",
            "ticks": ""
           },
           "bgcolor": "#E5ECF6",
           "caxis": {
            "gridcolor": "white",
            "linecolor": "white",
            "ticks": ""
           }
          },
          "title": {
           "x": 0.05
          },
          "xaxis": {
           "automargin": true,
           "gridcolor": "white",
           "linecolor": "white",
           "ticks": "",
           "title": {
            "standoff": 15
           },
           "zerolinecolor": "white",
           "zerolinewidth": 2
          },
          "yaxis": {
           "automargin": true,
           "gridcolor": "white",
           "linecolor": "white",
           "ticks": "",
           "title": {
            "standoff": 15
           },
           "zerolinecolor": "white",
           "zerolinewidth": 2
          }
         }
        },
        "xaxis": {
         "anchor": "y",
         "domain": [
          0,
          1
         ],
         "title": {
          "text": "Region"
         }
        },
        "yaxis": {
         "anchor": "x",
         "domain": [
          0,
          1
         ],
         "title": {
          "text": "probability"
         }
        }
       }
      }
     },
     "metadata": {},
     "output_type": "display_data"
    }
   ],
   "source": [
    "# Here we can see the representation of each region, in the total dataset.\n",
    "px.histogram(tables, x='Region', barmode='group', histnorm='probability',)"
   ]
  },
  {
   "cell_type": "code",
   "execution_count": 15,
   "metadata": {},
   "outputs": [
    {
     "data": {
      "text/plain": [
       "169"
      ]
     },
     "execution_count": 15,
     "metadata": {},
     "output_type": "execute_result"
    }
   ],
   "source": [
    "# Number of diferent countries in the table\n",
    "tables.Country.nunique()"
   ]
  },
  {
   "cell_type": "code",
   "execution_count": 16,
   "metadata": {},
   "outputs": [
    {
     "data": {
      "text/html": [
       "<div>\n",
       "<style scoped>\n",
       "    .dataframe tbody tr th:only-of-type {\n",
       "        vertical-align: middle;\n",
       "    }\n",
       "\n",
       "    .dataframe tbody tr th {\n",
       "        vertical-align: top;\n",
       "    }\n",
       "\n",
       "    .dataframe thead th {\n",
       "        text-align: right;\n",
       "    }\n",
       "</style>\n",
       "<table border=\"1\" class=\"dataframe\">\n",
       "  <thead>\n",
       "    <tr style=\"text-align: right;\">\n",
       "      <th></th>\n",
       "      <th>Country</th>\n",
       "      <th>Count</th>\n",
       "    </tr>\n",
       "  </thead>\n",
       "  <tbody>\n",
       "    <tr>\n",
       "      <th>0</th>\n",
       "      <td>ANGOLA</td>\n",
       "      <td>4</td>\n",
       "    </tr>\n",
       "    <tr>\n",
       "      <th>2</th>\n",
       "      <td>CENTRAL AFRICAN REPUBLIC</td>\n",
       "      <td>4</td>\n",
       "    </tr>\n",
       "    <tr>\n",
       "      <th>24</th>\n",
       "      <td>TAIWAN</td>\n",
       "      <td>4</td>\n",
       "    </tr>\n",
       "    <tr>\n",
       "      <th>21</th>\n",
       "      <td>SUDAN</td>\n",
       "      <td>4</td>\n",
       "    </tr>\n",
       "    <tr>\n",
       "      <th>20</th>\n",
       "      <td>SOUTH SUDAN</td>\n",
       "      <td>4</td>\n",
       "    </tr>\n",
       "    <tr>\n",
       "      <th>6</th>\n",
       "      <td>HONG KONG</td>\n",
       "      <td>4</td>\n",
       "    </tr>\n",
       "    <tr>\n",
       "      <th>18</th>\n",
       "      <td>SOMALIA</td>\n",
       "      <td>4</td>\n",
       "    </tr>\n",
       "    <tr>\n",
       "      <th>8</th>\n",
       "      <td>LAOS</td>\n",
       "      <td>4</td>\n",
       "    </tr>\n",
       "    <tr>\n",
       "      <th>9</th>\n",
       "      <td>LESOTHO</td>\n",
       "      <td>4</td>\n",
       "    </tr>\n",
       "    <tr>\n",
       "      <th>10</th>\n",
       "      <td>MACEDONIA</td>\n",
       "      <td>4</td>\n",
       "    </tr>\n",
       "    <tr>\n",
       "      <th>11</th>\n",
       "      <td>MOZAMBIQUE</td>\n",
       "      <td>4</td>\n",
       "    </tr>\n",
       "    <tr>\n",
       "      <th>12</th>\n",
       "      <td>NAMIBIA</td>\n",
       "      <td>4</td>\n",
       "    </tr>\n",
       "    <tr>\n",
       "      <th>1</th>\n",
       "      <td>BELIZE</td>\n",
       "      <td>3</td>\n",
       "    </tr>\n",
       "    <tr>\n",
       "      <th>27</th>\n",
       "      <td>TRINIDAD AND TOBAGO</td>\n",
       "      <td>3</td>\n",
       "    </tr>\n",
       "    <tr>\n",
       "      <th>13</th>\n",
       "      <td>NORTH CYPRUS</td>\n",
       "      <td>3</td>\n",
       "    </tr>\n",
       "    <tr>\n",
       "      <th>3</th>\n",
       "      <td>COMOROS</td>\n",
       "      <td>3</td>\n",
       "    </tr>\n",
       "    <tr>\n",
       "      <th>15</th>\n",
       "      <td>NORTHERN CYPRUS</td>\n",
       "      <td>2</td>\n",
       "    </tr>\n",
       "    <tr>\n",
       "      <th>19</th>\n",
       "      <td>SOMALILAND REGION</td>\n",
       "      <td>2</td>\n",
       "    </tr>\n",
       "    <tr>\n",
       "      <th>22</th>\n",
       "      <td>SURINAME</td>\n",
       "      <td>2</td>\n",
       "    </tr>\n",
       "    <tr>\n",
       "      <th>23</th>\n",
       "      <td>SWAZILAND</td>\n",
       "      <td>2</td>\n",
       "    </tr>\n",
       "    <tr>\n",
       "      <th>26</th>\n",
       "      <td>TRINIDAD &amp; TOBAGO</td>\n",
       "      <td>2</td>\n",
       "    </tr>\n",
       "    <tr>\n",
       "      <th>16</th>\n",
       "      <td>OMAN</td>\n",
       "      <td>1</td>\n",
       "    </tr>\n",
       "    <tr>\n",
       "      <th>17</th>\n",
       "      <td>PUERTO RICO</td>\n",
       "      <td>1</td>\n",
       "    </tr>\n",
       "    <tr>\n",
       "      <th>7</th>\n",
       "      <td>HONG KONG S.A.R., CHINA</td>\n",
       "      <td>1</td>\n",
       "    </tr>\n",
       "    <tr>\n",
       "      <th>5</th>\n",
       "      <td>GAMBIA</td>\n",
       "      <td>1</td>\n",
       "    </tr>\n",
       "    <tr>\n",
       "      <th>4</th>\n",
       "      <td>DJIBOUTI</td>\n",
       "      <td>1</td>\n",
       "    </tr>\n",
       "    <tr>\n",
       "      <th>25</th>\n",
       "      <td>TAIWAN PROVINCE OF CHINA</td>\n",
       "      <td>1</td>\n",
       "    </tr>\n",
       "    <tr>\n",
       "      <th>14</th>\n",
       "      <td>NORTH MACEDONIA</td>\n",
       "      <td>1</td>\n",
       "    </tr>\n",
       "  </tbody>\n",
       "</table>\n",
       "</div>"
      ],
      "text/plain": [
       "                     Country  Count\n",
       "0                     ANGOLA      4\n",
       "2   CENTRAL AFRICAN REPUBLIC      4\n",
       "24                    TAIWAN      4\n",
       "21                     SUDAN      4\n",
       "20               SOUTH SUDAN      4\n",
       "6                  HONG KONG      4\n",
       "18                   SOMALIA      4\n",
       "8                       LAOS      4\n",
       "9                    LESOTHO      4\n",
       "10                 MACEDONIA      4\n",
       "11                MOZAMBIQUE      4\n",
       "12                   NAMIBIA      4\n",
       "1                     BELIZE      3\n",
       "27       TRINIDAD AND TOBAGO      3\n",
       "13              NORTH CYPRUS      3\n",
       "3                    COMOROS      3\n",
       "15           NORTHERN CYPRUS      2\n",
       "19         SOMALILAND REGION      2\n",
       "22                  SURINAME      2\n",
       "23                 SWAZILAND      2\n",
       "26         TRINIDAD & TOBAGO      2\n",
       "16                      OMAN      1\n",
       "17               PUERTO RICO      1\n",
       "7    HONG KONG S.A.R., CHINA      1\n",
       "5                     GAMBIA      1\n",
       "4                   DJIBOUTI      1\n",
       "25  TAIWAN PROVINCE OF CHINA      1\n",
       "14           NORTH MACEDONIA      1"
      ]
     },
     "execution_count": 16,
     "metadata": {},
     "output_type": "execute_result"
    }
   ],
   "source": [
    "# The number of representation of the countries that don't have been the 5 times in the datasets. 27 of 169 countries.\n",
    "# There are few case of countries writed in different ways, as trinidad and tobago, hong kong, etc.\n",
    "tables.groupby('Country')['Region'].count()[tables.groupby('Country')['Region'].count() < 5].reset_index().rename(columns={'Region' :'Count'}).sort_values('Count', ascending=False)"
   ]
  },
  {
   "cell_type": "code",
   "execution_count": 27,
   "metadata": {},
   "outputs": [
    {
     "data": {
      "text/html": [
       "<div>\n",
       "<style scoped>\n",
       "    .dataframe tbody tr th:only-of-type {\n",
       "        vertical-align: middle;\n",
       "    }\n",
       "\n",
       "    .dataframe tbody tr th {\n",
       "        vertical-align: top;\n",
       "    }\n",
       "\n",
       "    .dataframe thead th {\n",
       "        text-align: right;\n",
       "    }\n",
       "</style>\n",
       "<table border=\"1\" class=\"dataframe\">\n",
       "  <thead>\n",
       "    <tr style=\"text-align: right;\">\n",
       "      <th></th>\n",
       "      <th>Country</th>\n",
       "      <th>Region</th>\n",
       "      <th>Happiness Rank</th>\n",
       "      <th>Happiness Score</th>\n",
       "      <th>Economy (GDP per Capita)</th>\n",
       "      <th>Family</th>\n",
       "      <th>Health (Life Expectancy)</th>\n",
       "      <th>Freedom</th>\n",
       "      <th>Trust (Government Corruption)</th>\n",
       "      <th>Generosity</th>\n",
       "      <th>...</th>\n",
       "      <th>Dystopia Residual</th>\n",
       "      <th>CENTRAL AND EASTERN EUROPE</th>\n",
       "      <th>EASTERN ASIA</th>\n",
       "      <th>LATIN AMERICA AND CARIBBEAN</th>\n",
       "      <th>MIDDLE EAST AND NORTHERN AFRICA</th>\n",
       "      <th>NORTH AMERICA</th>\n",
       "      <th>SOUTHEASTERN ASIA</th>\n",
       "      <th>SOUTHERN ASIA</th>\n",
       "      <th>SUB-SAHARAN AFRICA</th>\n",
       "      <th>WESTERN EUROPE</th>\n",
       "    </tr>\n",
       "  </thead>\n",
       "  <tbody>\n",
       "    <tr>\n",
       "      <th>152</th>\n",
       "      <td>AFGHANISTAN</td>\n",
       "      <td>SOUTHERN ASIA</td>\n",
       "      <td>153</td>\n",
       "      <td>3.575</td>\n",
       "      <td>0.319820</td>\n",
       "      <td>0.302850</td>\n",
       "      <td>0.303350</td>\n",
       "      <td>0.23414</td>\n",
       "      <td>0.097190</td>\n",
       "      <td>0.365100</td>\n",
       "      <td>...</td>\n",
       "      <td>1.952550</td>\n",
       "      <td>0</td>\n",
       "      <td>0</td>\n",
       "      <td>0</td>\n",
       "      <td>0</td>\n",
       "      <td>0</td>\n",
       "      <td>0</td>\n",
       "      <td>1</td>\n",
       "      <td>0</td>\n",
       "      <td>0</td>\n",
       "    </tr>\n",
       "    <tr>\n",
       "      <th>153</th>\n",
       "      <td>AFGHANISTAN</td>\n",
       "      <td>SOUTHERN ASIA</td>\n",
       "      <td>154</td>\n",
       "      <td>3.360</td>\n",
       "      <td>0.382270</td>\n",
       "      <td>0.110370</td>\n",
       "      <td>0.173440</td>\n",
       "      <td>0.16430</td>\n",
       "      <td>0.071120</td>\n",
       "      <td>0.312680</td>\n",
       "      <td>...</td>\n",
       "      <td>2.145820</td>\n",
       "      <td>0</td>\n",
       "      <td>0</td>\n",
       "      <td>0</td>\n",
       "      <td>0</td>\n",
       "      <td>0</td>\n",
       "      <td>0</td>\n",
       "      <td>1</td>\n",
       "      <td>0</td>\n",
       "      <td>0</td>\n",
       "    </tr>\n",
       "    <tr>\n",
       "      <th>140</th>\n",
       "      <td>AFGHANISTAN</td>\n",
       "      <td>SOUTHERN ASIA</td>\n",
       "      <td>141</td>\n",
       "      <td>3.794</td>\n",
       "      <td>0.401477</td>\n",
       "      <td>0.581543</td>\n",
       "      <td>0.180747</td>\n",
       "      <td>0.10618</td>\n",
       "      <td>0.061158</td>\n",
       "      <td>0.311871</td>\n",
       "      <td>...</td>\n",
       "      <td>2.151024</td>\n",
       "      <td>0</td>\n",
       "      <td>0</td>\n",
       "      <td>0</td>\n",
       "      <td>0</td>\n",
       "      <td>0</td>\n",
       "      <td>0</td>\n",
       "      <td>1</td>\n",
       "      <td>0</td>\n",
       "      <td>0</td>\n",
       "    </tr>\n",
       "    <tr>\n",
       "      <th>144</th>\n",
       "      <td>AFGHANISTAN</td>\n",
       "      <td>SOUTHERN ASIA</td>\n",
       "      <td>145</td>\n",
       "      <td>3.632</td>\n",
       "      <td>0.332000</td>\n",
       "      <td>0.537000</td>\n",
       "      <td>0.255000</td>\n",
       "      <td>0.08500</td>\n",
       "      <td>0.036000</td>\n",
       "      <td>0.191000</td>\n",
       "      <td>...</td>\n",
       "      <td>2.196000</td>\n",
       "      <td>0</td>\n",
       "      <td>0</td>\n",
       "      <td>0</td>\n",
       "      <td>0</td>\n",
       "      <td>0</td>\n",
       "      <td>0</td>\n",
       "      <td>1</td>\n",
       "      <td>0</td>\n",
       "      <td>0</td>\n",
       "    </tr>\n",
       "    <tr>\n",
       "      <th>153</th>\n",
       "      <td>AFGHANISTAN</td>\n",
       "      <td>SOUTHERN ASIA</td>\n",
       "      <td>154</td>\n",
       "      <td>3.203</td>\n",
       "      <td>0.350000</td>\n",
       "      <td>0.517000</td>\n",
       "      <td>0.361000</td>\n",
       "      <td>0.00000</td>\n",
       "      <td>0.025000</td>\n",
       "      <td>0.158000</td>\n",
       "      <td>...</td>\n",
       "      <td>1.792000</td>\n",
       "      <td>0</td>\n",
       "      <td>0</td>\n",
       "      <td>0</td>\n",
       "      <td>0</td>\n",
       "      <td>0</td>\n",
       "      <td>0</td>\n",
       "      <td>1</td>\n",
       "      <td>0</td>\n",
       "      <td>0</td>\n",
       "    </tr>\n",
       "  </tbody>\n",
       "</table>\n",
       "<p>5 rows × 21 columns</p>\n",
       "</div>"
      ],
      "text/plain": [
       "         Country         Region  Happiness Rank  Happiness Score  \\\n",
       "152  AFGHANISTAN  SOUTHERN ASIA             153            3.575   \n",
       "153  AFGHANISTAN  SOUTHERN ASIA             154            3.360   \n",
       "140  AFGHANISTAN  SOUTHERN ASIA             141            3.794   \n",
       "144  AFGHANISTAN  SOUTHERN ASIA             145            3.632   \n",
       "153  AFGHANISTAN  SOUTHERN ASIA             154            3.203   \n",
       "\n",
       "     Economy (GDP per Capita)    Family  Health (Life Expectancy)  Freedom  \\\n",
       "152                  0.319820  0.302850                  0.303350  0.23414   \n",
       "153                  0.382270  0.110370                  0.173440  0.16430   \n",
       "140                  0.401477  0.581543                  0.180747  0.10618   \n",
       "144                  0.332000  0.537000                  0.255000  0.08500   \n",
       "153                  0.350000  0.517000                  0.361000  0.00000   \n",
       "\n",
       "     Trust (Government Corruption)  Generosity  ...  Dystopia Residual  \\\n",
       "152                       0.097190    0.365100  ...           1.952550   \n",
       "153                       0.071120    0.312680  ...           2.145820   \n",
       "140                       0.061158    0.311871  ...           2.151024   \n",
       "144                       0.036000    0.191000  ...           2.196000   \n",
       "153                       0.025000    0.158000  ...           1.792000   \n",
       "\n",
       "     CENTRAL AND EASTERN EUROPE  EASTERN ASIA  LATIN AMERICA AND CARIBBEAN  \\\n",
       "152                           0             0                            0   \n",
       "153                           0             0                            0   \n",
       "140                           0             0                            0   \n",
       "144                           0             0                            0   \n",
       "153                           0             0                            0   \n",
       "\n",
       "     MIDDLE EAST AND NORTHERN AFRICA  NORTH AMERICA  SOUTHEASTERN ASIA  \\\n",
       "152                                0              0                  0   \n",
       "153                                0              0                  0   \n",
       "140                                0              0                  0   \n",
       "144                                0              0                  0   \n",
       "153                                0              0                  0   \n",
       "\n",
       "     SOUTHERN ASIA  SUB-SAHARAN AFRICA  WESTERN EUROPE  \n",
       "152              1                   0               0  \n",
       "153              1                   0               0  \n",
       "140              1                   0               0  \n",
       "144              1                   0               0  \n",
       "153              1                   0               0  \n",
       "\n",
       "[5 rows x 21 columns]"
      ]
     },
     "execution_count": 27,
     "metadata": {},
     "output_type": "execute_result"
    }
   ],
   "source": [
    "# This part of the code is for creating dummies for the region, but the dataframe get's more difficult to read and the improvement in accuracy was to low with the region variables.\n",
    "\n",
    "# Create dummies for the regions. Drop the first\n",
    "# region_dummies = pd.get_dummies(tables['Region'], drop_first=True)\n",
    "\n",
    "# Let's add the columns to tables. I'll use a longer way and not join, because if you want to re run the codes without restarting.\n",
    "# tables[['CENTRAL AND EASTERN EUROPE', 'EASTERN ASIA',\n",
    "#        'LATIN AMERICA AND CARIBBEAN', 'MIDDLE EAST AND NORTHERN AFRICA',\n",
    "#        'NORTH AMERICA', 'SOUTHEASTERN ASIA', 'SOUTHERN ASIA',\n",
    "#        'SUB-SAHARAN AFRICA', 'WESTERN EUROPE']] = \\\n",
    "#        region_dummies[['CENTRAL AND EASTERN EUROPE', 'EASTERN ASIA',\n",
    "#        'LATIN AMERICA AND CARIBBEAN', 'MIDDLE EAST AND NORTHERN AFRICA',\n",
    "#        'NORTH AMERICA', 'SOUTHEASTERN ASIA', 'SOUTHERN ASIA',\n",
    "#        'SUB-SAHARAN AFRICA', 'WESTERN EUROPE']]\n",
    "\n",
    "# Check the final dataset.\n",
    "# tables.head()"
   ]
  },
  {
   "cell_type": "code",
   "execution_count": 19,
   "metadata": {},
   "outputs": [
    {
     "data": {
      "text/html": [
       "<div>\n",
       "<style scoped>\n",
       "    .dataframe tbody tr th:only-of-type {\n",
       "        vertical-align: middle;\n",
       "    }\n",
       "\n",
       "    .dataframe tbody tr th {\n",
       "        vertical-align: top;\n",
       "    }\n",
       "\n",
       "    .dataframe thead th {\n",
       "        text-align: right;\n",
       "    }\n",
       "</style>\n",
       "<table border=\"1\" class=\"dataframe\">\n",
       "  <thead>\n",
       "    <tr style=\"text-align: right;\">\n",
       "      <th></th>\n",
       "      <th>Happiness Rank</th>\n",
       "      <th>Happiness Score</th>\n",
       "      <th>Economy (GDP per Capita)</th>\n",
       "      <th>Family</th>\n",
       "      <th>Health (Life Expectancy)</th>\n",
       "      <th>Freedom</th>\n",
       "      <th>Trust (Government Corruption)</th>\n",
       "      <th>Generosity</th>\n",
       "      <th>Year</th>\n",
       "      <th>Dystopia Residual</th>\n",
       "      <th>CENTRAL AND EASTERN EUROPE</th>\n",
       "      <th>EASTERN ASIA</th>\n",
       "      <th>LATIN AMERICA AND CARIBBEAN</th>\n",
       "      <th>MIDDLE EAST AND NORTHERN AFRICA</th>\n",
       "      <th>NORTH AMERICA</th>\n",
       "      <th>SOUTHEASTERN ASIA</th>\n",
       "      <th>SOUTHERN ASIA</th>\n",
       "      <th>SUB-SAHARAN AFRICA</th>\n",
       "      <th>WESTERN EUROPE</th>\n",
       "    </tr>\n",
       "  </thead>\n",
       "  <tbody>\n",
       "    <tr>\n",
       "      <th>Happiness Rank</th>\n",
       "      <td>1.000000</td>\n",
       "      <td>-0.992066</td>\n",
       "      <td>-0.794791</td>\n",
       "      <td>-0.644842</td>\n",
       "      <td>-0.743655</td>\n",
       "      <td>-0.537942</td>\n",
       "      <td>-0.374660</td>\n",
       "      <td>-0.117713</td>\n",
       "      <td>-0.007768</td>\n",
       "      <td>-0.469515</td>\n",
       "      <td>-0.032262</td>\n",
       "      <td>-0.058971</td>\n",
       "      <td>-0.257989</td>\n",
       "      <td>0.007160</td>\n",
       "      <td>-0.169882</td>\n",
       "      <td>0.009989</td>\n",
       "      <td>0.161835</td>\n",
       "      <td>0.616554</td>\n",
       "      <td>-0.450569</td>\n",
       "    </tr>\n",
       "    <tr>\n",
       "      <th>Happiness Score</th>\n",
       "      <td>-0.992066</td>\n",
       "      <td>1.000000</td>\n",
       "      <td>0.789284</td>\n",
       "      <td>0.648799</td>\n",
       "      <td>0.742456</td>\n",
       "      <td>0.551258</td>\n",
       "      <td>0.400103</td>\n",
       "      <td>0.137578</td>\n",
       "      <td>0.007065</td>\n",
       "      <td>0.474940</td>\n",
       "      <td>0.021022</td>\n",
       "      <td>0.048314</td>\n",
       "      <td>0.229203</td>\n",
       "      <td>-0.013881</td>\n",
       "      <td>0.181384</td>\n",
       "      <td>-0.009490</td>\n",
       "      <td>-0.153374</td>\n",
       "      <td>-0.603930</td>\n",
       "      <td>0.473656</td>\n",
       "    </tr>\n",
       "    <tr>\n",
       "      <th>Economy (GDP per Capita)</th>\n",
       "      <td>-0.794791</td>\n",
       "      <td>0.789284</td>\n",
       "      <td>1.000000</td>\n",
       "      <td>0.585966</td>\n",
       "      <td>0.784338</td>\n",
       "      <td>0.340511</td>\n",
       "      <td>0.310933</td>\n",
       "      <td>-0.014560</td>\n",
       "      <td>0.019768</td>\n",
       "      <td>0.020577</td>\n",
       "      <td>0.119841</td>\n",
       "      <td>0.157817</td>\n",
       "      <td>0.020146</td>\n",
       "      <td>0.171464</td>\n",
       "      <td>0.141467</td>\n",
       "      <td>-0.013621</td>\n",
       "      <td>-0.147415</td>\n",
       "      <td>-0.658048</td>\n",
       "      <td>0.438308</td>\n",
       "    </tr>\n",
       "    <tr>\n",
       "      <th>Family</th>\n",
       "      <td>-0.644842</td>\n",
       "      <td>0.648799</td>\n",
       "      <td>0.585966</td>\n",
       "      <td>1.000000</td>\n",
       "      <td>0.572650</td>\n",
       "      <td>0.420361</td>\n",
       "      <td>0.123841</td>\n",
       "      <td>-0.037262</td>\n",
       "      <td>0.367431</td>\n",
       "      <td>-0.093039</td>\n",
       "      <td>0.134345</td>\n",
       "      <td>0.073285</td>\n",
       "      <td>0.126087</td>\n",
       "      <td>-0.096466</td>\n",
       "      <td>0.096624</td>\n",
       "      <td>0.011329</td>\n",
       "      <td>-0.180454</td>\n",
       "      <td>-0.400013</td>\n",
       "      <td>0.310224</td>\n",
       "    </tr>\n",
       "    <tr>\n",
       "      <th>Health (Life Expectancy)</th>\n",
       "      <td>-0.743655</td>\n",
       "      <td>0.742456</td>\n",
       "      <td>0.784338</td>\n",
       "      <td>0.572650</td>\n",
       "      <td>1.000000</td>\n",
       "      <td>0.340745</td>\n",
       "      <td>0.250495</td>\n",
       "      <td>0.010638</td>\n",
       "      <td>0.130302</td>\n",
       "      <td>0.001125</td>\n",
       "      <td>0.159162</td>\n",
       "      <td>0.201381</td>\n",
       "      <td>0.104358</td>\n",
       "      <td>0.080123</td>\n",
       "      <td>0.114052</td>\n",
       "      <td>0.022667</td>\n",
       "      <td>-0.086642</td>\n",
       "      <td>-0.762491</td>\n",
       "      <td>0.448874</td>\n",
       "    </tr>\n",
       "    <tr>\n",
       "      <th>Freedom</th>\n",
       "      <td>-0.537942</td>\n",
       "      <td>0.551258</td>\n",
       "      <td>0.340511</td>\n",
       "      <td>0.420361</td>\n",
       "      <td>0.340745</td>\n",
       "      <td>1.000000</td>\n",
       "      <td>0.456353</td>\n",
       "      <td>0.290706</td>\n",
       "      <td>0.010353</td>\n",
       "      <td>0.041099</td>\n",
       "      <td>-0.182865</td>\n",
       "      <td>0.009274</td>\n",
       "      <td>0.136967</td>\n",
       "      <td>-0.152814</td>\n",
       "      <td>0.110121</td>\n",
       "      <td>0.211970</td>\n",
       "      <td>-0.025819</td>\n",
       "      <td>-0.212095</td>\n",
       "      <td>0.266977</td>\n",
       "    </tr>\n",
       "    <tr>\n",
       "      <th>Trust (Government Corruption)</th>\n",
       "      <td>-0.374660</td>\n",
       "      <td>0.400103</td>\n",
       "      <td>0.310933</td>\n",
       "      <td>0.123841</td>\n",
       "      <td>0.250495</td>\n",
       "      <td>0.456353</td>\n",
       "      <td>1.000000</td>\n",
       "      <td>0.317545</td>\n",
       "      <td>-0.120242</td>\n",
       "      <td>0.012282</td>\n",
       "      <td>-0.223013</td>\n",
       "      <td>-0.014517</td>\n",
       "      <td>-0.121140</td>\n",
       "      <td>0.073648</td>\n",
       "      <td>0.104932</td>\n",
       "      <td>0.024089</td>\n",
       "      <td>-0.051770</td>\n",
       "      <td>-0.113238</td>\n",
       "      <td>0.355407</td>\n",
       "    </tr>\n",
       "    <tr>\n",
       "      <th>Generosity</th>\n",
       "      <td>-0.117713</td>\n",
       "      <td>0.137578</td>\n",
       "      <td>-0.014560</td>\n",
       "      <td>-0.037262</td>\n",
       "      <td>0.010638</td>\n",
       "      <td>0.290706</td>\n",
       "      <td>0.317545</td>\n",
       "      <td>1.000000</td>\n",
       "      <td>-0.192587</td>\n",
       "      <td>-0.053444</td>\n",
       "      <td>-0.240063</td>\n",
       "      <td>-0.030676</td>\n",
       "      <td>-0.108849</td>\n",
       "      <td>-0.123341</td>\n",
       "      <td>0.143160</td>\n",
       "      <td>0.330816</td>\n",
       "      <td>0.145753</td>\n",
       "      <td>-0.053741</td>\n",
       "      <td>0.165044</td>\n",
       "    </tr>\n",
       "    <tr>\n",
       "      <th>Year</th>\n",
       "      <td>-0.007768</td>\n",
       "      <td>0.007065</td>\n",
       "      <td>0.019768</td>\n",
       "      <td>0.367431</td>\n",
       "      <td>0.130302</td>\n",
       "      <td>0.010353</td>\n",
       "      <td>-0.120242</td>\n",
       "      <td>-0.192587</td>\n",
       "      <td>1.000000</td>\n",
       "      <td>-0.213523</td>\n",
       "      <td>-0.002514</td>\n",
       "      <td>0.000902</td>\n",
       "      <td>-0.016430</td>\n",
       "      <td>-0.003813</td>\n",
       "      <td>0.000514</td>\n",
       "      <td>0.001102</td>\n",
       "      <td>0.000977</td>\n",
       "      <td>0.010933</td>\n",
       "      <td>0.007062</td>\n",
       "    </tr>\n",
       "    <tr>\n",
       "      <th>Dystopia Residual</th>\n",
       "      <td>-0.469515</td>\n",
       "      <td>0.474940</td>\n",
       "      <td>0.020577</td>\n",
       "      <td>-0.093039</td>\n",
       "      <td>0.001125</td>\n",
       "      <td>0.041099</td>\n",
       "      <td>0.012282</td>\n",
       "      <td>-0.053444</td>\n",
       "      <td>-0.213523</td>\n",
       "      <td>1.000000</td>\n",
       "      <td>-0.050233</td>\n",
       "      <td>-0.143946</td>\n",
       "      <td>0.337798</td>\n",
       "      <td>-0.077200</td>\n",
       "      <td>0.074128</td>\n",
       "      <td>-0.161635</td>\n",
       "      <td>-0.072402</td>\n",
       "      <td>-0.073142</td>\n",
       "      <td>0.077495</td>\n",
       "    </tr>\n",
       "    <tr>\n",
       "      <th>CENTRAL AND EASTERN EUROPE</th>\n",
       "      <td>-0.032262</td>\n",
       "      <td>0.021022</td>\n",
       "      <td>0.119841</td>\n",
       "      <td>0.134345</td>\n",
       "      <td>0.159162</td>\n",
       "      <td>-0.182865</td>\n",
       "      <td>-0.223013</td>\n",
       "      <td>-0.240063</td>\n",
       "      <td>-0.002514</td>\n",
       "      <td>-0.050233</td>\n",
       "      <td>1.000000</td>\n",
       "      <td>-0.094890</td>\n",
       "      <td>-0.191195</td>\n",
       "      <td>-0.177723</td>\n",
       "      <td>-0.054071</td>\n",
       "      <td>-0.116003</td>\n",
       "      <td>-0.102836</td>\n",
       "      <td>-0.276629</td>\n",
       "      <td>-0.188127</td>\n",
       "    </tr>\n",
       "    <tr>\n",
       "      <th>EASTERN ASIA</th>\n",
       "      <td>-0.058971</td>\n",
       "      <td>0.048314</td>\n",
       "      <td>0.157817</td>\n",
       "      <td>0.073285</td>\n",
       "      <td>0.201381</td>\n",
       "      <td>0.009274</td>\n",
       "      <td>-0.014517</td>\n",
       "      <td>-0.030676</td>\n",
       "      <td>0.000902</td>\n",
       "      <td>-0.143946</td>\n",
       "      <td>-0.094890</td>\n",
       "      <td>1.000000</td>\n",
       "      <td>-0.080382</td>\n",
       "      <td>-0.074718</td>\n",
       "      <td>-0.022732</td>\n",
       "      <td>-0.048770</td>\n",
       "      <td>-0.043234</td>\n",
       "      <td>-0.116300</td>\n",
       "      <td>-0.079092</td>\n",
       "    </tr>\n",
       "    <tr>\n",
       "      <th>LATIN AMERICA AND CARIBBEAN</th>\n",
       "      <td>-0.257989</td>\n",
       "      <td>0.229203</td>\n",
       "      <td>0.020146</td>\n",
       "      <td>0.126087</td>\n",
       "      <td>0.104358</td>\n",
       "      <td>0.136967</td>\n",
       "      <td>-0.121140</td>\n",
       "      <td>-0.108849</td>\n",
       "      <td>-0.016430</td>\n",
       "      <td>0.337798</td>\n",
       "      <td>-0.191195</td>\n",
       "      <td>-0.080382</td>\n",
       "      <td>1.000000</td>\n",
       "      <td>-0.150549</td>\n",
       "      <td>-0.045803</td>\n",
       "      <td>-0.098266</td>\n",
       "      <td>-0.087112</td>\n",
       "      <td>-0.234332</td>\n",
       "      <td>-0.159362</td>\n",
       "    </tr>\n",
       "    <tr>\n",
       "      <th>MIDDLE EAST AND NORTHERN AFRICA</th>\n",
       "      <td>0.007160</td>\n",
       "      <td>-0.013881</td>\n",
       "      <td>0.171464</td>\n",
       "      <td>-0.096466</td>\n",
       "      <td>0.080123</td>\n",
       "      <td>-0.152814</td>\n",
       "      <td>0.073648</td>\n",
       "      <td>-0.123341</td>\n",
       "      <td>-0.003813</td>\n",
       "      <td>-0.077200</td>\n",
       "      <td>-0.177723</td>\n",
       "      <td>-0.074718</td>\n",
       "      <td>-0.150549</td>\n",
       "      <td>1.000000</td>\n",
       "      <td>-0.042576</td>\n",
       "      <td>-0.091342</td>\n",
       "      <td>-0.080974</td>\n",
       "      <td>-0.217821</td>\n",
       "      <td>-0.148133</td>\n",
       "    </tr>\n",
       "    <tr>\n",
       "      <th>NORTH AMERICA</th>\n",
       "      <td>-0.169882</td>\n",
       "      <td>0.181384</td>\n",
       "      <td>0.141467</td>\n",
       "      <td>0.096624</td>\n",
       "      <td>0.114052</td>\n",
       "      <td>0.110121</td>\n",
       "      <td>0.104932</td>\n",
       "      <td>0.143160</td>\n",
       "      <td>0.000514</td>\n",
       "      <td>0.074128</td>\n",
       "      <td>-0.054071</td>\n",
       "      <td>-0.022732</td>\n",
       "      <td>-0.045803</td>\n",
       "      <td>-0.042576</td>\n",
       "      <td>1.000000</td>\n",
       "      <td>-0.027790</td>\n",
       "      <td>-0.024636</td>\n",
       "      <td>-0.066270</td>\n",
       "      <td>-0.045068</td>\n",
       "    </tr>\n",
       "    <tr>\n",
       "      <th>SOUTHEASTERN ASIA</th>\n",
       "      <td>0.009989</td>\n",
       "      <td>-0.009490</td>\n",
       "      <td>-0.013621</td>\n",
       "      <td>0.011329</td>\n",
       "      <td>0.022667</td>\n",
       "      <td>0.211970</td>\n",
       "      <td>0.024089</td>\n",
       "      <td>0.330816</td>\n",
       "      <td>0.001102</td>\n",
       "      <td>-0.161635</td>\n",
       "      <td>-0.116003</td>\n",
       "      <td>-0.048770</td>\n",
       "      <td>-0.098266</td>\n",
       "      <td>-0.091342</td>\n",
       "      <td>-0.027790</td>\n",
       "      <td>1.000000</td>\n",
       "      <td>-0.052853</td>\n",
       "      <td>-0.142175</td>\n",
       "      <td>-0.096689</td>\n",
       "    </tr>\n",
       "    <tr>\n",
       "      <th>SOUTHERN ASIA</th>\n",
       "      <td>0.161835</td>\n",
       "      <td>-0.153374</td>\n",
       "      <td>-0.147415</td>\n",
       "      <td>-0.180454</td>\n",
       "      <td>-0.086642</td>\n",
       "      <td>-0.025819</td>\n",
       "      <td>-0.051770</td>\n",
       "      <td>0.145753</td>\n",
       "      <td>0.000977</td>\n",
       "      <td>-0.072402</td>\n",
       "      <td>-0.102836</td>\n",
       "      <td>-0.043234</td>\n",
       "      <td>-0.087112</td>\n",
       "      <td>-0.080974</td>\n",
       "      <td>-0.024636</td>\n",
       "      <td>-0.052853</td>\n",
       "      <td>1.000000</td>\n",
       "      <td>-0.126038</td>\n",
       "      <td>-0.085714</td>\n",
       "    </tr>\n",
       "    <tr>\n",
       "      <th>SUB-SAHARAN AFRICA</th>\n",
       "      <td>0.616554</td>\n",
       "      <td>-0.603930</td>\n",
       "      <td>-0.658048</td>\n",
       "      <td>-0.400013</td>\n",
       "      <td>-0.762491</td>\n",
       "      <td>-0.212095</td>\n",
       "      <td>-0.113238</td>\n",
       "      <td>-0.053741</td>\n",
       "      <td>0.010933</td>\n",
       "      <td>-0.073142</td>\n",
       "      <td>-0.276629</td>\n",
       "      <td>-0.116300</td>\n",
       "      <td>-0.234332</td>\n",
       "      <td>-0.217821</td>\n",
       "      <td>-0.066270</td>\n",
       "      <td>-0.142175</td>\n",
       "      <td>-0.126038</td>\n",
       "      <td>1.000000</td>\n",
       "      <td>-0.230572</td>\n",
       "    </tr>\n",
       "    <tr>\n",
       "      <th>WESTERN EUROPE</th>\n",
       "      <td>-0.450569</td>\n",
       "      <td>0.473656</td>\n",
       "      <td>0.438308</td>\n",
       "      <td>0.310224</td>\n",
       "      <td>0.448874</td>\n",
       "      <td>0.266977</td>\n",
       "      <td>0.355407</td>\n",
       "      <td>0.165044</td>\n",
       "      <td>0.007062</td>\n",
       "      <td>0.077495</td>\n",
       "      <td>-0.188127</td>\n",
       "      <td>-0.079092</td>\n",
       "      <td>-0.159362</td>\n",
       "      <td>-0.148133</td>\n",
       "      <td>-0.045068</td>\n",
       "      <td>-0.096689</td>\n",
       "      <td>-0.085714</td>\n",
       "      <td>-0.230572</td>\n",
       "      <td>1.000000</td>\n",
       "    </tr>\n",
       "  </tbody>\n",
       "</table>\n",
       "</div>"
      ],
      "text/plain": [
       "                                 Happiness Rank  Happiness Score  \\\n",
       "Happiness Rank                         1.000000        -0.992066   \n",
       "Happiness Score                       -0.992066         1.000000   \n",
       "Economy (GDP per Capita)              -0.794791         0.789284   \n",
       "Family                                -0.644842         0.648799   \n",
       "Health (Life Expectancy)              -0.743655         0.742456   \n",
       "Freedom                               -0.537942         0.551258   \n",
       "Trust (Government Corruption)         -0.374660         0.400103   \n",
       "Generosity                            -0.117713         0.137578   \n",
       "Year                                  -0.007768         0.007065   \n",
       "Dystopia Residual                     -0.469515         0.474940   \n",
       "CENTRAL AND EASTERN EUROPE            -0.032262         0.021022   \n",
       "EASTERN ASIA                          -0.058971         0.048314   \n",
       "LATIN AMERICA AND CARIBBEAN           -0.257989         0.229203   \n",
       "MIDDLE EAST AND NORTHERN AFRICA        0.007160        -0.013881   \n",
       "NORTH AMERICA                         -0.169882         0.181384   \n",
       "SOUTHEASTERN ASIA                      0.009989        -0.009490   \n",
       "SOUTHERN ASIA                          0.161835        -0.153374   \n",
       "SUB-SAHARAN AFRICA                     0.616554        -0.603930   \n",
       "WESTERN EUROPE                        -0.450569         0.473656   \n",
       "\n",
       "                                 Economy (GDP per Capita)    Family  \\\n",
       "Happiness Rank                                  -0.794791 -0.644842   \n",
       "Happiness Score                                  0.789284  0.648799   \n",
       "Economy (GDP per Capita)                         1.000000  0.585966   \n",
       "Family                                           0.585966  1.000000   \n",
       "Health (Life Expectancy)                         0.784338  0.572650   \n",
       "Freedom                                          0.340511  0.420361   \n",
       "Trust (Government Corruption)                    0.310933  0.123841   \n",
       "Generosity                                      -0.014560 -0.037262   \n",
       "Year                                             0.019768  0.367431   \n",
       "Dystopia Residual                                0.020577 -0.093039   \n",
       "CENTRAL AND EASTERN EUROPE                       0.119841  0.134345   \n",
       "EASTERN ASIA                                     0.157817  0.073285   \n",
       "LATIN AMERICA AND CARIBBEAN                      0.020146  0.126087   \n",
       "MIDDLE EAST AND NORTHERN AFRICA                  0.171464 -0.096466   \n",
       "NORTH AMERICA                                    0.141467  0.096624   \n",
       "SOUTHEASTERN ASIA                               -0.013621  0.011329   \n",
       "SOUTHERN ASIA                                   -0.147415 -0.180454   \n",
       "SUB-SAHARAN AFRICA                              -0.658048 -0.400013   \n",
       "WESTERN EUROPE                                   0.438308  0.310224   \n",
       "\n",
       "                                 Health (Life Expectancy)   Freedom  \\\n",
       "Happiness Rank                                  -0.743655 -0.537942   \n",
       "Happiness Score                                  0.742456  0.551258   \n",
       "Economy (GDP per Capita)                         0.784338  0.340511   \n",
       "Family                                           0.572650  0.420361   \n",
       "Health (Life Expectancy)                         1.000000  0.340745   \n",
       "Freedom                                          0.340745  1.000000   \n",
       "Trust (Government Corruption)                    0.250495  0.456353   \n",
       "Generosity                                       0.010638  0.290706   \n",
       "Year                                             0.130302  0.010353   \n",
       "Dystopia Residual                                0.001125  0.041099   \n",
       "CENTRAL AND EASTERN EUROPE                       0.159162 -0.182865   \n",
       "EASTERN ASIA                                     0.201381  0.009274   \n",
       "LATIN AMERICA AND CARIBBEAN                      0.104358  0.136967   \n",
       "MIDDLE EAST AND NORTHERN AFRICA                  0.080123 -0.152814   \n",
       "NORTH AMERICA                                    0.114052  0.110121   \n",
       "SOUTHEASTERN ASIA                                0.022667  0.211970   \n",
       "SOUTHERN ASIA                                   -0.086642 -0.025819   \n",
       "SUB-SAHARAN AFRICA                              -0.762491 -0.212095   \n",
       "WESTERN EUROPE                                   0.448874  0.266977   \n",
       "\n",
       "                                 Trust (Government Corruption)  Generosity  \\\n",
       "Happiness Rank                                       -0.374660   -0.117713   \n",
       "Happiness Score                                       0.400103    0.137578   \n",
       "Economy (GDP per Capita)                              0.310933   -0.014560   \n",
       "Family                                                0.123841   -0.037262   \n",
       "Health (Life Expectancy)                              0.250495    0.010638   \n",
       "Freedom                                               0.456353    0.290706   \n",
       "Trust (Government Corruption)                         1.000000    0.317545   \n",
       "Generosity                                            0.317545    1.000000   \n",
       "Year                                                 -0.120242   -0.192587   \n",
       "Dystopia Residual                                     0.012282   -0.053444   \n",
       "CENTRAL AND EASTERN EUROPE                           -0.223013   -0.240063   \n",
       "EASTERN ASIA                                         -0.014517   -0.030676   \n",
       "LATIN AMERICA AND CARIBBEAN                          -0.121140   -0.108849   \n",
       "MIDDLE EAST AND NORTHERN AFRICA                       0.073648   -0.123341   \n",
       "NORTH AMERICA                                         0.104932    0.143160   \n",
       "SOUTHEASTERN ASIA                                     0.024089    0.330816   \n",
       "SOUTHERN ASIA                                        -0.051770    0.145753   \n",
       "SUB-SAHARAN AFRICA                                   -0.113238   -0.053741   \n",
       "WESTERN EUROPE                                        0.355407    0.165044   \n",
       "\n",
       "                                     Year  Dystopia Residual  \\\n",
       "Happiness Rank                  -0.007768          -0.469515   \n",
       "Happiness Score                  0.007065           0.474940   \n",
       "Economy (GDP per Capita)         0.019768           0.020577   \n",
       "Family                           0.367431          -0.093039   \n",
       "Health (Life Expectancy)         0.130302           0.001125   \n",
       "Freedom                          0.010353           0.041099   \n",
       "Trust (Government Corruption)   -0.120242           0.012282   \n",
       "Generosity                      -0.192587          -0.053444   \n",
       "Year                             1.000000          -0.213523   \n",
       "Dystopia Residual               -0.213523           1.000000   \n",
       "CENTRAL AND EASTERN EUROPE      -0.002514          -0.050233   \n",
       "EASTERN ASIA                     0.000902          -0.143946   \n",
       "LATIN AMERICA AND CARIBBEAN     -0.016430           0.337798   \n",
       "MIDDLE EAST AND NORTHERN AFRICA -0.003813          -0.077200   \n",
       "NORTH AMERICA                    0.000514           0.074128   \n",
       "SOUTHEASTERN ASIA                0.001102          -0.161635   \n",
       "SOUTHERN ASIA                    0.000977          -0.072402   \n",
       "SUB-SAHARAN AFRICA               0.010933          -0.073142   \n",
       "WESTERN EUROPE                   0.007062           0.077495   \n",
       "\n",
       "                                 CENTRAL AND EASTERN EUROPE  EASTERN ASIA  \\\n",
       "Happiness Rank                                    -0.032262     -0.058971   \n",
       "Happiness Score                                    0.021022      0.048314   \n",
       "Economy (GDP per Capita)                           0.119841      0.157817   \n",
       "Family                                             0.134345      0.073285   \n",
       "Health (Life Expectancy)                           0.159162      0.201381   \n",
       "Freedom                                           -0.182865      0.009274   \n",
       "Trust (Government Corruption)                     -0.223013     -0.014517   \n",
       "Generosity                                        -0.240063     -0.030676   \n",
       "Year                                              -0.002514      0.000902   \n",
       "Dystopia Residual                                 -0.050233     -0.143946   \n",
       "CENTRAL AND EASTERN EUROPE                         1.000000     -0.094890   \n",
       "EASTERN ASIA                                      -0.094890      1.000000   \n",
       "LATIN AMERICA AND CARIBBEAN                       -0.191195     -0.080382   \n",
       "MIDDLE EAST AND NORTHERN AFRICA                   -0.177723     -0.074718   \n",
       "NORTH AMERICA                                     -0.054071     -0.022732   \n",
       "SOUTHEASTERN ASIA                                 -0.116003     -0.048770   \n",
       "SOUTHERN ASIA                                     -0.102836     -0.043234   \n",
       "SUB-SAHARAN AFRICA                                -0.276629     -0.116300   \n",
       "WESTERN EUROPE                                    -0.188127     -0.079092   \n",
       "\n",
       "                                 LATIN AMERICA AND CARIBBEAN  \\\n",
       "Happiness Rank                                     -0.257989   \n",
       "Happiness Score                                     0.229203   \n",
       "Economy (GDP per Capita)                            0.020146   \n",
       "Family                                              0.126087   \n",
       "Health (Life Expectancy)                            0.104358   \n",
       "Freedom                                             0.136967   \n",
       "Trust (Government Corruption)                      -0.121140   \n",
       "Generosity                                         -0.108849   \n",
       "Year                                               -0.016430   \n",
       "Dystopia Residual                                   0.337798   \n",
       "CENTRAL AND EASTERN EUROPE                         -0.191195   \n",
       "EASTERN ASIA                                       -0.080382   \n",
       "LATIN AMERICA AND CARIBBEAN                         1.000000   \n",
       "MIDDLE EAST AND NORTHERN AFRICA                    -0.150549   \n",
       "NORTH AMERICA                                      -0.045803   \n",
       "SOUTHEASTERN ASIA                                  -0.098266   \n",
       "SOUTHERN ASIA                                      -0.087112   \n",
       "SUB-SAHARAN AFRICA                                 -0.234332   \n",
       "WESTERN EUROPE                                     -0.159362   \n",
       "\n",
       "                                 MIDDLE EAST AND NORTHERN AFRICA  \\\n",
       "Happiness Rank                                          0.007160   \n",
       "Happiness Score                                        -0.013881   \n",
       "Economy (GDP per Capita)                                0.171464   \n",
       "Family                                                 -0.096466   \n",
       "Health (Life Expectancy)                                0.080123   \n",
       "Freedom                                                -0.152814   \n",
       "Trust (Government Corruption)                           0.073648   \n",
       "Generosity                                             -0.123341   \n",
       "Year                                                   -0.003813   \n",
       "Dystopia Residual                                      -0.077200   \n",
       "CENTRAL AND EASTERN EUROPE                             -0.177723   \n",
       "EASTERN ASIA                                           -0.074718   \n",
       "LATIN AMERICA AND CARIBBEAN                            -0.150549   \n",
       "MIDDLE EAST AND NORTHERN AFRICA                         1.000000   \n",
       "NORTH AMERICA                                          -0.042576   \n",
       "SOUTHEASTERN ASIA                                      -0.091342   \n",
       "SOUTHERN ASIA                                          -0.080974   \n",
       "SUB-SAHARAN AFRICA                                     -0.217821   \n",
       "WESTERN EUROPE                                         -0.148133   \n",
       "\n",
       "                                 NORTH AMERICA  SOUTHEASTERN ASIA  \\\n",
       "Happiness Rank                       -0.169882           0.009989   \n",
       "Happiness Score                       0.181384          -0.009490   \n",
       "Economy (GDP per Capita)              0.141467          -0.013621   \n",
       "Family                                0.096624           0.011329   \n",
       "Health (Life Expectancy)              0.114052           0.022667   \n",
       "Freedom                               0.110121           0.211970   \n",
       "Trust (Government Corruption)         0.104932           0.024089   \n",
       "Generosity                            0.143160           0.330816   \n",
       "Year                                  0.000514           0.001102   \n",
       "Dystopia Residual                     0.074128          -0.161635   \n",
       "CENTRAL AND EASTERN EUROPE           -0.054071          -0.116003   \n",
       "EASTERN ASIA                         -0.022732          -0.048770   \n",
       "LATIN AMERICA AND CARIBBEAN          -0.045803          -0.098266   \n",
       "MIDDLE EAST AND NORTHERN AFRICA      -0.042576          -0.091342   \n",
       "NORTH AMERICA                         1.000000          -0.027790   \n",
       "SOUTHEASTERN ASIA                    -0.027790           1.000000   \n",
       "SOUTHERN ASIA                        -0.024636          -0.052853   \n",
       "SUB-SAHARAN AFRICA                   -0.066270          -0.142175   \n",
       "WESTERN EUROPE                       -0.045068          -0.096689   \n",
       "\n",
       "                                 SOUTHERN ASIA  SUB-SAHARAN AFRICA  \\\n",
       "Happiness Rank                        0.161835            0.616554   \n",
       "Happiness Score                      -0.153374           -0.603930   \n",
       "Economy (GDP per Capita)             -0.147415           -0.658048   \n",
       "Family                               -0.180454           -0.400013   \n",
       "Health (Life Expectancy)             -0.086642           -0.762491   \n",
       "Freedom                              -0.025819           -0.212095   \n",
       "Trust (Government Corruption)        -0.051770           -0.113238   \n",
       "Generosity                            0.145753           -0.053741   \n",
       "Year                                  0.000977            0.010933   \n",
       "Dystopia Residual                    -0.072402           -0.073142   \n",
       "CENTRAL AND EASTERN EUROPE           -0.102836           -0.276629   \n",
       "EASTERN ASIA                         -0.043234           -0.116300   \n",
       "LATIN AMERICA AND CARIBBEAN          -0.087112           -0.234332   \n",
       "MIDDLE EAST AND NORTHERN AFRICA      -0.080974           -0.217821   \n",
       "NORTH AMERICA                        -0.024636           -0.066270   \n",
       "SOUTHEASTERN ASIA                    -0.052853           -0.142175   \n",
       "SOUTHERN ASIA                         1.000000           -0.126038   \n",
       "SUB-SAHARAN AFRICA                   -0.126038            1.000000   \n",
       "WESTERN EUROPE                       -0.085714           -0.230572   \n",
       "\n",
       "                                 WESTERN EUROPE  \n",
       "Happiness Rank                        -0.450569  \n",
       "Happiness Score                        0.473656  \n",
       "Economy (GDP per Capita)               0.438308  \n",
       "Family                                 0.310224  \n",
       "Health (Life Expectancy)               0.448874  \n",
       "Freedom                                0.266977  \n",
       "Trust (Government Corruption)          0.355407  \n",
       "Generosity                             0.165044  \n",
       "Year                                   0.007062  \n",
       "Dystopia Residual                      0.077495  \n",
       "CENTRAL AND EASTERN EUROPE            -0.188127  \n",
       "EASTERN ASIA                          -0.079092  \n",
       "LATIN AMERICA AND CARIBBEAN           -0.159362  \n",
       "MIDDLE EAST AND NORTHERN AFRICA       -0.148133  \n",
       "NORTH AMERICA                         -0.045068  \n",
       "SOUTHEASTERN ASIA                     -0.096689  \n",
       "SOUTHERN ASIA                         -0.085714  \n",
       "SUB-SAHARAN AFRICA                    -0.230572  \n",
       "WESTERN EUROPE                         1.000000  "
      ]
     },
     "execution_count": 19,
     "metadata": {},
     "output_type": "execute_result"
    }
   ],
   "source": [
    "# Let's check the overall correlations. Most of the variables are positively correlated. \n",
    "# Generosity is the one with more negative and lower correlations and the lower correlation with Happiness Score.\n",
    "# Economy Gdp and Health (life expectancy) seen to be the ones with higher correlation with Happiness Score and they have a good correlation between them 0.74.\n",
    "# Column year doesn't mean anything in this case.\n",
    "\n",
    "tables.corr()"
   ]
  },
  {
   "cell_type": "code",
   "execution_count": 20,
   "metadata": {},
   "outputs": [
    {
     "data": {
      "text/html": [
       "<div>\n",
       "<style scoped>\n",
       "    .dataframe tbody tr th:only-of-type {\n",
       "        vertical-align: middle;\n",
       "    }\n",
       "\n",
       "    .dataframe tbody tr th {\n",
       "        vertical-align: top;\n",
       "    }\n",
       "\n",
       "    .dataframe thead th {\n",
       "        text-align: right;\n",
       "    }\n",
       "</style>\n",
       "<table border=\"1\" class=\"dataframe\">\n",
       "  <thead>\n",
       "    <tr style=\"text-align: right;\">\n",
       "      <th></th>\n",
       "      <th>Happiness Score</th>\n",
       "      <th>Dystopia Residual</th>\n",
       "    </tr>\n",
       "  </thead>\n",
       "  <tbody>\n",
       "    <tr>\n",
       "      <th>Happiness Rank</th>\n",
       "      <td>-0.992066</td>\n",
       "      <td>-0.469515</td>\n",
       "    </tr>\n",
       "    <tr>\n",
       "      <th>Happiness Score</th>\n",
       "      <td>1.000000</td>\n",
       "      <td>0.474940</td>\n",
       "    </tr>\n",
       "    <tr>\n",
       "      <th>Economy (GDP per Capita)</th>\n",
       "      <td>0.789284</td>\n",
       "      <td>0.020577</td>\n",
       "    </tr>\n",
       "    <tr>\n",
       "      <th>Family</th>\n",
       "      <td>0.648799</td>\n",
       "      <td>-0.093039</td>\n",
       "    </tr>\n",
       "    <tr>\n",
       "      <th>Health (Life Expectancy)</th>\n",
       "      <td>0.742456</td>\n",
       "      <td>0.001125</td>\n",
       "    </tr>\n",
       "    <tr>\n",
       "      <th>Freedom</th>\n",
       "      <td>0.551258</td>\n",
       "      <td>0.041099</td>\n",
       "    </tr>\n",
       "    <tr>\n",
       "      <th>Trust (Government Corruption)</th>\n",
       "      <td>0.400103</td>\n",
       "      <td>0.012282</td>\n",
       "    </tr>\n",
       "    <tr>\n",
       "      <th>Generosity</th>\n",
       "      <td>0.137578</td>\n",
       "      <td>-0.053444</td>\n",
       "    </tr>\n",
       "    <tr>\n",
       "      <th>Year</th>\n",
       "      <td>0.007065</td>\n",
       "      <td>-0.213523</td>\n",
       "    </tr>\n",
       "    <tr>\n",
       "      <th>Dystopia Residual</th>\n",
       "      <td>0.474940</td>\n",
       "      <td>1.000000</td>\n",
       "    </tr>\n",
       "    <tr>\n",
       "      <th>CENTRAL AND EASTERN EUROPE</th>\n",
       "      <td>0.021022</td>\n",
       "      <td>-0.050233</td>\n",
       "    </tr>\n",
       "    <tr>\n",
       "      <th>EASTERN ASIA</th>\n",
       "      <td>0.048314</td>\n",
       "      <td>-0.143946</td>\n",
       "    </tr>\n",
       "    <tr>\n",
       "      <th>LATIN AMERICA AND CARIBBEAN</th>\n",
       "      <td>0.229203</td>\n",
       "      <td>0.337798</td>\n",
       "    </tr>\n",
       "    <tr>\n",
       "      <th>MIDDLE EAST AND NORTHERN AFRICA</th>\n",
       "      <td>-0.013881</td>\n",
       "      <td>-0.077200</td>\n",
       "    </tr>\n",
       "    <tr>\n",
       "      <th>NORTH AMERICA</th>\n",
       "      <td>0.181384</td>\n",
       "      <td>0.074128</td>\n",
       "    </tr>\n",
       "    <tr>\n",
       "      <th>SOUTHEASTERN ASIA</th>\n",
       "      <td>-0.009490</td>\n",
       "      <td>-0.161635</td>\n",
       "    </tr>\n",
       "    <tr>\n",
       "      <th>SOUTHERN ASIA</th>\n",
       "      <td>-0.153374</td>\n",
       "      <td>-0.072402</td>\n",
       "    </tr>\n",
       "    <tr>\n",
       "      <th>SUB-SAHARAN AFRICA</th>\n",
       "      <td>-0.603930</td>\n",
       "      <td>-0.073142</td>\n",
       "    </tr>\n",
       "    <tr>\n",
       "      <th>WESTERN EUROPE</th>\n",
       "      <td>0.473656</td>\n",
       "      <td>0.077495</td>\n",
       "    </tr>\n",
       "  </tbody>\n",
       "</table>\n",
       "</div>"
      ],
      "text/plain": [
       "                                 Happiness Score  Dystopia Residual\n",
       "Happiness Rank                         -0.992066          -0.469515\n",
       "Happiness Score                         1.000000           0.474940\n",
       "Economy (GDP per Capita)                0.789284           0.020577\n",
       "Family                                  0.648799          -0.093039\n",
       "Health (Life Expectancy)                0.742456           0.001125\n",
       "Freedom                                 0.551258           0.041099\n",
       "Trust (Government Corruption)           0.400103           0.012282\n",
       "Generosity                              0.137578          -0.053444\n",
       "Year                                    0.007065          -0.213523\n",
       "Dystopia Residual                       0.474940           1.000000\n",
       "CENTRAL AND EASTERN EUROPE              0.021022          -0.050233\n",
       "EASTERN ASIA                            0.048314          -0.143946\n",
       "LATIN AMERICA AND CARIBBEAN             0.229203           0.337798\n",
       "MIDDLE EAST AND NORTHERN AFRICA        -0.013881          -0.077200\n",
       "NORTH AMERICA                           0.181384           0.074128\n",
       "SOUTHEASTERN ASIA                      -0.009490          -0.161635\n",
       "SOUTHERN ASIA                          -0.153374          -0.072402\n",
       "SUB-SAHARAN AFRICA                     -0.603930          -0.073142\n",
       "WESTERN EUROPE                          0.473656           0.077495"
      ]
     },
     "execution_count": 20,
     "metadata": {},
     "output_type": "execute_result"
    }
   ],
   "source": [
    "# Here let's zoom in just the correlations to our variable Happiness Score and Dystopia Residuals.\n",
    "# We can see some differences between the correlations, for example Family have a strong positive correlation with Happinness Score but low with Dystopia Residual.\n",
    "\n",
    "tables.corr()[['Happiness Score', 'Dystopia Residual']]"
   ]
  },
  {
   "cell_type": "code",
   "execution_count": 21,
   "metadata": {},
   "outputs": [
    {
     "data": {
      "application/vnd.plotly.v1+json": {
       "config": {
        "plotlyServerURL": "https://plot.ly"
       },
       "data": [
        {
         "hovertemplate": "variable=Happiness Score<br>Region=%{x}<br>value=%{y}<extra></extra>",
         "legendgroup": "Happiness Score",
         "marker": {
          "color": "#636efa",
          "symbol": "circle"
         },
         "mode": "markers",
         "name": "Happiness Score",
         "orientation": "v",
         "showlegend": true,
         "type": "scatter",
         "x": [
          "SUB-SAHARAN AFRICA",
          "SOUTHERN ASIA",
          "SOUTHEASTERN ASIA",
          "MIDDLE EAST AND NORTHERN AFRICA",
          "CENTRAL AND EASTERN EUROPE",
          "EASTERN ASIA",
          "LATIN AMERICA AND CARIBBEAN",
          "WESTERN EUROPE",
          "NORTH AMERICA",
          "AUSTRALIA AND NEW ZEALAND"
         ],
         "xaxis": "x",
         "y": [
          4.21037373825998,
          4.580657140840803,
          5.3352272730740635,
          5.337208330114682,
          5.428875000079473,
          5.651566654586792,
          6.020724773074509,
          6.72675472032799,
          7.1747000015258795,
          7.294600004959106
         ],
         "yaxis": "y"
        }
       ],
       "layout": {
        "legend": {
         "title": {
          "text": "variable"
         },
         "tracegroupgap": 0
        },
        "margin": {
         "t": 60
        },
        "template": {
         "data": {
          "bar": [
           {
            "error_x": {
             "color": "#2a3f5f"
            },
            "error_y": {
             "color": "#2a3f5f"
            },
            "marker": {
             "line": {
              "color": "#E5ECF6",
              "width": 0.5
             },
             "pattern": {
              "fillmode": "overlay",
              "size": 10,
              "solidity": 0.2
             }
            },
            "type": "bar"
           }
          ],
          "barpolar": [
           {
            "marker": {
             "line": {
              "color": "#E5ECF6",
              "width": 0.5
             },
             "pattern": {
              "fillmode": "overlay",
              "size": 10,
              "solidity": 0.2
             }
            },
            "type": "barpolar"
           }
          ],
          "carpet": [
           {
            "aaxis": {
             "endlinecolor": "#2a3f5f",
             "gridcolor": "white",
             "linecolor": "white",
             "minorgridcolor": "white",
             "startlinecolor": "#2a3f5f"
            },
            "baxis": {
             "endlinecolor": "#2a3f5f",
             "gridcolor": "white",
             "linecolor": "white",
             "minorgridcolor": "white",
             "startlinecolor": "#2a3f5f"
            },
            "type": "carpet"
           }
          ],
          "choropleth": [
           {
            "colorbar": {
             "outlinewidth": 0,
             "ticks": ""
            },
            "type": "choropleth"
           }
          ],
          "contour": [
           {
            "colorbar": {
             "outlinewidth": 0,
             "ticks": ""
            },
            "colorscale": [
             [
              0,
              "#0d0887"
             ],
             [
              0.1111111111111111,
              "#46039f"
             ],
             [
              0.2222222222222222,
              "#7201a8"
             ],
             [
              0.3333333333333333,
              "#9c179e"
             ],
             [
              0.4444444444444444,
              "#bd3786"
             ],
             [
              0.5555555555555556,
              "#d8576b"
             ],
             [
              0.6666666666666666,
              "#ed7953"
             ],
             [
              0.7777777777777778,
              "#fb9f3a"
             ],
             [
              0.8888888888888888,
              "#fdca26"
             ],
             [
              1,
              "#f0f921"
             ]
            ],
            "type": "contour"
           }
          ],
          "contourcarpet": [
           {
            "colorbar": {
             "outlinewidth": 0,
             "ticks": ""
            },
            "type": "contourcarpet"
           }
          ],
          "heatmap": [
           {
            "colorbar": {
             "outlinewidth": 0,
             "ticks": ""
            },
            "colorscale": [
             [
              0,
              "#0d0887"
             ],
             [
              0.1111111111111111,
              "#46039f"
             ],
             [
              0.2222222222222222,
              "#7201a8"
             ],
             [
              0.3333333333333333,
              "#9c179e"
             ],
             [
              0.4444444444444444,
              "#bd3786"
             ],
             [
              0.5555555555555556,
              "#d8576b"
             ],
             [
              0.6666666666666666,
              "#ed7953"
             ],
             [
              0.7777777777777778,
              "#fb9f3a"
             ],
             [
              0.8888888888888888,
              "#fdca26"
             ],
             [
              1,
              "#f0f921"
             ]
            ],
            "type": "heatmap"
           }
          ],
          "heatmapgl": [
           {
            "colorbar": {
             "outlinewidth": 0,
             "ticks": ""
            },
            "colorscale": [
             [
              0,
              "#0d0887"
             ],
             [
              0.1111111111111111,
              "#46039f"
             ],
             [
              0.2222222222222222,
              "#7201a8"
             ],
             [
              0.3333333333333333,
              "#9c179e"
             ],
             [
              0.4444444444444444,
              "#bd3786"
             ],
             [
              0.5555555555555556,
              "#d8576b"
             ],
             [
              0.6666666666666666,
              "#ed7953"
             ],
             [
              0.7777777777777778,
              "#fb9f3a"
             ],
             [
              0.8888888888888888,
              "#fdca26"
             ],
             [
              1,
              "#f0f921"
             ]
            ],
            "type": "heatmapgl"
           }
          ],
          "histogram": [
           {
            "marker": {
             "pattern": {
              "fillmode": "overlay",
              "size": 10,
              "solidity": 0.2
             }
            },
            "type": "histogram"
           }
          ],
          "histogram2d": [
           {
            "colorbar": {
             "outlinewidth": 0,
             "ticks": ""
            },
            "colorscale": [
             [
              0,
              "#0d0887"
             ],
             [
              0.1111111111111111,
              "#46039f"
             ],
             [
              0.2222222222222222,
              "#7201a8"
             ],
             [
              0.3333333333333333,
              "#9c179e"
             ],
             [
              0.4444444444444444,
              "#bd3786"
             ],
             [
              0.5555555555555556,
              "#d8576b"
             ],
             [
              0.6666666666666666,
              "#ed7953"
             ],
             [
              0.7777777777777778,
              "#fb9f3a"
             ],
             [
              0.8888888888888888,
              "#fdca26"
             ],
             [
              1,
              "#f0f921"
             ]
            ],
            "type": "histogram2d"
           }
          ],
          "histogram2dcontour": [
           {
            "colorbar": {
             "outlinewidth": 0,
             "ticks": ""
            },
            "colorscale": [
             [
              0,
              "#0d0887"
             ],
             [
              0.1111111111111111,
              "#46039f"
             ],
             [
              0.2222222222222222,
              "#7201a8"
             ],
             [
              0.3333333333333333,
              "#9c179e"
             ],
             [
              0.4444444444444444,
              "#bd3786"
             ],
             [
              0.5555555555555556,
              "#d8576b"
             ],
             [
              0.6666666666666666,
              "#ed7953"
             ],
             [
              0.7777777777777778,
              "#fb9f3a"
             ],
             [
              0.8888888888888888,
              "#fdca26"
             ],
             [
              1,
              "#f0f921"
             ]
            ],
            "type": "histogram2dcontour"
           }
          ],
          "mesh3d": [
           {
            "colorbar": {
             "outlinewidth": 0,
             "ticks": ""
            },
            "type": "mesh3d"
           }
          ],
          "parcoords": [
           {
            "line": {
             "colorbar": {
              "outlinewidth": 0,
              "ticks": ""
             }
            },
            "type": "parcoords"
           }
          ],
          "pie": [
           {
            "automargin": true,
            "type": "pie"
           }
          ],
          "scatter": [
           {
            "fillpattern": {
             "fillmode": "overlay",
             "size": 10,
             "solidity": 0.2
            },
            "type": "scatter"
           }
          ],
          "scatter3d": [
           {
            "line": {
             "colorbar": {
              "outlinewidth": 0,
              "ticks": ""
             }
            },
            "marker": {
             "colorbar": {
              "outlinewidth": 0,
              "ticks": ""
             }
            },
            "type": "scatter3d"
           }
          ],
          "scattercarpet": [
           {
            "marker": {
             "colorbar": {
              "outlinewidth": 0,
              "ticks": ""
             }
            },
            "type": "scattercarpet"
           }
          ],
          "scattergeo": [
           {
            "marker": {
             "colorbar": {
              "outlinewidth": 0,
              "ticks": ""
             }
            },
            "type": "scattergeo"
           }
          ],
          "scattergl": [
           {
            "marker": {
             "colorbar": {
              "outlinewidth": 0,
              "ticks": ""
             }
            },
            "type": "scattergl"
           }
          ],
          "scattermapbox": [
           {
            "marker": {
             "colorbar": {
              "outlinewidth": 0,
              "ticks": ""
             }
            },
            "type": "scattermapbox"
           }
          ],
          "scatterpolar": [
           {
            "marker": {
             "colorbar": {
              "outlinewidth": 0,
              "ticks": ""
             }
            },
            "type": "scatterpolar"
           }
          ],
          "scatterpolargl": [
           {
            "marker": {
             "colorbar": {
              "outlinewidth": 0,
              "ticks": ""
             }
            },
            "type": "scatterpolargl"
           }
          ],
          "scatterternary": [
           {
            "marker": {
             "colorbar": {
              "outlinewidth": 0,
              "ticks": ""
             }
            },
            "type": "scatterternary"
           }
          ],
          "surface": [
           {
            "colorbar": {
             "outlinewidth": 0,
             "ticks": ""
            },
            "colorscale": [
             [
              0,
              "#0d0887"
             ],
             [
              0.1111111111111111,
              "#46039f"
             ],
             [
              0.2222222222222222,
              "#7201a8"
             ],
             [
              0.3333333333333333,
              "#9c179e"
             ],
             [
              0.4444444444444444,
              "#bd3786"
             ],
             [
              0.5555555555555556,
              "#d8576b"
             ],
             [
              0.6666666666666666,
              "#ed7953"
             ],
             [
              0.7777777777777778,
              "#fb9f3a"
             ],
             [
              0.8888888888888888,
              "#fdca26"
             ],
             [
              1,
              "#f0f921"
             ]
            ],
            "type": "surface"
           }
          ],
          "table": [
           {
            "cells": {
             "fill": {
              "color": "#EBF0F8"
             },
             "line": {
              "color": "white"
             }
            },
            "header": {
             "fill": {
              "color": "#C8D4E3"
             },
             "line": {
              "color": "white"
             }
            },
            "type": "table"
           }
          ]
         },
         "layout": {
          "annotationdefaults": {
           "arrowcolor": "#2a3f5f",
           "arrowhead": 0,
           "arrowwidth": 1
          },
          "autotypenumbers": "strict",
          "coloraxis": {
           "colorbar": {
            "outlinewidth": 0,
            "ticks": ""
           }
          },
          "colorscale": {
           "diverging": [
            [
             0,
             "#8e0152"
            ],
            [
             0.1,
             "#c51b7d"
            ],
            [
             0.2,
             "#de77ae"
            ],
            [
             0.3,
             "#f1b6da"
            ],
            [
             0.4,
             "#fde0ef"
            ],
            [
             0.5,
             "#f7f7f7"
            ],
            [
             0.6,
             "#e6f5d0"
            ],
            [
             0.7,
             "#b8e186"
            ],
            [
             0.8,
             "#7fbc41"
            ],
            [
             0.9,
             "#4d9221"
            ],
            [
             1,
             "#276419"
            ]
           ],
           "sequential": [
            [
             0,
             "#0d0887"
            ],
            [
             0.1111111111111111,
             "#46039f"
            ],
            [
             0.2222222222222222,
             "#7201a8"
            ],
            [
             0.3333333333333333,
             "#9c179e"
            ],
            [
             0.4444444444444444,
             "#bd3786"
            ],
            [
             0.5555555555555556,
             "#d8576b"
            ],
            [
             0.6666666666666666,
             "#ed7953"
            ],
            [
             0.7777777777777778,
             "#fb9f3a"
            ],
            [
             0.8888888888888888,
             "#fdca26"
            ],
            [
             1,
             "#f0f921"
            ]
           ],
           "sequentialminus": [
            [
             0,
             "#0d0887"
            ],
            [
             0.1111111111111111,
             "#46039f"
            ],
            [
             0.2222222222222222,
             "#7201a8"
            ],
            [
             0.3333333333333333,
             "#9c179e"
            ],
            [
             0.4444444444444444,
             "#bd3786"
            ],
            [
             0.5555555555555556,
             "#d8576b"
            ],
            [
             0.6666666666666666,
             "#ed7953"
            ],
            [
             0.7777777777777778,
             "#fb9f3a"
            ],
            [
             0.8888888888888888,
             "#fdca26"
            ],
            [
             1,
             "#f0f921"
            ]
           ]
          },
          "colorway": [
           "#636efa",
           "#EF553B",
           "#00cc96",
           "#ab63fa",
           "#FFA15A",
           "#19d3f3",
           "#FF6692",
           "#B6E880",
           "#FF97FF",
           "#FECB52"
          ],
          "font": {
           "color": "#2a3f5f"
          },
          "geo": {
           "bgcolor": "white",
           "lakecolor": "white",
           "landcolor": "#E5ECF6",
           "showlakes": true,
           "showland": true,
           "subunitcolor": "white"
          },
          "hoverlabel": {
           "align": "left"
          },
          "hovermode": "closest",
          "mapbox": {
           "style": "light"
          },
          "paper_bgcolor": "white",
          "plot_bgcolor": "#E5ECF6",
          "polar": {
           "angularaxis": {
            "gridcolor": "white",
            "linecolor": "white",
            "ticks": ""
           },
           "bgcolor": "#E5ECF6",
           "radialaxis": {
            "gridcolor": "white",
            "linecolor": "white",
            "ticks": ""
           }
          },
          "scene": {
           "xaxis": {
            "backgroundcolor": "#E5ECF6",
            "gridcolor": "white",
            "gridwidth": 2,
            "linecolor": "white",
            "showbackground": true,
            "ticks": "",
            "zerolinecolor": "white"
           },
           "yaxis": {
            "backgroundcolor": "#E5ECF6",
            "gridcolor": "white",
            "gridwidth": 2,
            "linecolor": "white",
            "showbackground": true,
            "ticks": "",
            "zerolinecolor": "white"
           },
           "zaxis": {
            "backgroundcolor": "#E5ECF6",
            "gridcolor": "white",
            "gridwidth": 2,
            "linecolor": "white",
            "showbackground": true,
            "ticks": "",
            "zerolinecolor": "white"
           }
          },
          "shapedefaults": {
           "line": {
            "color": "#2a3f5f"
           }
          },
          "ternary": {
           "aaxis": {
            "gridcolor": "white",
            "linecolor": "white",
            "ticks": ""
           },
           "baxis": {
            "gridcolor": "white",
            "linecolor": "white",
            "ticks": ""
           },
           "bgcolor": "#E5ECF6",
           "caxis": {
            "gridcolor": "white",
            "linecolor": "white",
            "ticks": ""
           }
          },
          "title": {
           "x": 0.05
          },
          "xaxis": {
           "automargin": true,
           "gridcolor": "white",
           "linecolor": "white",
           "ticks": "",
           "title": {
            "standoff": 15
           },
           "zerolinecolor": "white",
           "zerolinewidth": 2
          },
          "yaxis": {
           "automargin": true,
           "gridcolor": "white",
           "linecolor": "white",
           "ticks": "",
           "title": {
            "standoff": 15
           },
           "zerolinecolor": "white",
           "zerolinewidth": 2
          }
         }
        },
        "xaxis": {
         "anchor": "y",
         "domain": [
          0,
          1
         ],
         "title": {
          "text": "Region"
         }
        },
        "yaxis": {
         "anchor": "x",
         "domain": [
          0,
          1
         ],
         "title": {
          "text": "value"
         }
        }
       }
      }
     },
     "metadata": {},
     "output_type": "display_data"
    }
   ],
   "source": [
    "# Let's see the mean Happiness Score by Region.\n",
    "px.scatter(tables.groupby('Region').mean()['Happiness Score'].sort_values())"
   ]
  },
  {
   "cell_type": "markdown",
   "metadata": {},
   "source": [
    "# Models\n",
    "\n",
    "I'll use a Linear Regression and a random forest, I really like this models because they are easy to understand and to explain, maybe you can have more developed models that offers sometimes better results, but the trade-off between explainability and results is always important to take in count."
   ]
  },
  {
   "cell_type": "code",
   "execution_count": 34,
   "metadata": {},
   "outputs": [],
   "source": [
    "# Create variable X with the columns that we will use as predictors, and y with the target variable.\n",
    "# I will not use Country because that is irrelevant. \n",
    "# I decied to try region because are many theories that having developed neighbours helps a country to develop, but this is far way more developed analysis.\n",
    "# For simplicity I keeped Regions out, because the improvement in accuraccy was too low, and is much simplier to read without them.\n",
    "X = tables[['Economy (GDP per Capita)', 'Family', 'Health (Life Expectancy)',\n",
    "       'Freedom', 'Trust (Government Corruption)', 'Generosity']].copy()\n",
    "y = tables['Happiness Score'].copy()"
   ]
  },
  {
   "cell_type": "code",
   "execution_count": 35,
   "metadata": {},
   "outputs": [
    {
     "name": "stdout",
     "output_type": "stream",
     "text": [
      "Test size : (235, 6) \n",
      "Train size : (547, 6)\n"
     ]
    }
   ],
   "source": [
    "# Let's split between test and train set, if we were going to do hyperparameters engineering we should add a part for validating.\n",
    "X_train, X_test, y_train, y_test = train_test_split(X, y, test_size=0.3, random_state=0)\n",
    "print('Test size :', X_test.shape, '\\nTrain size :', X_train.shape)"
   ]
  },
  {
   "cell_type": "code",
   "execution_count": 36,
   "metadata": {},
   "outputs": [],
   "source": [
    "# Create our linear model.\n",
    "linear_model = LinearRegression()"
   ]
  },
  {
   "cell_type": "code",
   "execution_count": 55,
   "metadata": {},
   "outputs": [
    {
     "name": "stdout",
     "output_type": "stream",
     "text": [
      "Variable: Economy (GDP per Capita) coef: 1.15\n",
      "Variable: Family               coef: 0.58\n",
      "Variable: Health (Life Expectancy) coef: 1.14\n",
      "Variable: Freedom              coef: 1.58\n",
      "Variable: Trust (Government Corruption) coef: 0.97\n",
      "Variable: Generosity           coef: 0.33\n"
     ]
    }
   ],
   "source": [
    "# Let's fit the variables to the model.\n",
    "linear_model.fit(X_train, y_train)\n",
    "\n",
    "# See their coeficients.\n",
    "linear_coef = [(feature, round(importance, 2)) for feature, importance in zip(X.columns, linear_model.coef_)]\n",
    "[print('Variable: {:20} coef: {}'.format(*pair)) for pair in linear_coef];"
   ]
  },
  {
   "cell_type": "code",
   "execution_count": null,
   "metadata": {},
   "outputs": [],
   "source": [
    "# Here we have the coefficients, we can send it to the governator, saying apply this to your main ideas to reach the highest score possible in happiness."
   ]
  },
  {
   "cell_type": "code",
   "execution_count": 44,
   "metadata": {},
   "outputs": [
    {
     "name": "stdout",
     "output_type": "stream",
     "text": [
      "Linear Model R2: 71.76 %.\n"
     ]
    }
   ],
   "source": [
    "# Let's predict for the test set.\n",
    "y_pred_linear = linear_model.predict(X_test)\n",
    "\n",
    "# Now let's see the R2.\n",
    "print('Linear Model R2:', round(sklearn.metrics.r2_score(y_test, y_pred_linear) * 100, 2), '%.')\n",
    "\n",
    "# The model could predict 72% of the variation, taking in count that we have an important variable that we are not including as Dystopia Residual, I think the models perform pretty well."
   ]
  },
  {
   "cell_type": "code",
   "execution_count": 40,
   "metadata": {},
   "outputs": [
    {
     "name": "stdout",
     "output_type": "stream",
     "text": [
      "Mean Absolute Error: 0.401 degrees.\n"
     ]
    }
   ],
   "source": [
    "# Instantiate model with 1000 decision trees\n",
    "forest = RandomForestRegressor(n_estimators = 1000, random_state = 0)\n",
    "# Train the model on training data\n",
    "forest.fit(X_train, y_train)\n",
    "# Let's predict for the test set.\n",
    "y_pred_forest= forest.predict(X_test)"
   ]
  },
  {
   "cell_type": "code",
   "execution_count": 42,
   "metadata": {},
   "outputs": [
    {
     "name": "stdout",
     "output_type": "stream",
     "text": [
      "Mean Absolute Error: 0.401 Happinnes Scoring points.\n",
      "R2: 91.85 %.\n"
     ]
    }
   ],
   "source": [
    "# Let's see the metrics of the random forest.\n",
    "# Calculate the absolute errors.\n",
    "errors = abs(y_pred_forest - y_test)\n",
    "# First the mean absolute error (mae).\n",
    "print('Mean Absolute Error:', round(np.mean(errors), 3), 'Happinnes Scoring points.')\n",
    "\n",
    "# Calculate and display r2.\n",
    "r2 = 100 - np.mean(100 * (errors / y_test))\n",
    "print('Forest R2:', round(r2, 2), '%.')"
   ]
  },
  {
   "cell_type": "code",
   "execution_count": 51,
   "metadata": {},
   "outputs": [
    {
     "name": "stdout",
     "output_type": "stream",
     "text": [
      "Variable: Economy (GDP per Capita) Importance: 0.39\n",
      "Variable: Health (Life Expectancy) Importance: 0.36\n",
      "Variable: Freedom              Importance: 0.11\n",
      "Variable: Family               Importance: 0.05\n",
      "Variable: Trust (Government Corruption) Importance: 0.04\n",
      "Variable: Generosity           Importance: 0.04\n"
     ]
    }
   ],
   "source": [
    "# Get numerical feature importances\n",
    "importances = list(forest.feature_importances_)\n",
    "# List of tuples with variable and importance\n",
    "feature_importances = [(feature, round(importance, 2)) for feature, importance in zip(X.columns, importances)]\n",
    "# Sort the feature importances by most important first\n",
    "feature_importances = sorted(feature_importances, key = lambda x: x[1], reverse = True)\n",
    "# Print out the feature importance.\n",
    "[print('Variable: {:20} Importance: {}'.format(*pair)) for pair in feature_importances];"
   ]
  },
  {
   "cell_type": "markdown",
   "metadata": {},
   "source": [
    "# Conclusions.\n",
    "- For sure there are left many work to do to improve this models, we can try to find some out information about other correlated variables, let's say for example the oil price could affect the happiness scoring (theory: more expensive oil less happy is the people). \n",
    "- The models could be worked further and try to do some hyperparameter testing to try to improve their accuraccy, but been carefull to don't doing over fitting of the data.\n",
    "- We are working with transformations of the real data, and we don't know how they are transformated, we can only see how much each variable sum to the world happiness scoring.\n",
    "- I think there are not much possible and easy analysis to do in this data set, not only because we don't have the entire information about the variables additionaly the variable Dystopia Residual is a hard thing to work with, because it's not easy to predict (because it depends on the minimum scoring of each variable for that year) and even not sure how it's calculated.\n",
    "- I really liked this dataset because, first I choose it liking the idea of World Happiness Scoring but after realizing that it doesn't contain the real variables just a transformation of them I find it challenging, added the variable Dystopia Residual it was a pleasure working on it.\n",
    "- We could add a plot of a random tree, and try to explain to the governator that is the way that a tree was choosing and working with the variables.\n",
    "- The presentation would be on slides, with the more relevant key points to the governator, and the importance of the coeficients allowing him to work with."
   ]
  }
 ],
 "metadata": {
  "kernelspec": {
   "display_name": "Python 3.9.13 ('base')",
   "language": "python",
   "name": "python3"
  },
  "language_info": {
   "codemirror_mode": {
    "name": "ipython",
    "version": 3
   },
   "file_extension": ".py",
   "mimetype": "text/x-python",
   "name": "python",
   "nbconvert_exporter": "python",
   "pygments_lexer": "ipython3",
   "version": "3.9.13"
  },
  "orig_nbformat": 4,
  "vscode": {
   "interpreter": {
    "hash": "cd78fef2128015050713e82ca51c6520b11aee7c9ee8df750520bbbc7384cbaa"
   }
  }
 },
 "nbformat": 4,
 "nbformat_minor": 2
}

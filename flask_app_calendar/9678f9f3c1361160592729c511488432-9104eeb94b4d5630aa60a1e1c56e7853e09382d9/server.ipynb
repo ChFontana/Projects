{
 "cells": [
  {
   "cell_type": "code",
   "execution_count": 1,
   "metadata": {},
   "outputs": [
    {
     "ename": "ModuleNotFoundError",
     "evalue": "No module named 'S2_lib'",
     "output_type": "error",
     "traceback": [
      "\u001b[1;31m---------------------------------------------------------------------------\u001b[0m",
      "\u001b[1;31mModuleNotFoundError\u001b[0m                       Traceback (most recent call last)",
      "Cell \u001b[1;32mIn[1], line 5\u001b[0m\n\u001b[0;32m      1\u001b[0m \u001b[39mimport\u001b[39;00m \u001b[39msys\u001b[39;00m\n\u001b[0;32m      3\u001b[0m \u001b[39mfrom\u001b[39;00m \u001b[39mflask\u001b[39;00m \u001b[39mimport\u001b[39;00m Flask, make_response, render_template, request\n\u001b[1;32m----> 5\u001b[0m \u001b[39mimport\u001b[39;00m \u001b[39mS2_lib\u001b[39;00m \u001b[39mas\u001b[39;00m \u001b[39mevt\u001b[39;00m\n",
      "\u001b[1;31mModuleNotFoundError\u001b[0m: No module named 'S2_lib'"
     ]
    }
   ],
   "source": [
    "import sys\n",
    "\n",
    "from flask import Flask, make_response, render_template, request\n",
    "\n",
    "import S2_lib as evt\n"
   ]
  },
  {
   "cell_type": "code",
   "execution_count": null,
   "metadata": {},
   "outputs": [],
   "source": [
    "# (A) INIT\n",
    "# (A1) LOAD MODULES\n",
    "\n",
    "# (A2) FLASK SETTINGS + INIT\n",
    "HOST_NAME = \"localhost\"\n",
    "HOST_PORT = 8080\n",
    "app = Flask(__name__)\n",
    "# app.debug = True\n",
    "\n",
    "\n",
    "# (B) ROUTES\n",
    "# (B1) CALENDAR PAGE\n",
    "@app.route(\"/\", methods=[\"GET\", \"POST\"])\n",
    "def index():\n",
    "    return render_template(\"S4A_calendar.html\")\n",
    "\n",
    "\n",
    "# (B2) ENDPOINT - GET EVENTS\n",
    "@app.route(\"/get/\", methods=[\"POST\"])\n",
    "def get():\n",
    "    data = dict(request.form)\n",
    "    events = evt.get(int(data[\"month\"]), int(data[\"year\"]))\n",
    "    return \"{}\" if events is None else events\n",
    "\n",
    "\n",
    "# (B3) ENDPOINT - SAVE EVENT\n",
    "@app.route(\"/save/\", methods=[\"POST\"])\n",
    "def save():\n",
    "    data = dict(request.form)\n",
    "    ok = evt.save(\n",
    "        data[\"s\"],\n",
    "        data[\"e\"],\n",
    "        data[\"t\"],\n",
    "        data[\"c\"],\n",
    "        data[\"b\"],\n",
    "        data[\"id\"] if \"id\" in data else None,\n",
    "    )\n",
    "    msg = \"OK\" if ok else sys.last_value\n",
    "    return make_response(msg, 200)\n",
    "\n",
    "\n",
    "# (B4) ENDPOINT - DELETE EVENT\n",
    "@app.route(\"/delete/\", methods=[\"POST\"])\n",
    "def delete():\n",
    "    data = dict(request.form)\n",
    "    ok = evt.delete(data[\"id\"])\n",
    "    msg = \"OK\" if ok else sys.last_value\n",
    "    return make_response(msg, 200)\n",
    "\n",
    "\n",
    "# (C) START\n",
    "if __name__ == \"__main__\":\n",
    "    app.run(HOST_NAME, HOST_PORT)"
   ]
  }
 ],
 "metadata": {
  "kernelspec": {
   "display_name": "Python 3",
   "language": "python",
   "name": "python3"
  },
  "language_info": {
   "codemirror_mode": {
    "name": "ipython",
    "version": 3
   },
   "file_extension": ".py",
   "mimetype": "text/x-python",
   "name": "python",
   "nbconvert_exporter": "python",
   "pygments_lexer": "ipython3",
   "version": "3.11.4"
  },
  "orig_nbformat": 4
 },
 "nbformat": 4,
 "nbformat_minor": 2
}

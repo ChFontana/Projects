{
 "cells": [
  {
   "cell_type": "code",
   "execution_count": 1,
   "metadata": {},
   "outputs": [],
   "source": [
    "import pandas as pd\n",
    "import urllib.request\n",
    "from urllib.parse import urlparse\n",
    "from bs4 import BeautifulSoup"
   ]
  },
  {
   "cell_type": "code",
   "execution_count": 2,
   "metadata": {},
   "outputs": [],
   "source": [
    "def get_page(url):\n",
    "    \"\"\"Scrapes a URL and returns the HTML source.\n",
    "\n",
    "    Args:\n",
    "        url (string): Fully qualified URL of a page.\n",
    "\n",
    "    Returns:\n",
    "        soup (string): HTML source of scraped page.\n",
    "    \"\"\"\n",
    "\n",
    "    response = urllib.request.urlopen(url)\n",
    "    soup = BeautifulSoup(response, \n",
    "                         'html.parser', \n",
    "                         from_encoding=response.info().get_param('charset'))\n",
    "\n",
    "    return soup"
   ]
  },
  {
   "cell_type": "code",
   "execution_count": 7,
   "metadata": {},
   "outputs": [],
   "source": [
    "soup = get_page('https://usualwines.com/')"
   ]
  },
  {
   "cell_type": "code",
   "execution_count": 6,
   "metadata": {},
   "outputs": [],
   "source": [
    "def get_description(soup):\n",
    "    \"\"\"Return the meta description content\n",
    "\n",
    "    Args:\n",
    "        soup: HTML code from Beautiful Soup\n",
    "        \n",
    "    Returns: \n",
    "        value (string): Parsed value\n",
    "    \"\"\"\n",
    "\n",
    "    if soup.findAll(\"meta\", attrs={\"name\": \"description\"}):\n",
    "        return soup.find(\"meta\", attrs={\"name\": \"description\"}).get(\"content\")\n",
    "    else:\n",
    "        return\n",
    "\n",
    "    return"
   ]
  },
  {
   "cell_type": "code",
   "execution_count": 8,
   "metadata": {},
   "outputs": [
    {
     "data": {
      "text/plain": [
       "'Our California wines are made with minimal intervention and no added sugars, shipped in single serve bottles for a fresh pour every time.'"
      ]
     },
     "execution_count": 8,
     "metadata": {},
     "output_type": "execute_result"
    }
   ],
   "source": [
    "meta = get_description(soup)\n",
    "meta"
   ]
  },
  {
   "cell_type": "code",
   "execution_count": 10,
   "metadata": {},
   "outputs": [],
   "source": [
    "def get_title(soup):\n",
    "    \"\"\"Return the page title\n",
    "\n",
    "    Args:\n",
    "        soup: HTML code from Beautiful Soup\n",
    "        \n",
    "    Returns: \n",
    "        value (string): Parsed value\n",
    "    \"\"\"\n",
    "\n",
    "    if soup.findAll(\"title\"):\n",
    "        return soup.find(\"title\").string\n",
    "    else:\n",
    "        return"
   ]
  },
  {
   "cell_type": "code",
   "execution_count": 11,
   "metadata": {},
   "outputs": [
    {
     "data": {
      "text/plain": [
       "'\\n  Usual Wines - Wine you can feel good about\\n  \\n  \\n  \\n'"
      ]
     },
     "execution_count": 11,
     "metadata": {},
     "output_type": "execute_result"
    }
   ],
   "source": [
    "title = get_title(soup)\n",
    "title"
   ]
  },
  {
   "cell_type": "code",
   "execution_count": 12,
   "metadata": {},
   "outputs": [],
   "source": [
    "df_pages = pd.DataFrame(columns = ['url', 'title', 'description'])"
   ]
  },
  {
   "cell_type": "code",
   "execution_count": null,
   "metadata": {},
   "outputs": [],
   "source": [
    "for index, row in df.iterrows(): \n",
    "\n",
    "    soup = get_page(row['loc'])\n",
    "    title = get_title(soup)\n",
    "    description = get_description(soup)\n",
    "\n",
    "    page = {\n",
    "        'url': row['loc'],\n",
    "        'title': title,\n",
    "        'description': description\n",
    "    }\n",
    "\n",
    "    df_pages = df_pages.append(page, ignore_index=True)"
   ]
  }
 ],
 "metadata": {
  "kernelspec": {
   "display_name": "Python 3",
   "language": "python",
   "name": "python3"
  },
  "language_info": {
   "codemirror_mode": {
    "name": "ipython",
    "version": 3
   },
   "file_extension": ".py",
   "mimetype": "text/x-python",
   "name": "python",
   "nbconvert_exporter": "python",
   "pygments_lexer": "ipython3",
   "version": "3.11.4"
  },
  "orig_nbformat": 4
 },
 "nbformat": 4,
 "nbformat_minor": 2
}
